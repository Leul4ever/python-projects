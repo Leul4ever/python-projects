{
 "cells": [
  {
   "cell_type": "code",
   "execution_count": 2,
   "id": "3ad15902",
   "metadata": {},
   "outputs": [
    {
     "name": "stdout",
     "output_type": "stream",
     "text": [
      "{'name': 'Leul', 'major': 'software', 'work': 'insa'}\n"
     ]
    }
   ],
   "source": [
    "dic = {\"name\": \"Leul\", \"major\": \"software\", \"work\": \"insa\"}\n",
    "print(dic)\n"
   ]
  },
  {
   "cell_type": "code",
   "execution_count": 4,
   "id": "77fabbbe",
   "metadata": {},
   "outputs": [
    {
     "name": "stdout",
     "output_type": "stream",
     "text": [
      "Leul\n"
     ]
    }
   ],
   "source": [
    "mod =dic['name' ]\n",
    "print(mod)"
   ]
  },
  {
   "cell_type": "code",
   "execution_count": 12,
   "id": "249b5ac3",
   "metadata": {},
   "outputs": [
    {
     "name": "stdout",
     "output_type": "stream",
     "text": [
      "dict_keys(['name', 'major', 'work'])\n"
     ]
    }
   ],
   "source": [
    "keys = dic.keys()\n",
    "print(keys)"
   ]
  },
  {
   "cell_type": "code",
   "execution_count": 11,
   "id": "1051312d",
   "metadata": {},
   "outputs": [
    {
     "name": "stdout",
     "output_type": "stream",
     "text": [
      "dict_values(['Leul', 'software', 'insa'])\n"
     ]
    }
   ],
   "source": [
    "values = dic.values()\n",
    "print(values)"
   ]
  },
  {
   "cell_type": "code",
   "execution_count": 15,
   "id": "0a86bea1",
   "metadata": {},
   "outputs": [
    {
     "name": "stdout",
     "output_type": "stream",
     "text": [
      "dict_items([('name', 'Leul'), ('major', 'software'), ('work', 'insa')])\n"
     ]
    }
   ],
   "source": [
    "items = dic.items()\n",
    "print(items)"
   ]
  },
  {
   "cell_type": "code",
   "execution_count": 1,
   "id": "16a73026",
   "metadata": {},
   "outputs": [
    {
     "name": "stdout",
     "output_type": "stream",
     "text": [
      "{'stu1': 'leul', 'stu2': 'dani', 'stu3': 'tem'}\n"
     ]
    }
   ],
   "source": [
    "student = {\"stu1\": \"leul\", \"stu2\": \"dani\", \"stu3\": \"tem\"}\n",
    "student_copy =student\n",
    "print(student)\n",
    "\n"
   ]
  },
  {
   "cell_type": "markdown",
   "id": "bcacf571",
   "metadata": {},
   "source": []
  },
  {
   "cell_type": "code",
   "execution_count": 17,
   "id": "371e547f",
   "metadata": {},
   "outputs": [
    {
     "name": "stdout",
     "output_type": "stream",
     "text": [
      "{'stu1': 'babi', 'stu2': 'dani', 'stu3': 'tem'}\n",
      "{'stu1': 'babi', 'stu2': 'dani', 'stu3': 'tem'}\n"
     ]
    }
   ],
   "source": [
    "student_copy= student.copy()\n",
    "\n",
    "student[\"stu1\"] = \"babi\"\n",
    "print(student_copy)\n",
    "print(student)\n",
    "\n"
   ]
  },
  {
   "cell_type": "code",
   "execution_count": 19,
   "id": "ef485cc4",
   "metadata": {},
   "outputs": [
    {
     "name": "stdout",
     "output_type": "stream",
     "text": [
      "stu1:babi\n",
      "stu2:dani\n",
      "stu3:tem\n"
     ]
    }
   ],
   "source": [
    "for key ,value in student.items():\n",
    "    print(f\"{key}:{value}\")"
   ]
  },
  {
   "cell_type": "code",
   "execution_count": 12,
   "id": "e11d9215",
   "metadata": {},
   "outputs": [
    {
     "name": "stdout",
     "output_type": "stream",
     "text": [
      "student1:{'name ': 'leul', 'age': 25}\n",
      "Mehhh\n",
      "name :leul\n",
      "age:25\n",
      "student2:{'name ': 'nati ', 'age ': 30}\n",
      "Mehhh\n",
      "name :nati \n",
      "age :30\n"
     ]
    }
   ],
   "source": [
    "students={\n",
    "    \"student1\":{\"name \":\"leul\",\"age\":25},\n",
    "    \"student2\":{\"name \":\"nati \" ,\"age \":30}\n",
    "}\n",
    "\n",
    "## Iterating over nested dictionaries \n",
    "for student_id,student_info in students.items():\n",
    "    print (f\"{student_id}:{student_info}\")\n",
    "    print(\"Mehhh\")\n",
    "    for key ,value in student_info.items():\n",
    "        print(f\"{key}:{value }\")"
   ]
  },
  {
   "cell_type": "code",
   "execution_count": 4,
   "id": "32af3831",
   "metadata": {},
   "outputs": [
    {
     "name": "stdout",
     "output_type": "stream",
     "text": [
      "leul\n"
     ]
    }
   ],
   "source": [
    "# The correct key is 'name ' (with a space) in the dictionary\n",
    "print(students[\"student1\"][\"name \"])"
   ]
  },
  {
   "cell_type": "code",
   "execution_count": 5,
   "id": "71886943",
   "metadata": {},
   "outputs": [
    {
     "name": "stdout",
     "output_type": "stream",
     "text": [
      "leul\n"
     ]
    }
   ],
   "source": [
    "students.items()\n",
    "print(\"leul\")"
   ]
  },
  {
   "cell_type": "code",
   "execution_count": 13,
   "id": "7ef2d403",
   "metadata": {},
   "outputs": [
    {
     "name": "stdout",
     "output_type": "stream",
     "text": [
      "Original: [[1, 2], [3, 4]]\n",
      "Shallow: [[1, 2], [3, 4]]\n"
     ]
    }
   ],
   "source": [
    "import copy\n",
    "\n",
    "original = [[1, 2], [3, 4]]\n",
    "shallow = copy.copy(original)\n",
    "\n",
    "print(\"Original:\", original)\n",
    "print(\"Shallow:\", shallow)\n"
   ]
  },
  {
   "cell_type": "code",
   "execution_count": 14,
   "id": "338a72cb",
   "metadata": {},
   "outputs": [
    {
     "name": "stdout",
     "output_type": "stream",
     "text": [
      "Original after change: [[100, 2], [3, 4]]\n",
      "Shallow after change: [[100, 2], [3, 4]]\n"
     ]
    }
   ],
   "source": [
    "shallow[0][0] = 100\n",
    "print(\"Original after change:\", original)\n",
    "print(\"Shallow after change:\", shallow)\n"
   ]
  },
  {
   "cell_type": "code",
   "execution_count": null,
   "id": "12289618",
   "metadata": {},
   "outputs": [],
   "source": []
  }
 ],
 "metadata": {
  "kernelspec": {
   "display_name": "Python 3",
   "language": "python",
   "name": "python3"
  },
  "language_info": {
   "codemirror_mode": {
    "name": "ipython",
    "version": 3
   },
   "file_extension": ".py",
   "mimetype": "text/x-python",
   "name": "python",
   "nbconvert_exporter": "python",
   "pygments_lexer": "ipython3",
   "version": "3.12.0"
  }
 },
 "nbformat": 4,
 "nbformat_minor": 5
}
