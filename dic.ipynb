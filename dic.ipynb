{
 "cells": [
  {
   "cell_type": "code",
   "execution_count": 2,
   "id": "3ad15902",
   "metadata": {},
   "outputs": [
    {
     "name": "stdout",
     "output_type": "stream",
     "text": [
      "{'name': 'Leul', 'major': 'software', 'work': 'insa'}\n"
     ]
    }
   ],
   "source": [
    "dic = {\"name\": \"Leul\", \"major\": \"software\", \"work\": \"insa\"}\n",
    "print(dic)\n"
   ]
  },
  {
   "cell_type": "code",
   "execution_count": 4,
   "id": "77fabbbe",
   "metadata": {},
   "outputs": [
    {
     "name": "stdout",
     "output_type": "stream",
     "text": [
      "Leul\n"
     ]
    }
   ],
   "source": [
    "mod =dic['name' ]\n",
    "print(mod)"
   ]
  },
  {
   "cell_type": "code",
   "execution_count": 12,
   "id": "249b5ac3",
   "metadata": {},
   "outputs": [
    {
     "name": "stdout",
     "output_type": "stream",
     "text": [
      "dict_keys(['name', 'major', 'work'])\n"
     ]
    }
   ],
   "source": [
    "keys = dic.keys()\n",
    "print(keys)"
   ]
  },
  {
   "cell_type": "code",
   "execution_count": 11,
   "id": "1051312d",
   "metadata": {},
   "outputs": [
    {
     "name": "stdout",
     "output_type": "stream",
     "text": [
      "dict_values(['Leul', 'software', 'insa'])\n"
     ]
    }
   ],
   "source": [
    "values = dic.values()\n",
    "print(values)"
   ]
  },
  {
   "cell_type": "code",
   "execution_count": 15,
   "id": "0a86bea1",
   "metadata": {},
   "outputs": [
    {
     "name": "stdout",
     "output_type": "stream",
     "text": [
      "dict_items([('name', 'Leul'), ('major', 'software'), ('work', 'insa')])\n"
     ]
    }
   ],
   "source": [
    "items = dic.items()\n",
    "print(items)"
   ]
  },
  {
   "cell_type": "code",
   "execution_count": 6,
   "id": "16a73026",
   "metadata": {},
   "outputs": [
    {
     "name": "stdout",
     "output_type": "stream",
     "text": [
      "{'stu1': 'leul', 'stu2': 'dani', 'stu3': 'tem'}\n"
     ]
    }
   ],
   "source": [
    "student = {\"stu1\": \"leul\", \"stu2\": \"dani\", \"stu3\": \"tem\"}\n",
    "student_copy =student\n",
    "print(student)\n",
    "\n"
   ]
  },
  {
   "cell_type": "markdown",
   "id": "bcacf571",
   "metadata": {},
   "source": []
  },
  {
   "cell_type": "code",
   "execution_count": 17,
   "id": "371e547f",
   "metadata": {},
   "outputs": [
    {
     "name": "stdout",
     "output_type": "stream",
     "text": [
      "{'stu1': 'babi', 'stu2': 'dani', 'stu3': 'tem'}\n",
      "{'stu1': 'babi', 'stu2': 'dani', 'stu3': 'tem'}\n"
     ]
    }
   ],
   "source": [
    "student_copy= student.copy()\n",
    "\n",
    "student[\"stu1\"] = \"babi\"\n",
    "print(student_copy)\n",
    "print(student)\n",
    "\n"
   ]
  },
  {
   "cell_type": "code",
   "execution_count": 19,
   "id": "ef485cc4",
   "metadata": {},
   "outputs": [
    {
     "name": "stdout",
     "output_type": "stream",
     "text": [
      "stu1:babi\n",
      "stu2:dani\n",
      "stu3:tem\n"
     ]
    }
   ],
   "source": [
    "for key ,value in student.items():\n",
    "    print(f\"{key}:{value}\")"
   ]
  },
  {
   "cell_type": "code",
   "execution_count": 33,
   "id": "e11d9215",
   "metadata": {},
   "outputs": [],
   "source": [
    "students={\n",
    "    \"student1\":{\"name \":\"leul\",\"age\":25},\n",
    "    \"student2\":{\"name \":\"nati \" ,\"age \":30}\n",
    "}"
   ]
  },
  {
   "cell_type": "code",
   "execution_count": 34,
   "id": "32af3831",
   "metadata": {},
   "outputs": [
    {
     "name": "stdout",
     "output_type": "stream",
     "text": [
      "leul\n"
     ]
    }
   ],
   "source": [
    "# The correct key is 'name ' (with a space) in the dictionary\n",
    "print(students[\"student1\"][\"name \"])"
   ]
  },
  {
   "cell_type": "code",
   "execution_count": 35,
   "id": "71886943",
   "metadata": {},
   "outputs": [
    {
     "data": {
      "text/plain": [
       "dict_items([('student1', {'name ': 'leul', 'age': 25}), ('student2', {'name ': 'nati ', 'age ': 30})])"
      ]
     },
     "execution_count": 35,
     "metadata": {},
     "output_type": "execute_result"
    }
   ],
   "source": [
    "students.items()"
   ]
  },
  {
   "cell_type": "code",
   "execution_count": null,
   "id": "7ef2d403",
   "metadata": {},
   "outputs": [],
   "source": []
  }
 ],
 "metadata": {
  "kernelspec": {
   "display_name": "Python 3",
   "language": "python",
   "name": "python3"
  },
  "language_info": {
   "codemirror_mode": {
    "name": "ipython",
    "version": 3
   },
   "file_extension": ".py",
   "mimetype": "text/x-python",
   "name": "python",
   "nbconvert_exporter": "python",
   "pygments_lexer": "ipython3",
   "version": "3.12.0"
  }
 },
 "nbformat": 4,
 "nbformat_minor": 5
}
