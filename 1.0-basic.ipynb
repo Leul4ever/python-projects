{
 "cells": [
  {
   "cell_type": "code",
   "execution_count": 1,
   "id": "3098c990",
   "metadata": {},
   "outputs": [
    {
     "name": "stdout",
     "output_type": "stream",
     "text": [
      "leul\n",
      "papi\n"
     ]
    }
   ],
   "source": [
    "name = 'leul';\n",
    "print(name );\n",
    "Name ='papi'\n",
    "print(Name );"
   ]
  },
  {
   "cell_type": "code",
   "execution_count": 2,
   "id": "02643940",
   "metadata": {},
   "outputs": [
    {
     "name": "stdout",
     "output_type": "stream",
     "text": [
      "leul\n",
      "name is leul\n"
     ]
    }
   ],
   "source": [
    "name = 'leul'\n",
    "print(name);\n",
    "if name == 'leul':\n",
    "    print('name is leul')\n",
    "else:\n",
    "    print('name is not leul')       \n",
    "    pass\n",
    "\n",
    "    "
   ]
  },
  {
   "cell_type": "code",
   "execution_count": 3,
   "id": "5effa057",
   "metadata": {},
   "outputs": [
    {
     "name": "stdout",
     "output_type": "stream",
     "text": [
      "[0, 2, 4, 6, 8]\n"
     ]
    }
   ],
   "source": [
    "even_numvers=[num for num  in range(10) if num%2==0]\n",
    "print(even_numvers)"
   ]
  },
  {
   "cell_type": "code",
   "execution_count": null,
   "id": "655e0669",
   "metadata": {},
   "outputs": [],
   "source": []
  },
  {
   "cell_type": "code",
   "execution_count": null,
   "id": "564bd6ee",
   "metadata": {},
   "outputs": [],
   "source": [
    "age = input(\"Enter your age: \");\n",
    "print(\"Your age is: \" + age);# the next line.\n",
    "print(type(age)); # this will be a string\n",
    "str_age = str(age);\n",
    "print(\"Your age as a string is: \" +  str_age);\n",
    "float_age = float(age);\n",
    "print(\"Your age as a float is: \" + str(float_age));\n",
    "\n",
    "# This is useful for long lines of code that would otherwise be difficult to read   \n",
    "\n"
   ]
  },
  {
   "cell_type": "code",
   "execution_count": null,
   "id": "98bc0e4f",
   "metadata": {},
   "outputs": [
    {
     "name": "stdout",
     "output_type": "stream",
     "text": [
      "Sum:  46.0\n",
      "Product:  529.0\n",
      "Difference:  0.0\n",
      "Quotient:  1.0\n"
     ]
    }
   ],
   "source": [
    "## simple calculator \n",
    "num1 = float(input(\"enter first number :\"));\n",
    "num2 = float(input(\"Enter second number: \"));\n",
    "sum= num1 + num2;\n",
    "product = num1 * num2;\n",
    "difference = num1 - num2;\n",
    "quotient = num1 / num2;\n",
    "print(\"Sum: \", sum);\n",
    "print(\"Product: \", product);\n",
    "print(\"Difference: \", difference);  \n",
    "print(\"Quotient: \", quotient);\n",
    "\n",
    "\n"
   ]
  },
  {
   "cell_type": "code",
   "execution_count": null,
   "id": "19f4461b",
   "metadata": {},
   "outputs": [
    {
     "name": "stdout",
     "output_type": "stream",
     "text": [
      "2020 is a leap year\n"
     ]
    }
   ],
   "source": [
    "## practical example \n",
    " ## determine if a year is a leap year or not \n",
    "year = int(input(\"enter a year:\"))\n",
    "if(year%4==0 and year%100!=0) or (year%400==0):\n",
    "    print(year, \"is a leap year\");  \n"
   ]
  },
  {
   "cell_type": "code",
   "execution_count": null,
   "id": "aff023e6",
   "metadata": {},
   "outputs": [
    {
     "name": "stdout",
     "output_type": "stream",
     "text": [
      "l\n",
      "e\n",
      "u\n",
      "l\n",
      " \n",
      "a\n",
      "b\n",
      "e\n",
      "r\n",
      "a\n",
      " \n"
     ]
    }
   ],
   "source": [
    "str = 'leul abera '\n",
    "for i in str:\n",
    "    print(i)\n",
    "    "
   ]
  },
  {
   "cell_type": "code",
   "execution_count": null,
   "id": "e82aa1cc",
   "metadata": {},
   "outputs": [],
   "source": [
    "year = int(input(\"Enter a year: \") )\n",
    "if (year %4==0):\n",
    "    if (year%100==0):\n",
    "        if(year%400==0):\n",
    "            print(year, \"is a leap year\");      \n",
    "    else:\n",
    "        print(year, \"is a leap year\");                                  \n",
    "else:\n",
    "    print(year, \"is not a leap year\");      \n"
   ]
  },
  {
   "cell_type": "code",
   "execution_count": null,
   "id": "1abcb49d",
   "metadata": {},
   "outputs": [
    {
     "name": "stdout",
     "output_type": "stream",
     "text": [
      "you are exactly 18 years old\n"
     ]
    }
   ],
   "source": [
    "age = int (input(\"Enter your age: \"))\n",
    "height = float(input(\"Enter your height: \"))\n",
    "if age>18:\n",
    "    print(\"you are an adult\")\n",
    "    if age<18 and height >5.5:\n",
    "        print(\"you are a minor and your height is above average\")\n",
    "    else:\n",
    "        print(\"you are a minor and your height is below average\")\n",
    "\n",
    "elif age == 18:\n",
    "    print(\"you are exactly 18 years old\")\n",
    "else : print(\"you are a minor\")\n",
    "\n",
    "\n",
    "\n"
   ]
  },
  {
   "cell_type": "code",
   "execution_count": null,
   "id": "480100ba",
   "metadata": {},
   "outputs": [
    {
     "name": "stdout",
     "output_type": "stream",
     "text": [
      "The result is:  2\n",
      "Thank you for using the calculator!\n"
     ]
    }
   ],
   "source": [
    "num1=int(input(\"enter first number:\"));\n",
    "num2 = int(input(\"enter the second number \"))\n",
    "operation = input(\"enter the operation you want to perform (+, -, *, /,%):   \")\n",
    "if  operation == '+':\n",
    "    result = num1 + num2;\n",
    "elif operation == '-':\n",
    "    result  = num1 - num2;   \n",
    "elif operation == '*':\n",
    "    result  = num1 * num2;\n",
    "elif operation == '%':\n",
    "    result  = num1 % num2;  \n",
    "\n",
    "elif operation == '/':\n",
    "    if num2!=0:\n",
    "        result  =num1\n",
    "        result = num1 / num2;\n",
    "       \n",
    "    else:\n",
    "        result = \"Error: Division by zero is not allowed\";\n",
    "else:\n",
    "    result ='Error invalid operation selected';\n",
    "print(\"The result is: \", result);\n",
    "print(\"Thank you for using the calculator!\");  \n",
    " \n",
    "\n"
   ]
  },
  {
   "cell_type": "code",
   "execution_count": null,
   "id": "2f73ba66",
   "metadata": {},
   "outputs": [
    {
     "name": "stdout",
     "output_type": "stream",
     "text": [
      "Count is:  0\n",
      "Loop ended, count is now:  1\n",
      "Count is:  1\n",
      "Loop ended, count is now:  2\n",
      "Count is:  2\n",
      "Loop ended, count is now:  3\n",
      "Count is:  3\n",
      "Loop ended, count is now:  4\n",
      "this while loop in python is very useful for iterating over a range of numbers or performing repeated actions until a condition is met.\n"
     ]
    }
   ],
   "source": [
    "## while loop \n",
    "## the wile loop is continues to execute as long as the condition is true \n",
    "count = 0 \n",
    "input_number = int(input(\"enter a number \"));\n",
    "while count < input_number:\n",
    "    print(\"Count is: \", count)      \n",
    "    count +=1;\n",
    "    print(\"Loop ended, count is now: \", count)\n",
    "print('this while loop in python is very useful for iterating over a range of numbers or performing repeated actions until a condition is met.')\n",
    "    "
   ]
  },
  {
   "cell_type": "code",
   "execution_count": null,
   "id": "81be11c1",
   "metadata": {},
   "outputs": [
    {
     "name": "stdout",
     "output_type": "stream",
     "text": [
      "i: 0 j: 0\n",
      "i: 0 j: 1\n",
      "i: 0 j: 2\n",
      "i: 1 j: 0\n",
      "i: 1 j: 1\n",
      "i: 1 j: 2\n",
      "i: 2 j: 0\n",
      "i: 2 j: 1\n",
      "i: 2 j: 2\n",
      "i: 3 j: 0\n",
      "i: 3 j: 1\n",
      "i: 3 j: 2\n"
     ]
    }
   ],
   "source": [
    "## nested loops \n",
    "for i in range(4):\n",
    "    for j in range(3):\n",
    "        print(\"i:\", i, \"j:\", j)\n",
    "       "
   ]
  },
  {
   "cell_type": "code",
   "execution_count": null,
   "id": "1a66f3fe",
   "metadata": {},
   "outputs": [],
   "source": [
    "## the sum of the fist n natural numbers \n",
    "n = int(input(\"Enter a number: \"))  \n",
    "i = 1;\n",
    "sum_n = 0\n",
    "count \n",
    "while i <=n:\n",
    "    sum_n += i\n",
    "    i += 1\n",
    "print(\"The sum of the first\", n, \"natural numbers is:\", sum_n)  \n",
    "    \n",
    "\n"
   ]
  },
  {
   "cell_type": "code",
   "execution_count": null,
   "id": "289547ba",
   "metadata": {},
   "outputs": [
    {
     "name": "stdout",
     "output_type": "stream",
     "text": [
      "The sum of the first 4 natural numbers is: 6\n"
     ]
    }
   ],
   "source": [
    "## the sume  of the first  n natural numbers\n",
    "n = int(input(\"Enter a number: \"))\n",
    "sum_n = 0       \n",
    "j= 1;\n",
    "for i in range(j, n+j ):\n",
    "    sum_n += i\n",
    "print(\"The sum of the first\", n, \"natural numbers is:\", sum_n)"
   ]
  },
  {
   "cell_type": "code",
   "execution_count": null,
   "id": "3d218470",
   "metadata": {},
   "outputs": [
    {
     "name": "stdout",
     "output_type": "stream",
     "text": [
      "The sum of the first 4 natural numbers is: 10\n"
     ]
    }
   ],
   "source": [
    "n =int(input(\"Enter a number: \") )\n",
    "count = 1\n",
    "total= 0\n",
    "while count<=n :\n",
    "      total +=count \n",
    "      count+=1;\n",
    "print (total);\n",
    "\n",
    "for i in range(0,n+1 ):\n",
    "    total+= i\n",
    "print(\"The sum of the first\", n, \"natural numbers is:\", total   )\n",
    "\n"
   ]
  },
  {
   "cell_type": "code",
   "execution_count": 2,
   "id": "cccfc3f5",
   "metadata": {},
   "outputs": [
    {
     "name": "stdout",
     "output_type": "stream",
     "text": [
      "2\n",
      "3\n",
      "5\n"
     ]
    }
   ],
   "source": [
    "n = int(input('enter the number '))\n",
    "for num in range(2 ,n+2):\n",
    "    is_prime=True\n",
    "    for i in range(2,num):\n",
    "        if num%i==0:\n",
    "            is_prime= False\n",
    "            break\n",
    "    if is_prime:\n",
    "        print(num); \n",
    "\n",
    "            \n",
    "    \n",
    "\n",
    "        \n",
    "\n",
    "\n",
    "\n",
    "\n",
    "     \n",
    "\n",
    "\n"
   ]
  },
  {
   "cell_type": "code",
   "execution_count": null,
   "id": "40cf616c",
   "metadata": {},
   "outputs": [
    {
     "name": "stdout",
     "output_type": "stream",
     "text": [
      "[0, 2, 4]\n"
     ]
    }
   ],
   "source": [
    "numbers = [x for x in range(5) if x % 2 == 0]\n",
    "print(numbers)"
   ]
  },
  {
   "cell_type": "code",
   "execution_count": null,
   "id": "9eb77ef4",
   "metadata": {},
   "outputs": [],
   "source": []
  }
 ],
 "metadata": {
  "kernelspec": {
   "display_name": "Python 3",
   "language": "python",
   "name": "python3"
  },
  "language_info": {
   "codemirror_mode": {
    "name": "ipython",
    "version": 3
   },
   "file_extension": ".py",
   "mimetype": "text/x-python",
   "name": "python",
   "nbconvert_exporter": "python",
   "pygments_lexer": "ipython3",
   "version": "3.12.0"
  }
 },
 "nbformat": 4,
 "nbformat_minor": 5
}
