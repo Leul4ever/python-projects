{
 "cells": [
  {
   "cell_type": "code",
   "execution_count": 18,
   "id": "31dcf055",
   "metadata": {},
   "outputs": [],
   "source": [
    "import pandas as pd\n",
    "\n"
   ]
  },
  {
   "cell_type": "code",
   "execution_count": 37,
   "id": "1f9db544",
   "metadata": {},
   "outputs": [],
   "source": [
    "\n",
    "df = pd.read_csv('students.csv')\n"
   ]
  },
  {
   "cell_type": "code",
   "execution_count": 38,
   "id": "a7848af7",
   "metadata": {},
   "outputs": [
    {
     "name": "stdout",
     "output_type": "stream",
     "text": [
      "Full DataFrame:\n",
      "       Name  Age  Grade CityAlice  20  85  New York\n",
      "0       Bob   22     92     Paris NaN NaN       NaN\n",
      "1   Charlie   21     78    London NaN NaN       NaN\n",
      "2     Diana   23     88     Tokyo NaN NaN       NaN\n",
      "3       Eve   20     95    Berlin NaN NaN       NaN\n",
      "\n",
      "==================================================\n",
      "\n",
      "['Name', 'Age', 'Grade', 'CityAlice', '20', '85', 'New York']\n"
     ]
    }
   ],
   "source": [
    "print(\"Full DataFrame:\")\n",
    "print(df)\n",
    "print(\"\\n\" + \"=\"*50 + \"\\n\")\n",
    "print(df.columns.tolist())\n"
   ]
  },
  {
   "cell_type": "code",
   "execution_count": 41,
   "id": "853518b4",
   "metadata": {},
   "outputs": [
    {
     "data": {
      "text/plain": [
       "' Diana'"
      ]
     },
     "execution_count": 41,
     "metadata": {},
     "output_type": "execute_result"
    }
   ],
   "source": [
    "df.at[1,'Age']\n",
    "df.at[2,'Name']"
   ]
  },
  {
   "cell_type": "code",
   "execution_count": 35,
   "id": "6308aac2",
   "metadata": {},
   "outputs": [
    {
     "name": "stdout",
     "output_type": "stream",
     "text": [
      "All names:\n",
      "0       Alice\n",
      "1         Bob\n",
      "2     Charlie\n",
      "3       Diana\n",
      "4         Eve\n",
      "Name: Name, dtype: object\n",
      "\n",
      "Name and Grade columns:\n",
      "       Name  Grade\n",
      "0     Alice     85\n",
      "1       Bob     92\n",
      "2   Charlie     78\n",
      "3     Diana     88\n",
      "4       Eve     95\n",
      "\n",
      "==================================================\n",
      "\n"
     ]
    }
   ],
   "source": [
    "# Strip leading/trailing spaces from column names\n",
    "df.columns = df.columns.str.strip()\n",
    "\n",
    "# Get a single column (returns a Series)\n",
    "print(\"All names:\")\n",
    "print(df['Name'])\n",
    "print()\n",
    "# Get multiple columns (returns a DataFrame)\n",
    "print(\"Name and Grade columns:\")\n",
    "print(df[['Name', 'Grade']])\n",
    "print(\"\\n\" + \"=\"*50 + \"\\n\")"
   ]
  },
  {
   "cell_type": "code",
   "execution_count": 43,
   "id": "603a4788",
   "metadata": {},
   "outputs": [
    {
     "name": "stdout",
     "output_type": "stream",
     "text": [
      "Grades of first 3 students:\n",
      "0    92\n",
      "1    78\n",
      "2    88\n",
      "Name: Grade, dtype: int64\n",
      "\n",
      "Names and Ages of students at positions 1, 3:\n",
      "       Name  Age\n",
      "1   Charlie   21\n",
      "3       Eve   20\n",
      "\n"
     ]
    }
   ],
   "source": [
    "\n",
    "# ========== ACCESSING MULTIPLE SPECIFIC ELEMENTS ==========\n",
    "\n",
    "# Get specific rows and columns using iloc\n",
    "print(\"Grades of first 3 students:\")\n",
    "print(df.iloc[0:3, 2])  # rows 0-2, column 2\n",
    "print()\n",
    "\n",
    "# Get specific rows and columns using loc\n",
    "print(\"Names and Ages of students at positions 1, 3:\")\n",
    "print(df.loc[[1, 3], ['Name', 'Age']])\n",
    "print()\n"
   ]
  },
  {
   "cell_type": "code",
   "execution_count": 54,
   "id": "86497144",
   "metadata": {},
   "outputs": [
    {
     "name": "stdout",
     "output_type": "stream",
     "text": [
      "Students older than 21:\n",
      "     Name  Age  Grade   City  20  85  New York\n",
      "0     Bob   22     92  Paris NaN NaN       NaN\n",
      "2   Diana   23     88  Tokyo NaN NaN       NaN\n",
      "\n",
      "Names of students with grade above 90:\n",
      "0     Bob\n",
      "3     Eve\n",
      "Name: Name, dtype: object\n",
      "\n"
     ]
    }
   ],
   "source": [
    "# ========== CONDITIONAL ACCESS ==========\n",
    "\n",
    "# Get rows where Age is greater than 21\n",
    "print(\"Students older than 21:\")\n",
    "print(df[df['Age'] > 21])\n",
    "print()\n",
    "# Get specific column value where condition is met\n",
    "print(\"Names of students with grade above 90:\")\n",
    "print(df[df['Grade'] > 90]['Name'])\n",
    "print()\n",
    "\n",
    "\n",
    "\n"
   ]
  },
  {
   "cell_type": "code",
   "execution_count": 56,
   "id": "b9662ac5",
   "metadata": {},
   "outputs": [
    {
     "data": {
      "text/html": [
       "<div>\n",
       "<style scoped>\n",
       "    .dataframe tbody tr th:only-of-type {\n",
       "        vertical-align: middle;\n",
       "    }\n",
       "\n",
       "    .dataframe tbody tr th {\n",
       "        vertical-align: top;\n",
       "    }\n",
       "\n",
       "    .dataframe thead th {\n",
       "        text-align: right;\n",
       "    }\n",
       "</style>\n",
       "<table border=\"1\" class=\"dataframe\">\n",
       "  <thead>\n",
       "    <tr style=\"text-align: right;\">\n",
       "      <th></th>\n",
       "      <th>Name</th>\n",
       "      <th>Age</th>\n",
       "      <th>Grade</th>\n",
       "      <th>City</th>\n",
       "      <th>20</th>\n",
       "      <th>85</th>\n",
       "      <th>New York</th>\n",
       "    </tr>\n",
       "  </thead>\n",
       "  <tbody>\n",
       "    <tr>\n",
       "      <th>0</th>\n",
       "      <td>Bob</td>\n",
       "      <td>22</td>\n",
       "      <td>92</td>\n",
       "      <td>Paris</td>\n",
       "      <td>NaN</td>\n",
       "      <td>NaN</td>\n",
       "      <td>NaN</td>\n",
       "    </tr>\n",
       "    <tr>\n",
       "      <th>1</th>\n",
       "      <td>Charlie</td>\n",
       "      <td>21</td>\n",
       "      <td>78</td>\n",
       "      <td>London</td>\n",
       "      <td>NaN</td>\n",
       "      <td>NaN</td>\n",
       "      <td>NaN</td>\n",
       "    </tr>\n",
       "    <tr>\n",
       "      <th>2</th>\n",
       "      <td>Diana</td>\n",
       "      <td>23</td>\n",
       "      <td>88</td>\n",
       "      <td>Tokyo</td>\n",
       "      <td>NaN</td>\n",
       "      <td>NaN</td>\n",
       "      <td>NaN</td>\n",
       "    </tr>\n",
       "    <tr>\n",
       "      <th>3</th>\n",
       "      <td>Eve</td>\n",
       "      <td>20</td>\n",
       "      <td>95</td>\n",
       "      <td>Berlin</td>\n",
       "      <td>NaN</td>\n",
       "      <td>NaN</td>\n",
       "      <td>NaN</td>\n",
       "    </tr>\n",
       "  </tbody>\n",
       "</table>\n",
       "</div>"
      ],
      "text/plain": [
       "       Name  Age  Grade    City  20  85  New York\n",
       "0       Bob   22     92   Paris NaN NaN       NaN\n",
       "1   Charlie   21     78  London NaN NaN       NaN\n",
       "2     Diana   23     88   Tokyo NaN NaN       NaN\n",
       "3       Eve   20     95  Berlin NaN NaN       NaN"
      ]
     },
     "execution_count": 56,
     "metadata": {},
     "output_type": "execute_result"
    }
   ],
   "source": [
    "## data manipulation with Dataframe \n",
    "df\n"
   ]
  },
  {
   "cell_type": "code",
   "execution_count": 58,
   "id": "92e2e9e5",
   "metadata": {},
   "outputs": [
    {
     "data": {
      "text/plain": [
       "0     Bob\n",
       "3     Eve\n",
       "Name: Name, dtype: object"
      ]
     },
     "execution_count": 58,
     "metadata": {},
     "output_type": "execute_result"
    }
   ],
   "source": [
    "df[df['Grade'] > 90]['Name']"
   ]
  },
  {
   "cell_type": "code",
   "execution_count": 59,
   "id": "c7f2bed1",
   "metadata": {},
   "outputs": [
    {
     "data": {
      "text/html": [
       "<div>\n",
       "<style scoped>\n",
       "    .dataframe tbody tr th:only-of-type {\n",
       "        vertical-align: middle;\n",
       "    }\n",
       "\n",
       "    .dataframe tbody tr th {\n",
       "        vertical-align: top;\n",
       "    }\n",
       "\n",
       "    .dataframe thead th {\n",
       "        text-align: right;\n",
       "    }\n",
       "</style>\n",
       "<table border=\"1\" class=\"dataframe\">\n",
       "  <thead>\n",
       "    <tr style=\"text-align: right;\">\n",
       "      <th></th>\n",
       "      <th>Name</th>\n",
       "      <th>Age</th>\n",
       "      <th>Grade</th>\n",
       "      <th>City</th>\n",
       "      <th>20</th>\n",
       "      <th>85</th>\n",
       "      <th>New York</th>\n",
       "      <th>passed</th>\n",
       "    </tr>\n",
       "  </thead>\n",
       "  <tbody>\n",
       "    <tr>\n",
       "      <th>0</th>\n",
       "      <td>Bob</td>\n",
       "      <td>22</td>\n",
       "      <td>92</td>\n",
       "      <td>Paris</td>\n",
       "      <td>NaN</td>\n",
       "      <td>NaN</td>\n",
       "      <td>NaN</td>\n",
       "      <td>True</td>\n",
       "    </tr>\n",
       "    <tr>\n",
       "      <th>1</th>\n",
       "      <td>Charlie</td>\n",
       "      <td>21</td>\n",
       "      <td>78</td>\n",
       "      <td>London</td>\n",
       "      <td>NaN</td>\n",
       "      <td>NaN</td>\n",
       "      <td>NaN</td>\n",
       "      <td>True</td>\n",
       "    </tr>\n",
       "    <tr>\n",
       "      <th>2</th>\n",
       "      <td>Diana</td>\n",
       "      <td>23</td>\n",
       "      <td>88</td>\n",
       "      <td>Tokyo</td>\n",
       "      <td>NaN</td>\n",
       "      <td>NaN</td>\n",
       "      <td>NaN</td>\n",
       "      <td>True</td>\n",
       "    </tr>\n",
       "    <tr>\n",
       "      <th>3</th>\n",
       "      <td>Eve</td>\n",
       "      <td>20</td>\n",
       "      <td>95</td>\n",
       "      <td>Berlin</td>\n",
       "      <td>NaN</td>\n",
       "      <td>NaN</td>\n",
       "      <td>NaN</td>\n",
       "      <td>True</td>\n",
       "    </tr>\n",
       "  </tbody>\n",
       "</table>\n",
       "</div>"
      ],
      "text/plain": [
       "       Name  Age  Grade    City  20  85  New York  passed\n",
       "0       Bob   22     92   Paris NaN NaN       NaN    True\n",
       "1   Charlie   21     78  London NaN NaN       NaN    True\n",
       "2     Diana   23     88   Tokyo NaN NaN       NaN    True\n",
       "3       Eve   20     95  Berlin NaN NaN       NaN    True"
      ]
     },
     "execution_count": 59,
     "metadata": {},
     "output_type": "execute_result"
    }
   ],
   "source": [
    "## adding a  coulumn \n",
    "df['passed']=df['Grade']>=60\n",
    "df\n"
   ]
  },
  {
   "cell_type": "code",
   "execution_count": 66,
   "id": "7b8b8802",
   "metadata": {},
   "outputs": [
    {
     "data": {
      "text/html": [
       "<div>\n",
       "<style scoped>\n",
       "    .dataframe tbody tr th:only-of-type {\n",
       "        vertical-align: middle;\n",
       "    }\n",
       "\n",
       "    .dataframe tbody tr th {\n",
       "        vertical-align: top;\n",
       "    }\n",
       "\n",
       "    .dataframe thead th {\n",
       "        text-align: right;\n",
       "    }\n",
       "</style>\n",
       "<table border=\"1\" class=\"dataframe\">\n",
       "  <thead>\n",
       "    <tr style=\"text-align: right;\">\n",
       "      <th></th>\n",
       "      <th>Name</th>\n",
       "      <th>Age</th>\n",
       "      <th>Grade</th>\n",
       "      <th>20</th>\n",
       "      <th>85</th>\n",
       "      <th>New York</th>\n",
       "    </tr>\n",
       "  </thead>\n",
       "  <tbody>\n",
       "    <tr>\n",
       "      <th>0</th>\n",
       "      <td>Bob</td>\n",
       "      <td>22</td>\n",
       "      <td>92</td>\n",
       "      <td>NaN</td>\n",
       "      <td>NaN</td>\n",
       "      <td>NaN</td>\n",
       "    </tr>\n",
       "    <tr>\n",
       "      <th>1</th>\n",
       "      <td>Charlie</td>\n",
       "      <td>21</td>\n",
       "      <td>78</td>\n",
       "      <td>NaN</td>\n",
       "      <td>NaN</td>\n",
       "      <td>NaN</td>\n",
       "    </tr>\n",
       "    <tr>\n",
       "      <th>2</th>\n",
       "      <td>Diana</td>\n",
       "      <td>23</td>\n",
       "      <td>88</td>\n",
       "      <td>NaN</td>\n",
       "      <td>NaN</td>\n",
       "      <td>NaN</td>\n",
       "    </tr>\n",
       "    <tr>\n",
       "      <th>3</th>\n",
       "      <td>Eve</td>\n",
       "      <td>20</td>\n",
       "      <td>95</td>\n",
       "      <td>NaN</td>\n",
       "      <td>NaN</td>\n",
       "      <td>NaN</td>\n",
       "    </tr>\n",
       "  </tbody>\n",
       "</table>\n",
       "</div>"
      ],
      "text/plain": [
       "       Name  Age  Grade  20  85  New York\n",
       "0       Bob   22     92 NaN NaN       NaN\n",
       "1   Charlie   21     78 NaN NaN       NaN\n",
       "2     Diana   23     88 NaN NaN       NaN\n",
       "3       Eve   20     95 NaN NaN       NaN"
      ]
     },
     "execution_count": 66,
     "metadata": {},
     "output_type": "execute_result"
    }
   ],
   "source": [
    "## remove a column\n",
    "df.drop('City', axis=1, inplace=True)\n",
    "df\n"
   ]
  },
  {
   "cell_type": "code",
   "execution_count": 67,
   "id": "38171e98",
   "metadata": {},
   "outputs": [
    {
     "data": {
      "text/html": [
       "<div>\n",
       "<style scoped>\n",
       "    .dataframe tbody tr th:only-of-type {\n",
       "        vertical-align: middle;\n",
       "    }\n",
       "\n",
       "    .dataframe tbody tr th {\n",
       "        vertical-align: top;\n",
       "    }\n",
       "\n",
       "    .dataframe thead th {\n",
       "        text-align: right;\n",
       "    }\n",
       "</style>\n",
       "<table border=\"1\" class=\"dataframe\">\n",
       "  <thead>\n",
       "    <tr style=\"text-align: right;\">\n",
       "      <th></th>\n",
       "      <th>Name</th>\n",
       "      <th>Age</th>\n",
       "      <th>Grade</th>\n",
       "      <th>20</th>\n",
       "      <th>85</th>\n",
       "      <th>New York</th>\n",
       "      <th>Age_plus_5</th>\n",
       "    </tr>\n",
       "  </thead>\n",
       "  <tbody>\n",
       "    <tr>\n",
       "      <th>0</th>\n",
       "      <td>Bob</td>\n",
       "      <td>22</td>\n",
       "      <td>92</td>\n",
       "      <td>NaN</td>\n",
       "      <td>NaN</td>\n",
       "      <td>NaN</td>\n",
       "      <td>27</td>\n",
       "    </tr>\n",
       "    <tr>\n",
       "      <th>1</th>\n",
       "      <td>Charlie</td>\n",
       "      <td>21</td>\n",
       "      <td>78</td>\n",
       "      <td>NaN</td>\n",
       "      <td>NaN</td>\n",
       "      <td>NaN</td>\n",
       "      <td>26</td>\n",
       "    </tr>\n",
       "    <tr>\n",
       "      <th>2</th>\n",
       "      <td>Diana</td>\n",
       "      <td>23</td>\n",
       "      <td>88</td>\n",
       "      <td>NaN</td>\n",
       "      <td>NaN</td>\n",
       "      <td>NaN</td>\n",
       "      <td>28</td>\n",
       "    </tr>\n",
       "    <tr>\n",
       "      <th>3</th>\n",
       "      <td>Eve</td>\n",
       "      <td>20</td>\n",
       "      <td>95</td>\n",
       "      <td>NaN</td>\n",
       "      <td>NaN</td>\n",
       "      <td>NaN</td>\n",
       "      <td>25</td>\n",
       "    </tr>\n",
       "  </tbody>\n",
       "</table>\n",
       "</div>"
      ],
      "text/plain": [
       "       Name  Age  Grade  20  85  New York  Age_plus_5\n",
       "0       Bob   22     92 NaN NaN       NaN          27\n",
       "1   Charlie   21     78 NaN NaN       NaN          26\n",
       "2     Diana   23     88 NaN NaN       NaN          28\n",
       "3       Eve   20     95 NaN NaN       NaN          25"
      ]
     },
     "execution_count": 67,
     "metadata": {},
     "output_type": "execute_result"
    }
   ],
   "source": [
    "## Add age to the columns\n",
    "df['Age_plus_5'] = df['Age'] + 5\n",
    "df"
   ]
  },
  {
   "cell_type": "code",
   "execution_count": null,
   "id": "e0af9274",
   "metadata": {},
   "outputs": [
    {
     "data": {
      "text/html": [
       "<div>\n",
       "<style scoped>\n",
       "    .dataframe tbody tr th:only-of-type {\n",
       "        vertical-align: middle;\n",
       "    }\n",
       "\n",
       "    .dataframe tbody tr th {\n",
       "        vertical-align: top;\n",
       "    }\n",
       "\n",
       "    .dataframe thead th {\n",
       "        text-align: right;\n",
       "    }\n",
       "</style>\n",
       "<table border=\"1\" class=\"dataframe\">\n",
       "  <thead>\n",
       "    <tr style=\"text-align: right;\">\n",
       "      <th></th>\n",
       "      <th>Name</th>\n",
       "      <th>Age</th>\n",
       "      <th>Grade</th>\n",
       "      <th>20</th>\n",
       "      <th>85</th>\n",
       "      <th>New York</th>\n",
       "      <th>Age_plus_5</th>\n",
       "    </tr>\n",
       "  </thead>\n",
       "  <tbody>\n",
       "    <tr>\n",
       "      <th>0</th>\n",
       "      <td>Bob</td>\n",
       "      <td>22</td>\n",
       "      <td>92</td>\n",
       "      <td>NaN</td>\n",
       "      <td>NaN</td>\n",
       "      <td>NaN</td>\n",
       "      <td>27</td>\n",
       "    </tr>\n",
       "    <tr>\n",
       "      <th>1</th>\n",
       "      <td>Charlie</td>\n",
       "      <td>21</td>\n",
       "      <td>78</td>\n",
       "      <td>NaN</td>\n",
       "      <td>NaN</td>\n",
       "      <td>NaN</td>\n",
       "      <td>26</td>\n",
       "    </tr>\n",
       "    <tr>\n",
       "      <th>3</th>\n",
       "      <td>Eve</td>\n",
       "      <td>20</td>\n",
       "      <td>95</td>\n",
       "      <td>NaN</td>\n",
       "      <td>NaN</td>\n",
       "      <td>NaN</td>\n",
       "      <td>25</td>\n",
       "    </tr>\n",
       "  </tbody>\n",
       "</table>\n",
       "</div>"
      ],
      "text/plain": [
       "       Name  Age  Grade  20  85  New York  Age_plus_5\n",
       "0       Bob   22     92 NaN NaN       NaN          27\n",
       "1   Charlie   21     78 NaN NaN       NaN          26\n",
       "3       Eve   20     95 NaN NaN       NaN          25"
      ]
     },
     "execution_count": 73,
     "metadata": {},
     "output_type": "execute_result"
    }
   ],
   "source": [
    "## drop a row if it exists\n",
    "if 2 in df.index:\n",
    "\tdf.drop(2, axis=0, inplace=True)\n",
    "print(df)\n"
   ]
  },
  {
   "cell_type": "code",
   "execution_count": null,
   "id": "cb3c8bc7",
   "metadata": {},
   "outputs": [
    {
     "name": "stdout",
     "output_type": "stream",
     "text": [
      "\n",
      "Data Types of each column:\n",
      "Name           object\n",
      "Age             int64\n",
      "Grade           int64\n",
      "20            float64\n",
      "85            float64\n",
      "New York      float64\n",
      "Age_plus_5      int64\n",
      "dtype: object\n",
      "\n",
      "Statistical Summary:\n",
      "        Age      Grade   20   85  New York  Age_plus_5\n",
      "count   3.0   3.000000  0.0  0.0       0.0         3.0\n",
      "mean   21.0  88.333333  NaN  NaN       NaN        26.0\n",
      "std     1.0   9.073772  NaN  NaN       NaN         1.0\n",
      "min    20.0  78.000000  NaN  NaN       NaN        25.0\n",
      "25%    20.5  85.000000  NaN  NaN       NaN        25.5\n",
      "50%    21.0  92.000000  NaN  NaN       NaN        26.0\n",
      "75%    21.5  93.500000  NaN  NaN       NaN        26.5\n",
      "max    22.0  95.000000  NaN  NaN       NaN        27.0\n",
      "\n",
      "Shape of DataFrame:\n",
      "(3, 7)\n",
      "\n",
      "Average Grade by City:\n"
     ]
    }
   ],
   "source": [
    "# Display the data types of each column \n",
    "print(\"\\nData Types of each column:\")\n",
    "print(df.dtypes)\n",
    "# describe the dataframe\n",
    "print(\"\\nStatistical Summary:\")\n",
    "print(df.describe())\n",
    "# Get the shape of the                                                                                    DataFrame\n",
    "print(\"\\nShape of DataFrame:\")\n",
    "print(df.shape)\n",
    "\n",
    "## Group by a column and and perform aggregation\n",
    "print(\"\\nAverage Grade by City:\")\n",
    "\n"
   ]
  },
  {
   "cell_type": "code",
   "execution_count": null,
   "id": "4c7f3461",
   "metadata": {},
   "outputs": [],
   "source": []
  }
 ],
 "metadata": {
  "kernelspec": {
   "display_name": "venv",
   "language": "python",
   "name": "python3"
  },
  "language_info": {
   "codemirror_mode": {
    "name": "ipython",
    "version": 3
   },
   "file_extension": ".py",
   "mimetype": "text/x-python",
   "name": "python",
   "nbconvert_exporter": "python",
   "pygments_lexer": "ipython3",
   "version": "3.13.7"
  }
 },
 "nbformat": 4,
 "nbformat_minor": 5
}
