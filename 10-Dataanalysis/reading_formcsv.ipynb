{
 "cells": [
  {
   "cell_type": "code",
   "execution_count": 18,
   "id": "31dcf055",
   "metadata": {},
   "outputs": [],
   "source": [
    "import pandas as pd\n",
    "\n"
   ]
  },
  {
   "cell_type": "code",
   "execution_count": 37,
   "id": "1f9db544",
   "metadata": {},
   "outputs": [],
   "source": [
    "\n",
    "df = pd.read_csv('students.csv')\n"
   ]
  },
  {
   "cell_type": "code",
   "execution_count": 38,
   "id": "a7848af7",
   "metadata": {},
   "outputs": [
    {
     "name": "stdout",
     "output_type": "stream",
     "text": [
      "Full DataFrame:\n",
      "       Name  Age  Grade CityAlice  20  85  New York\n",
      "0       Bob   22     92     Paris NaN NaN       NaN\n",
      "1   Charlie   21     78    London NaN NaN       NaN\n",
      "2     Diana   23     88     Tokyo NaN NaN       NaN\n",
      "3       Eve   20     95    Berlin NaN NaN       NaN\n",
      "\n",
      "==================================================\n",
      "\n",
      "['Name', 'Age', 'Grade', 'CityAlice', '20', '85', 'New York']\n"
     ]
    }
   ],
   "source": [
    "print(\"Full DataFrame:\")\n",
    "print(df)\n",
    "print(\"\\n\" + \"=\"*50 + \"\\n\")\n",
    "print(df.columns.tolist())\n"
   ]
  },
  {
   "cell_type": "code",
   "execution_count": 41,
   "id": "853518b4",
   "metadata": {},
   "outputs": [
    {
     "data": {
      "text/plain": [
       "' Diana'"
      ]
     },
     "execution_count": 41,
     "metadata": {},
     "output_type": "execute_result"
    }
   ],
   "source": [
    "df.at[1,'Age']\n",
    "df.at[2,'Name']"
   ]
  },
  {
   "cell_type": "code",
   "execution_count": 35,
   "id": "6308aac2",
   "metadata": {},
   "outputs": [
    {
     "name": "stdout",
     "output_type": "stream",
     "text": [
      "All names:\n",
      "0       Alice\n",
      "1         Bob\n",
      "2     Charlie\n",
      "3       Diana\n",
      "4         Eve\n",
      "Name: Name, dtype: object\n",
      "\n",
      "Name and Grade columns:\n",
      "       Name  Grade\n",
      "0     Alice     85\n",
      "1       Bob     92\n",
      "2   Charlie     78\n",
      "3     Diana     88\n",
      "4       Eve     95\n",
      "\n",
      "==================================================\n",
      "\n"
     ]
    }
   ],
   "source": [
    "# Strip leading/trailing spaces from column names\n",
    "df.columns = df.columns.str.strip()\n",
    "\n",
    "# Get a single column (returns a Series)\n",
    "print(\"All names:\")\n",
    "print(df['Name'])\n",
    "print()\n",
    "# Get multiple columns (returns a DataFrame)\n",
    "print(\"Name and Grade columns:\")\n",
    "print(df[['Name', 'Grade']])\n",
    "print(\"\\n\" + \"=\"*50 + \"\\n\")"
   ]
  },
  {
   "cell_type": "code",
   "execution_count": 43,
   "id": "603a4788",
   "metadata": {},
   "outputs": [
    {
     "name": "stdout",
     "output_type": "stream",
     "text": [
      "Grades of first 3 students:\n",
      "0    92\n",
      "1    78\n",
      "2    88\n",
      "Name: Grade, dtype: int64\n",
      "\n",
      "Names and Ages of students at positions 1, 3:\n",
      "       Name  Age\n",
      "1   Charlie   21\n",
      "3       Eve   20\n",
      "\n"
     ]
    }
   ],
   "source": [
    "\n",
    "# ========== ACCESSING MULTIPLE SPECIFIC ELEMENTS ==========\n",
    "\n",
    "# Get specific rows and columns using iloc\n",
    "print(\"Grades of first 3 students:\")\n",
    "print(df.iloc[0:3, 2])  # rows 0-2, column 2\n",
    "print()\n",
    "\n",
    "# Get specific rows and columns using loc\n",
    "print(\"Names and Ages of students at positions 1, 3:\")\n",
    "print(df.loc[[1, 3], ['Name', 'Age']])\n",
    "print()\n"
   ]
  },
  {
   "cell_type": "code",
   "execution_count": 54,
   "id": "86497144",
   "metadata": {},
   "outputs": [
    {
     "name": "stdout",
     "output_type": "stream",
     "text": [
      "Students older than 21:\n",
      "     Name  Age  Grade   City  20  85  New York\n",
      "0     Bob   22     92  Paris NaN NaN       NaN\n",
      "2   Diana   23     88  Tokyo NaN NaN       NaN\n",
      "\n",
      "Names of students with grade above 90:\n",
      "0     Bob\n",
      "3     Eve\n",
      "Name: Name, dtype: object\n",
      "\n"
     ]
    }
   ],
   "source": [
    "# ========== CONDITIONAL ACCESS ==========\n",
    "\n",
    "# Get rows where Age is greater than 21\n",
    "print(\"Students older than 21:\")\n",
    "print(df[df['Age'] > 21])\n",
    "print()\n",
    "# Get specific column value where condition is met\n",
    "print(\"Names of students with grade above 90:\")\n",
    "print(df[df['Grade'] > 90]['Name'])\n",
    "print()\n",
    "\n",
    "\n",
    "\n"
   ]
  },
  {
   "cell_type": "code",
   "execution_count": null,
   "id": "b9662ac5",
   "metadata": {},
   "outputs": [],
   "source": []
  }
 ],
 "metadata": {
  "kernelspec": {
   "display_name": "venv",
   "language": "python",
   "name": "python3"
  },
  "language_info": {
   "codemirror_mode": {
    "name": "ipython",
    "version": 3
   },
   "file_extension": ".py",
   "mimetype": "text/x-python",
   "name": "python",
   "nbconvert_exporter": "python",
   "pygments_lexer": "ipython3",
   "version": "3.13.7"
  }
 },
 "nbformat": 4,
 "nbformat_minor": 5
}
