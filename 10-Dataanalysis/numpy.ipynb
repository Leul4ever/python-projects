{
 "cells": [
  {
   "cell_type": "markdown",
   "id": "d4771e3d",
   "metadata": {},
   "source": [
    "NumPy (Numerical Python) is a Python library used for fast numerical and scientific computing, mainly providing support for multidimensional arrays (ndarray) and mathematical operations on them."
   ]
  },
  {
   "cell_type": "code",
   "execution_count": 35,
   "id": "9b50f58d",
   "metadata": {},
   "outputs": [
    {
     "name": "stdout",
     "output_type": "stream",
     "text": [
      "Requirement already satisfied: numpy in d:\\pythonlesson\\python-projects\\venv\\lib\\site-packages (2.3.3)\n"
     ]
    }
   ],
   "source": [
    "!pip install numpy\n"
   ]
  },
  {
   "cell_type": "code",
   "execution_count": 36,
   "id": "59c19208",
   "metadata": {},
   "outputs": [
    {
     "name": "stdout",
     "output_type": "stream",
     "text": [
      "1D Array: [1 2 3 4 5]\n",
      "Shape of 1D Array: (5,)\n",
      "Data Type of 1D Array: int64\n",
      "<class 'numpy.ndarray'>\n"
     ]
    }
   ],
   "source": [
    "import numpy  as np \n",
    "## create a 1D array\n",
    "array1D = np.array([1,2,3,4,5])\n",
    "print(\"1D Array:\", array1D)\n",
    "print(\"Shape of 1D Array:\", array1D.shape)\n",
    "print(\"Data Type of 1D Array:\", array1D.dtype)\n",
    "print(type(array1D))\n"
   ]
  },
  {
   "cell_type": "code",
   "execution_count": 37,
   "id": "69217c6f",
   "metadata": {},
   "outputs": [
    {
     "data": {
      "text/plain": [
       "array([[1, 2, 3, 4, 5]])"
      ]
     },
     "execution_count": 37,
     "metadata": {},
     "output_type": "execute_result"
    }
   ],
   "source": [
    "array2= np.array([1,2,3,4,5,])\n",
    "array2.reshape(1,5) ## reshape to 1 row and 5 columns\n",
    "\n"
   ]
  },
  {
   "cell_type": "code",
   "execution_count": null,
   "id": "913fddb8",
   "metadata": {},
   "outputs": [
    {
     "name": "stdout",
     "output_type": "stream",
     "text": [
      "2D Array:\n",
      " [[1 2 3]\n",
      " [4 5 6]]\n"
     ]
    }
   ],
   "source": [
    "array2D = np.array([1,2,3,4,5,6]).reshape(2,3)\n",
    "print(\"2D Array:\\n\", array2D)"
   ]
  },
  {
   "cell_type": "code",
   "execution_count": 39,
   "id": "a836fea1",
   "metadata": {},
   "outputs": [
    {
     "data": {
      "text/plain": [
       "(1, 5)"
      ]
     },
     "execution_count": 39,
     "metadata": {},
     "output_type": "execute_result"
    }
   ],
   "source": [
    "array2 = np.array([[1,2,3,4,5]])\n",
    "array2.shape\n",
    "\n",
    "\n",
    "\n",
    "\n",
    "\n",
    "\n"
   ]
  },
  {
   "cell_type": "code",
   "execution_count": null,
   "id": "b5b08499",
   "metadata": {},
   "outputs": [
    {
     "name": "stdout",
     "output_type": "stream",
     "text": [
      "[[1 2 3 4 5]\n",
      " [2 3 4 5 6]]\n"
     ]
    },
    {
     "data": {
      "text/plain": [
       "(2, 5)"
      ]
     },
     "execution_count": 7,
     "metadata": {},
     "output_type": "execute_result"
    }
   ],
   "source": [
    "# Create a 2D array\n",
    "array2 = np.array([[1,2,3,4,5],[2,3,4,5,6]])\n",
    "print(array2)\n",
    "array2.shape"
   ]
  },
  {
   "cell_type": "code",
   "execution_count": null,
   "id": "8ab1dca7",
   "metadata": {},
   "outputs": [
    {
     "data": {
      "text/plain": [
       "array([[0],\n",
       "       [2],\n",
       "       [4],\n",
       "       [6],\n",
       "       [8]])"
      ]
     },
     "execution_count": 7,
     "metadata": {},
     "output_type": "execute_result"
    }
   ],
   "source": [
    "np.arange(0,10,2).reshape(5,1)"
   ]
  },
  {
   "cell_type": "code",
   "execution_count": 8,
   "id": "7f016977",
   "metadata": {},
   "outputs": [
    {
     "data": {
      "text/plain": [
       "array([[1., 1., 1., 1.],\n",
       "       [1., 1., 1., 1.],\n",
       "       [1., 1., 1., 1.]])"
      ]
     },
     "execution_count": 8,
     "metadata": {},
     "output_type": "execute_result"
    }
   ],
   "source": [
    "np.ones((3,4))\n"
   ]
  },
  {
   "cell_type": "code",
   "execution_count": 9,
   "id": "7989e84c",
   "metadata": {},
   "outputs": [
    {
     "data": {
      "text/plain": [
       "array([[1., 0., 0., 0.],\n",
       "       [0., 1., 0., 0.],\n",
       "       [0., 0., 1., 0.],\n",
       "       [0., 0., 0., 1.]])"
      ]
     },
     "execution_count": 9,
     "metadata": {},
     "output_type": "execute_result"
    }
   ],
   "source": [
    "# identity matrix \n",
    "np.eye(4)\n",
    "\n",
    "\n",
    "\n"
   ]
  },
  {
   "cell_type": "code",
   "execution_count": 10,
   "id": "2fa9e220",
   "metadata": {},
   "outputs": [
    {
     "data": {
      "text/plain": [
       "array([[0., 0., 0.],\n",
       "       [0., 0., 0.]])"
      ]
     },
     "execution_count": 10,
     "metadata": {},
     "output_type": "execute_result"
    }
   ],
   "source": [
    "np.zeros((2,3))"
   ]
  },
  {
   "cell_type": "code",
   "execution_count": 11,
   "id": "c8f16c0b",
   "metadata": {},
   "outputs": [
    {
     "name": "stdout",
     "output_type": "stream",
     "text": [
      "Array :\n",
      " [[1 2 3]\n",
      " [4 5 6]]\n",
      "Shape: (2, 3)\n",
      "Data Type: int64\n",
      "Number of Dimensions: 2\n",
      "Size (Total number of elements): 6\n",
      "Data type : int64\n",
      "Item size (in bytes): 8\n",
      "Memory Address of first element: 2805567984736\n"
     ]
    }
   ],
   "source": [
    "##  Attributes of numpy array \n",
    "arr = np.array([[1,2,3],[4,5,6]])\n",
    "print(\"Array :\\n\" ,arr)\n",
    "print(\"Shape:\", arr.shape)\n",
    "print(\"Data Type:\", arr.dtype)\n",
    "print(\"Number of Dimensions:\", arr.ndim)\n",
    "print(\"Size (Total number of elements):\", arr.size)\n",
    "print(\"Data type :\",arr.dtype)\n",
    "print(\"Item size (in bytes):\", arr.itemsize)\n",
    "print(\"Memory Address of first element:\", arr.ctypes.data)"
   ]
  },
  {
   "cell_type": "code",
   "execution_count": 12,
   "id": "ddbb21b9",
   "metadata": {},
   "outputs": [
    {
     "name": "stdout",
     "output_type": "stream",
     "text": [
      "Array a: [1 2 3 4]\n",
      "Array b: [10 20 30 40]\n",
      "Addition: [11 22 33 44]\n",
      "Subtraction: [ 9 18 27 36]\n",
      "Multiplication: [ 10  40  90 160]\n",
      "Division: [10. 10. 10. 10.]\n",
      "Exponentiation: [ 1  4  9 16]\n",
      "Square Root of b: [3.16227766 4.47213595 5.47722558 6.32455532]\n"
     ]
    }
   ],
   "source": [
    " # numpy vectorized operations\n",
    "a = np.array([1,2,3,4])\n",
    "b = np.array([10,20,30,40 ])\n",
    "print(\"Array a:\", a)\n",
    "print(\"Array b:\", b)       \n",
    "print(\"Addition:\", a + b)\n",
    "print(\"Subtraction:\", b - a)\n",
    "print(\"Multiplication:\", a * b)\n",
    "print(\"Division:\", b / a)\n",
    "print(\"Exponentiation:\", a ** 2)\n",
    "print(\"Square Root of b:\", np.sqrt(b))\n"
   ]
  },
  {
   "cell_type": "code",
   "execution_count": 13,
   "id": "791da375",
   "metadata": {},
   "outputs": [
    {
     "name": "stdout",
     "output_type": "stream",
     "text": [
      "Original Array: [ 1  4  9 16 25]\n",
      "Square Root: [1. 2. 3. 4. 5.]\n",
      "Exponential: [2.71828183e+00 5.45981500e+01 8.10308393e+03 8.88611052e+06\n",
      " 7.20048993e+10]\n",
      "Natural Logarithm: [0.         1.38629436 2.19722458 2.77258872 3.21887582]\n",
      "Sine: [ 0.84147098 -0.7568025   0.41211849 -0.28790332 -0.13235175]\n",
      "Cosine: [ 0.54030231 -0.65364362 -0.91113026 -0.95765948  0.99120281]\n",
      "Mean: 11.0\n",
      "Standard Deviation: 8.648699324175862\n"
     ]
    }
   ],
   "source": [
    " ## universal functions\n",
    "arr = np.array([1,4,9,16,25])\n",
    "print(\"Original Array:\", arr)\n",
    "print(\"Square Root:\", np.sqrt(arr))\n",
    "print(\"Exponential:\", np.exp(arr))\n",
    "print(\"Natural Logarithm:\", np.log(arr))\n",
    "print(\"Sine:\", np.sin(arr))\n",
    "print(\"Cosine:\", np.cos(arr))\n",
    "print(\"Mean:\", np.mean(arr))\n",
    "print(\"Standard Deviation:\", np.std(arr))\n"
   ]
  },
  {
   "cell_type": "code",
   "execution_count": 14,
   "id": "bd8f8058",
   "metadata": {},
   "outputs": [
    {
     "name": "stdout",
     "output_type": "stream",
     "text": [
      "Original Array:\n",
      " [[ 1  2  3  4]\n",
      " [ 5  6  7  8]\n",
      " [ 9 10 11 12]]\n"
     ]
    }
   ],
   "source": [
    "## array slicing and indexing\n",
    "arr = np.array([[1,2,3,4],[5,6,7,8],[9,10,11,12]])\n",
    "print(\"Original Array:\\n\", arr)\n"
   ]
  },
  {
   "cell_type": "code",
   "execution_count": 15,
   "id": "58a9f6dd",
   "metadata": {},
   "outputs": [
    {
     "data": {
      "text/plain": [
       "array([1, 2, 3, 4])"
      ]
     },
     "execution_count": 15,
     "metadata": {},
     "output_type": "execute_result"
    }
   ],
   "source": [
    "arr[0]\n"
   ]
  },
  {
   "cell_type": "code",
   "execution_count": 16,
   "id": "e671cd40",
   "metadata": {},
   "outputs": [
    {
     "name": "stdout",
     "output_type": "stream",
     "text": [
      "[[1 2 3 4]\n",
      " [5 6 7 8]]\n"
     ]
    }
   ],
   "source": [
    "print(arr[0:2])"
   ]
  },
  {
   "cell_type": "code",
   "execution_count": 17,
   "id": "bb06acf7",
   "metadata": {},
   "outputs": [
    {
     "data": {
      "text/plain": [
       "array([[ 5,  6,  7,  8],\n",
       "       [ 9, 10, 11, 12]])"
      ]
     },
     "execution_count": 17,
     "metadata": {},
     "output_type": "execute_result"
    }
   ],
   "source": [
    "arr[1:]"
   ]
  },
  {
   "cell_type": "code",
   "execution_count": 18,
   "id": "3078411e",
   "metadata": {},
   "outputs": [
    {
     "name": "stdout",
     "output_type": "stream",
     "text": [
      "[[1 2 3 4]\n",
      " [5 6 7 8]]\n"
     ]
    }
   ],
   "source": [
    "print(arr[0:2])"
   ]
  },
  {
   "cell_type": "code",
   "execution_count": 19,
   "id": "7807a2e1",
   "metadata": {},
   "outputs": [
    {
     "data": {
      "text/plain": [
       "array([[ 7,  8],\n",
       "       [11, 12]])"
      ]
     },
     "execution_count": 19,
     "metadata": {},
     "output_type": "execute_result"
    }
   ],
   "source": [
    "arr[1:,2:]"
   ]
  },
  {
   "cell_type": "code",
   "execution_count": 20,
   "id": "32c08819",
   "metadata": {},
   "outputs": [
    {
     "name": "stdout",
     "output_type": "stream",
     "text": [
      "[[3 4]\n",
      " [7 8]]\n"
     ]
    }
   ],
   "source": [
    "print(arr[0:2,2:])"
   ]
  },
  {
   "cell_type": "code",
   "execution_count": 21,
   "id": "bb3220b9",
   "metadata": {},
   "outputs": [
    {
     "name": "stdout",
     "output_type": "stream",
     "text": [
      "[[99  2  3  4]\n",
      " [ 5  6  7  8]\n",
      " [ 9 10 11 12]]\n"
     ]
    }
   ],
   "source": [
    "## modifiy array elements\n",
    "arr[0,0]=99\n",
    "print(arr)\n"
   ]
  },
  {
   "cell_type": "code",
   "execution_count": 23,
   "id": "3f5ebc68",
   "metadata": {},
   "outputs": [
    {
     "name": "stdout",
     "output_type": "stream",
     "text": [
      "[[99  2  3  4]\n",
      " [50 50 50 50]\n",
      " [50 50 50 50]]\n"
     ]
    }
   ],
   "source": [
    "arr[1:]=50\n",
    "print(arr)\n"
   ]
  },
  {
   "cell_type": "code",
   "execution_count": 26,
   "id": "acde1b7d",
   "metadata": {},
   "outputs": [
    {
     "name": "stdout",
     "output_type": "stream",
     "text": [
      "[[100 100 100 100]\n",
      " [100 100 100 100]\n",
      " [ 50 100  50  50]]\n"
     ]
    }
   ],
   "source": [
    "arr[:2]=100\n",
    "print(arr)"
   ]
  },
  {
   "cell_type": "code",
   "execution_count": 29,
   "id": "8e4dc4bd",
   "metadata": {},
   "outputs": [
    {
     "name": "stdout",
     "output_type": "stream",
     "text": [
      "[[ 10  10  10  10]\n",
      " [100 100 100 100]\n",
      " [ 50 100  50  50]]\n"
     ]
    }
   ],
   "source": [
    "arr[:-2]=10\n",
    "print(arr)"
   ]
  },
  {
   "cell_type": "code",
   "execution_count": null,
   "id": "77ed8d06",
   "metadata": {},
   "outputs": [
    {
     "name": "stdout",
     "output_type": "stream",
     "text": [
      "Normalized Data: [-1.41421356 -0.70710678  0.          0.70710678  1.41421356]\n"
     ]
    }
   ],
   "source": [
    "### statictical concepts -- Normalization  \n",
    "## to have a mean of 0  and s tadard deviation of 1 \n",
    "data = np.array([10,20,30,40,50])\n",
    "mean = np.mean(data) \n",
    "std_dev= np.std(data)\n",
    "## noramalize the data \n",
    "###Normalization is a technique to rescale data so that it fits within a certain range, \n",
    "# often to make datasets comparable or suitable for analysis.\n",
    "noramlized_data= (data-mean)/std_dev\n",
    "print(\"Normalized Data:\", noramlized_data)\n",
    "#!/usr/bin/env python3"
   ]
  },
  {
   "cell_type": "code",
   "execution_count": 34,
   "id": "db63ad8f",
   "metadata": {},
   "outputs": [
    {
     "name": "stdout",
     "output_type": "stream",
     "text": [
      "Original Data: [ 1  2  3  4  5  6  7  8  9 10]\n"
     ]
    },
    {
     "data": {
      "text/plain": [
       "array([5, 6, 7, 8])"
      ]
     },
     "execution_count": 34,
     "metadata": {},
     "output_type": "execute_result"
    }
   ],
   "source": [
    "## logical operations on arrays\n",
    "data = np.array([1,2,3,4,5,6,7,8,9,10])\n",
    "print(\"Original Data:\", data)\n",
    "data[(data>=5)&(data<=8)]\n"
   ]
  },
  {
   "cell_type": "code",
   "execution_count": null,
   "id": "12c5bb3b",
   "metadata": {},
   "outputs": [],
   "source": []
  }
 ],
 "metadata": {
  "kernelspec": {
   "display_name": "venv",
   "language": "python",
   "name": "python3"
  },
  "language_info": {
   "codemirror_mode": {
    "name": "ipython",
    "version": 3
   },
   "file_extension": ".py",
   "mimetype": "text/x-python",
   "name": "python",
   "nbconvert_exporter": "python",
   "pygments_lexer": "ipython3",
   "version": "3.13.7"
  }
 },
 "nbformat": 4,
 "nbformat_minor": 5
}
