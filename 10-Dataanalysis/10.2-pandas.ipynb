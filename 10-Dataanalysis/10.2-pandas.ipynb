{
 "cells": [
  {
   "cell_type": "markdown",
   "id": "7252d1fd",
   "metadata": {},
   "source": [
    "Pandas- DataFrame And Series \n",
    "Pandas is powerful data manipulation library in python , widely used for data analysis and data cleaning \n",
    "it provides two primary data structures :Series and DataFrame . A Series is a one- dimensional array-like Object, while a DataFrame is a two -dementional , size mutable, and Potentially heterogeneous tabular data structure with labeled axes(row and columns )"
   ]
  },
  {
   "cell_type": "code",
   "execution_count": 3,
   "id": "677156ba",
   "metadata": {},
   "outputs": [
    {
     "name": "stdout",
     "output_type": "stream",
     "text": [
      "Series \n",
      "  0    1\n",
      "1    2\n",
      "2    3\n",
      "3    4\n",
      "4    5\n",
      "dtype: int64\n",
      "Data type of Series:  int64 <class 'pandas.core.series.Series'>\n"
     ]
    }
   ],
   "source": [
    "## A pandas Series is a one-dimensional labeled array-like object that can hold any data type.  it is similar to a column in a table or a single column in a DataFrame.\n",
    "\n",
    "import pandas as pd\n",
    "data =[1, 2, 3, 4, 5]\n",
    "series = pd.Series(data)\n",
    "print(\"Series \\n \" ,series)\n",
    "print(\"Data type of Series: \", series.dtype,type(series))\n"
   ]
  },
  {
   "cell_type": "code",
   "execution_count": 4,
   "id": "f33b9ef9",
   "metadata": {},
   "outputs": [
    {
     "name": "stdout",
     "output_type": "stream",
     "text": [
      "\n",
      " Series from dictionary \n",
      "  a    10\n",
      "b    20\n",
      "c    30\n",
      "dtype: int64\n"
     ]
    }
   ],
   "source": [
    "## Create  a Series  from  a dictionary \n",
    "data = {'a': 10, 'b': 20, 'c': 30}\n",
    "series_dict= pd.Series(data)\n",
    "print(\"\\n Series from dictionary \\n \", series_dict)   "
   ]
  },
  {
   "cell_type": "code",
   "execution_count": 5,
   "id": "9bb8ce37",
   "metadata": {},
   "outputs": [
    {
     "data": {
      "text/plain": [
       "a    10\n",
       "b    20\n",
       "c    30\n",
       "dtype: int64"
      ]
     },
     "execution_count": 5,
     "metadata": {},
     "output_type": "execute_result"
    }
   ],
   "source": [
    "data = [10,20,30,]\n",
    "index = ['a','b','c']\n",
    "pd.Series(data,index=index)"
   ]
  },
  {
   "cell_type": "code",
   "execution_count": 6,
   "id": "1b95ecfb",
   "metadata": {},
   "outputs": [
    {
     "name": "stdout",
     "output_type": "stream",
     "text": [
      "Simple Series:\n",
      "0    72\n",
      "1    75\n",
      "2    68\n",
      "3    80\n",
      "4    77\n",
      "dtype: int64\n",
      "\n"
     ]
    }
   ],
   "source": [
    "# A Series is a 1D labeled array\n",
    "\n",
    "# Creating a Series from a list\n",
    "temperatures = pd.Series([72, 75, 68, 80, 77])\n",
    "print(\"Simple Series:\")\n",
    "print(temperatures)\n",
    "print()\n"
   ]
  },
  {
   "cell_type": "code",
   "execution_count": 8,
   "id": "8f32e476",
   "metadata": {},
   "outputs": [
    {
     "name": "stdout",
     "output_type": "stream",
     "text": [
      "Series with custom index:\n",
      "Mon    72\n",
      "Tue    75\n",
      "Wed    68\n",
      "Thu    80\n",
      "Fri    77\n",
      "dtype: int64\n",
      "\n",
      "Temperature on Wednesday: 68\n"
     ]
    }
   ],
   "source": [
    "\n",
    "# Creating a Series with custom labels (index)\n",
    "temperatures_labeled = pd.Series([72, 75, 68, 80, 77], \n",
    "                                 index=['Mon', 'Tue', 'Wed', 'Thu', 'Fri'])\n",
    "print(\"Series with custom index:\")\n",
    "print(temperatures_labeled)\n",
    "print()\n",
    "\n",
    "# Accessing values\n",
    "print(\"Temperature on Wednesday:\", temperatures_labeled['Wed'])\n"
   ]
  },
  {
   "cell_type": "code",
   "execution_count": 18,
   "id": "9e2e0430",
   "metadata": {},
   "outputs": [
    {
     "name": "stdout",
     "output_type": "stream",
     "text": [
      "DataFrame:\n",
      "      Name  Age      City\n",
      "0    Alice   25  New York\n",
      "1      Bob   30     Paris\n",
      "2  Charlie   35    London\n",
      "3    Diana   28     Tokyo\n"
     ]
    },
    {
     "data": {
      "text/plain": [
       "array([['Alice', 25, 'New York'],\n",
       "       ['Bob', 30, 'Paris'],\n",
       "       ['Charlie', 35, 'London'],\n",
       "       ['Diana', 28, 'Tokyo']], dtype=object)"
      ]
     },
     "execution_count": 18,
     "metadata": {},
     "output_type": "execute_result"
    }
   ],
   "source": [
    "# ========== DATAFRAME ==========\n",
    "# A DataFrame is a 2D table with rows and columns\n",
    "\n",
    "# Creating a DataFrame from a dictionary\n",
    "# Each key becomes a column name, each value is a Series\n",
    "data = {\n",
    "    'Name': ['Alice', 'Bob', 'Charlie', 'Diana'],\n",
    "    'Age': [25, 30, 35, 28],\n",
    "    'City': ['New York', 'Paris', 'London', 'Tokyo']\n",
    "}\n",
    "\n",
    "df = pd.DataFrame(data)\n",
    "print(\"DataFrame:\")\n",
    "print(df)\n",
    "import numpy as np\n",
    "np.array(df)\n",
    "\n"
   ]
  },
  {
   "cell_type": "code",
   "execution_count": 16,
   "id": "9a341f7c",
   "metadata": {},
   "outputs": [
    {
     "name": "stdout",
     "output_type": "stream",
     "text": [
      "The 'Age' column (a Series):\n",
      "0    25\n",
      "1    30\n",
      "2    35\n",
      "3    28\n",
      "Name: Age, dtype: int64\n"
     ]
    }
   ],
   "source": [
    "# Accessing a column (returns a Series)\n",
    "print(\"The 'Age' column (a Series):\")\n",
    "print(df['Age'])\n",
    "\n"
   ]
  },
  {
   "cell_type": "code",
   "execution_count": 21,
   "id": "f0c3be23",
   "metadata": {},
   "outputs": [
    {
     "name": "stdout",
     "output_type": "stream",
     "text": [
      "First row:\n",
      "Name       Alice\n",
      "Age           25\n",
      "City    New York\n",
      "Name: 0, dtype: object\n",
      "\n"
     ]
    }
   ],
   "source": [
    "# Accessing a row by index position\n",
    "print(\"First row:\")\n",
    "print(df.iloc[0])\n",
    "print()\n"
   ]
  },
  {
   "cell_type": "code",
   "execution_count": 25,
   "id": "c04f5ccf",
   "metadata": {},
   "outputs": [
    {
     "name": "stdout",
     "output_type": "stream",
     "text": [
      "DataFrame with new column:\n",
      "      Name  Age      City Country\n",
      "0    Alice   25  New York     USA\n",
      "1      Bob   30     Paris  France\n",
      "2  Charlie   35    London      UK\n",
      "\n"
     ]
    }
   ],
   "source": [
    "\n",
    "# Adding a new column\n",
    "df['Country'] = ['USA', 'France', 'UK']\n",
    "print(\"DataFrame with new column:\")\n",
    "print(df)\n",
    "print()"
   ]
  },
  {
   "cell_type": "code",
   "execution_count": 26,
   "id": "2deeeeda",
   "metadata": {},
   "outputs": [
    {
     "name": "stdout",
     "output_type": "stream",
     "text": [
      "Average age: 30.0\n",
      "Max age: 35\n"
     ]
    }
   ],
   "source": [
    "# Basic operations\n",
    "print(\"Average age:\", df['Age'].mean())\n",
    "print(\"Max age:\", df['Age'].max())"
   ]
  },
  {
   "cell_type": "code",
   "execution_count": 48,
   "id": "4eb7028e",
   "metadata": {},
   "outputs": [
    {
     "name": "stdout",
     "output_type": "stream",
     "text": [
      "DataFrame from list of dictionaries:\n",
      "      Name  Age      City\n",
      "0    Alice   25  New York\n",
      "1      Bob   30     Paris\n",
      "2  Charlie   35    London\n"
     ]
    }
   ],
   "source": [
    "## creating a data frame from a list of dictionaries\n",
    "data = [\n",
    "    {'Name': 'Alice', 'Age': 25, 'City': 'New York'},\n",
    "    {'Name': 'Bob', 'Age': 30, 'City': 'Paris'},\n",
    "    {'Name': 'Charlie', 'Age': 35, 'City': 'London'}\n",
    "]\n",
    "df = pd.DataFrame(data)\n",
    "print(\"DataFrame from list of dictionaries:\")\n",
    "print(df)"
   ]
  },
  {
   "cell_type": "code",
   "execution_count": 105,
   "id": "e247a8e9",
   "metadata": {},
   "outputs": [
    {
     "data": {
      "text/html": [
       "<div>\n",
       "<style scoped>\n",
       "    .dataframe tbody tr th:only-of-type {\n",
       "        vertical-align: middle;\n",
       "    }\n",
       "\n",
       "    .dataframe tbody tr th {\n",
       "        vertical-align: top;\n",
       "    }\n",
       "\n",
       "    .dataframe thead th {\n",
       "        text-align: right;\n",
       "    }\n",
       "</style>\n",
       "<table border=\"1\" class=\"dataframe\">\n",
       "  <thead>\n",
       "    <tr style=\"text-align: right;\">\n",
       "      <th></th>\n",
       "      <th>work_year</th>\n",
       "      <th>experience_level</th>\n",
       "      <th>employment_type</th>\n",
       "      <th>job_title</th>\n",
       "      <th>salary</th>\n",
       "      <th>salary_currency</th>\n",
       "      <th>salary_in_usd</th>\n",
       "      <th>employee_residence</th>\n",
       "      <th>remote_ratio</th>\n",
       "      <th>company_location</th>\n",
       "      <th>company_size</th>\n",
       "    </tr>\n",
       "  </thead>\n",
       "  <tbody>\n",
       "    <tr>\n",
       "      <th>0</th>\n",
       "      <td>2021</td>\n",
       "      <td>MI</td>\n",
       "      <td>FT</td>\n",
       "      <td>Data Scientist</td>\n",
       "      <td>30400000</td>\n",
       "      <td>CLP</td>\n",
       "      <td>40038</td>\n",
       "      <td>CL</td>\n",
       "      <td>100</td>\n",
       "      <td>CL</td>\n",
       "      <td>L</td>\n",
       "    </tr>\n",
       "    <tr>\n",
       "      <th>1</th>\n",
       "      <td>2021</td>\n",
       "      <td>MI</td>\n",
       "      <td>FT</td>\n",
       "      <td>BI Data Analyst</td>\n",
       "      <td>11000000</td>\n",
       "      <td>HUF</td>\n",
       "      <td>36259</td>\n",
       "      <td>HU</td>\n",
       "      <td>50</td>\n",
       "      <td>US</td>\n",
       "      <td>L</td>\n",
       "    </tr>\n",
       "    <tr>\n",
       "      <th>2</th>\n",
       "      <td>2020</td>\n",
       "      <td>MI</td>\n",
       "      <td>FT</td>\n",
       "      <td>Data Scientist</td>\n",
       "      <td>11000000</td>\n",
       "      <td>HUF</td>\n",
       "      <td>35735</td>\n",
       "      <td>HU</td>\n",
       "      <td>50</td>\n",
       "      <td>HU</td>\n",
       "      <td>L</td>\n",
       "    </tr>\n",
       "    <tr>\n",
       "      <th>3</th>\n",
       "      <td>2021</td>\n",
       "      <td>MI</td>\n",
       "      <td>FT</td>\n",
       "      <td>ML Engineer</td>\n",
       "      <td>8500000</td>\n",
       "      <td>JPY</td>\n",
       "      <td>77364</td>\n",
       "      <td>JP</td>\n",
       "      <td>50</td>\n",
       "      <td>JP</td>\n",
       "      <td>S</td>\n",
       "    </tr>\n",
       "    <tr>\n",
       "      <th>4</th>\n",
       "      <td>2022</td>\n",
       "      <td>SE</td>\n",
       "      <td>FT</td>\n",
       "      <td>Lead Machine Learning Engineer</td>\n",
       "      <td>7500000</td>\n",
       "      <td>INR</td>\n",
       "      <td>95386</td>\n",
       "      <td>IN</td>\n",
       "      <td>50</td>\n",
       "      <td>IN</td>\n",
       "      <td>L</td>\n",
       "    </tr>\n",
       "  </tbody>\n",
       "</table>\n",
       "</div>"
      ],
      "text/plain": [
       "   work_year experience_level employment_type                       job_title  \\\n",
       "0       2021               MI              FT                  Data Scientist   \n",
       "1       2021               MI              FT                 BI Data Analyst   \n",
       "2       2020               MI              FT                  Data Scientist   \n",
       "3       2021               MI              FT                     ML Engineer   \n",
       "4       2022               SE              FT  Lead Machine Learning Engineer   \n",
       "\n",
       "     salary salary_currency  salary_in_usd employee_residence  remote_ratio  \\\n",
       "0  30400000             CLP          40038                 CL           100   \n",
       "1  11000000             HUF          36259                 HU            50   \n",
       "2  11000000             HUF          35735                 HU            50   \n",
       "3   8500000             JPY          77364                 JP            50   \n",
       "4   7500000             INR          95386                 IN            50   \n",
       "\n",
       "  company_location company_size  \n",
       "0               CL            L  \n",
       "1               US            L  \n",
       "2               HU            L  \n",
       "3               JP            S  \n",
       "4               IN            L  "
      ]
     },
     "execution_count": 105,
     "metadata": {},
     "output_type": "execute_result"
    }
   ],
   "source": [
    "df = pd.read_csv('Ds_salaries.csv')\n",
    "df.head()"
   ]
  },
  {
   "cell_type": "code",
   "execution_count": 106,
   "id": "b5a8ccba",
   "metadata": {},
   "outputs": [
    {
     "data": {
      "text/plain": [
       "work_year                       2021\n",
       "experience_level                  MI\n",
       "employment_type                   FT\n",
       "job_title             Data Scientist\n",
       "salary                      30400000\n",
       "salary_currency                  CLP\n",
       "salary_in_usd                  40038\n",
       "employee_residence                CL\n",
       "remote_ratio                     100\n",
       "company_location                  CL\n",
       "company_size                       L\n",
       "Name: 0, dtype: object"
      ]
     },
     "execution_count": 106,
     "metadata": {},
     "output_type": "execute_result"
    }
   ],
   "source": [
    "df.iloc[0]"
   ]
  },
  {
   "cell_type": "code",
   "execution_count": 94,
   "id": "343fd5f5",
   "metadata": {},
   "outputs": [
    {
     "name": "stderr",
     "output_type": "stream",
     "text": [
      "C:\\Users\\dell\\AppData\\Local\\Temp\\ipykernel_4512\\2900375399.py:1: FutureWarning: Series.__getitem__ treating keys as positions is deprecated. In a future version, integer keys will always be treated as labels (consistent with DataFrame behavior). To access a value by position, use `ser.iloc[pos]`\n",
      "  df.iloc[0][0]\n"
     ]
    },
    {
     "data": {
      "text/plain": [
       "np.int64(2021)"
      ]
     },
     "execution_count": 94,
     "metadata": {},
     "output_type": "execute_result"
    }
   ],
   "source": [
    "df.iloc[0][0]"
   ]
  },
  {
   "cell_type": "code",
   "execution_count": 107,
   "id": "a9cbd2d6",
   "metadata": {},
   "outputs": [
    {
     "name": "stderr",
     "output_type": "stream",
     "text": [
      "C:\\Users\\dell\\AppData\\Local\\Temp\\ipykernel_4512\\1103262492.py:2: FutureWarning: Series.__getitem__ treating keys as positions is deprecated. In a future version, integer keys will always be treated as labels (consistent with DataFrame behavior). To access a value by position, use `ser.iloc[pos]`\n",
      "  df.iloc[0][0]\n"
     ]
    },
    {
     "data": {
      "text/plain": [
       "np.int64(2021)"
      ]
     },
     "execution_count": 107,
     "metadata": {},
     "output_type": "execute_result"
    }
   ],
   "source": [
    "## Accessing the first element of the first row\n",
    "df.iloc[0][0]"
   ]
  },
  {
   "cell_type": "code",
   "execution_count": 108,
   "id": "8cd83f82",
   "metadata": {
    "vscode": {
     "languageId": "markdown"
    }
   },
   "outputs": [
    {
     "data": {
      "text/html": [
       "<div>\n",
       "<style scoped>\n",
       "    .dataframe tbody tr th:only-of-type {\n",
       "        vertical-align: middle;\n",
       "    }\n",
       "\n",
       "    .dataframe tbody tr th {\n",
       "        vertical-align: top;\n",
       "    }\n",
       "\n",
       "    .dataframe thead th {\n",
       "        text-align: right;\n",
       "    }\n",
       "</style>\n",
       "<table border=\"1\" class=\"dataframe\">\n",
       "  <thead>\n",
       "    <tr style=\"text-align: right;\">\n",
       "      <th></th>\n",
       "      <th>work_year</th>\n",
       "      <th>experience_level</th>\n",
       "      <th>employment_type</th>\n",
       "      <th>job_title</th>\n",
       "      <th>salary</th>\n",
       "      <th>salary_currency</th>\n",
       "      <th>salary_in_usd</th>\n",
       "      <th>employee_residence</th>\n",
       "      <th>remote_ratio</th>\n",
       "      <th>company_location</th>\n",
       "      <th>company_size</th>\n",
       "    </tr>\n",
       "  </thead>\n",
       "  <tbody>\n",
       "    <tr>\n",
       "      <th>0</th>\n",
       "      <td>2021</td>\n",
       "      <td>MI</td>\n",
       "      <td>FT</td>\n",
       "      <td>Data Scientist</td>\n",
       "      <td>30400000</td>\n",
       "      <td>CLP</td>\n",
       "      <td>40038</td>\n",
       "      <td>CL</td>\n",
       "      <td>100</td>\n",
       "      <td>CL</td>\n",
       "      <td>L</td>\n",
       "    </tr>\n",
       "    <tr>\n",
       "      <th>1</th>\n",
       "      <td>2021</td>\n",
       "      <td>MI</td>\n",
       "      <td>FT</td>\n",
       "      <td>BI Data Analyst</td>\n",
       "      <td>11000000</td>\n",
       "      <td>HUF</td>\n",
       "      <td>36259</td>\n",
       "      <td>HU</td>\n",
       "      <td>50</td>\n",
       "      <td>US</td>\n",
       "      <td>L</td>\n",
       "    </tr>\n",
       "    <tr>\n",
       "      <th>2</th>\n",
       "      <td>2020</td>\n",
       "      <td>MI</td>\n",
       "      <td>FT</td>\n",
       "      <td>Data Scientist</td>\n",
       "      <td>11000000</td>\n",
       "      <td>HUF</td>\n",
       "      <td>35735</td>\n",
       "      <td>HU</td>\n",
       "      <td>50</td>\n",
       "      <td>HU</td>\n",
       "      <td>L</td>\n",
       "    </tr>\n",
       "    <tr>\n",
       "      <th>3</th>\n",
       "      <td>2021</td>\n",
       "      <td>MI</td>\n",
       "      <td>FT</td>\n",
       "      <td>ML Engineer</td>\n",
       "      <td>8500000</td>\n",
       "      <td>JPY</td>\n",
       "      <td>77364</td>\n",
       "      <td>JP</td>\n",
       "      <td>50</td>\n",
       "      <td>JP</td>\n",
       "      <td>S</td>\n",
       "    </tr>\n",
       "    <tr>\n",
       "      <th>4</th>\n",
       "      <td>2022</td>\n",
       "      <td>SE</td>\n",
       "      <td>FT</td>\n",
       "      <td>Lead Machine Learning Engineer</td>\n",
       "      <td>7500000</td>\n",
       "      <td>INR</td>\n",
       "      <td>95386</td>\n",
       "      <td>IN</td>\n",
       "      <td>50</td>\n",
       "      <td>IN</td>\n",
       "      <td>L</td>\n",
       "    </tr>\n",
       "    <tr>\n",
       "      <th>...</th>\n",
       "      <td>...</td>\n",
       "      <td>...</td>\n",
       "      <td>...</td>\n",
       "      <td>...</td>\n",
       "      <td>...</td>\n",
       "      <td>...</td>\n",
       "      <td>...</td>\n",
       "      <td>...</td>\n",
       "      <td>...</td>\n",
       "      <td>...</td>\n",
       "      <td>...</td>\n",
       "    </tr>\n",
       "    <tr>\n",
       "      <th>14833</th>\n",
       "      <td>2022</td>\n",
       "      <td>MI</td>\n",
       "      <td>FT</td>\n",
       "      <td>Business Intelligence Developer</td>\n",
       "      <td>15000</td>\n",
       "      <td>USD</td>\n",
       "      <td>15000</td>\n",
       "      <td>GH</td>\n",
       "      <td>100</td>\n",
       "      <td>GH</td>\n",
       "      <td>M</td>\n",
       "    </tr>\n",
       "    <tr>\n",
       "      <th>14834</th>\n",
       "      <td>2020</td>\n",
       "      <td>EX</td>\n",
       "      <td>FT</td>\n",
       "      <td>Staff Data Analyst</td>\n",
       "      <td>15000</td>\n",
       "      <td>USD</td>\n",
       "      <td>15000</td>\n",
       "      <td>NG</td>\n",
       "      <td>0</td>\n",
       "      <td>CA</td>\n",
       "      <td>M</td>\n",
       "    </tr>\n",
       "    <tr>\n",
       "      <th>14835</th>\n",
       "      <td>2021</td>\n",
       "      <td>EN</td>\n",
       "      <td>FT</td>\n",
       "      <td>Machine Learning Developer</td>\n",
       "      <td>15000</td>\n",
       "      <td>USD</td>\n",
       "      <td>15000</td>\n",
       "      <td>TH</td>\n",
       "      <td>100</td>\n",
       "      <td>TH</td>\n",
       "      <td>L</td>\n",
       "    </tr>\n",
       "    <tr>\n",
       "      <th>14836</th>\n",
       "      <td>2022</td>\n",
       "      <td>EN</td>\n",
       "      <td>FT</td>\n",
       "      <td>Data Analyst</td>\n",
       "      <td>15000</td>\n",
       "      <td>USD</td>\n",
       "      <td>15000</td>\n",
       "      <td>ID</td>\n",
       "      <td>0</td>\n",
       "      <td>ID</td>\n",
       "      <td>L</td>\n",
       "    </tr>\n",
       "    <tr>\n",
       "      <th>14837</th>\n",
       "      <td>2020</td>\n",
       "      <td>EN</td>\n",
       "      <td>PT</td>\n",
       "      <td>ML Engineer</td>\n",
       "      <td>14000</td>\n",
       "      <td>EUR</td>\n",
       "      <td>15966</td>\n",
       "      <td>DE</td>\n",
       "      <td>100</td>\n",
       "      <td>DE</td>\n",
       "      <td>S</td>\n",
       "    </tr>\n",
       "  </tbody>\n",
       "</table>\n",
       "<p>14838 rows × 11 columns</p>\n",
       "</div>"
      ],
      "text/plain": [
       "       work_year experience_level employment_type  \\\n",
       "0           2021               MI              FT   \n",
       "1           2021               MI              FT   \n",
       "2           2020               MI              FT   \n",
       "3           2021               MI              FT   \n",
       "4           2022               SE              FT   \n",
       "...          ...              ...             ...   \n",
       "14833       2022               MI              FT   \n",
       "14834       2020               EX              FT   \n",
       "14835       2021               EN              FT   \n",
       "14836       2022               EN              FT   \n",
       "14837       2020               EN              PT   \n",
       "\n",
       "                             job_title    salary salary_currency  \\\n",
       "0                       Data Scientist  30400000             CLP   \n",
       "1                      BI Data Analyst  11000000             HUF   \n",
       "2                       Data Scientist  11000000             HUF   \n",
       "3                          ML Engineer   8500000             JPY   \n",
       "4       Lead Machine Learning Engineer   7500000             INR   \n",
       "...                                ...       ...             ...   \n",
       "14833  Business Intelligence Developer     15000             USD   \n",
       "14834               Staff Data Analyst     15000             USD   \n",
       "14835       Machine Learning Developer     15000             USD   \n",
       "14836                     Data Analyst     15000             USD   \n",
       "14837                      ML Engineer     14000             EUR   \n",
       "\n",
       "       salary_in_usd employee_residence  remote_ratio company_location  \\\n",
       "0              40038                 CL           100               CL   \n",
       "1              36259                 HU            50               US   \n",
       "2              35735                 HU            50               HU   \n",
       "3              77364                 JP            50               JP   \n",
       "4              95386                 IN            50               IN   \n",
       "...              ...                ...           ...              ...   \n",
       "14833          15000                 GH           100               GH   \n",
       "14834          15000                 NG             0               CA   \n",
       "14835          15000                 TH           100               TH   \n",
       "14836          15000                 ID             0               ID   \n",
       "14837          15966                 DE           100               DE   \n",
       "\n",
       "      company_size  \n",
       "0                L  \n",
       "1                L  \n",
       "2                L  \n",
       "3                S  \n",
       "4                L  \n",
       "...            ...  \n",
       "14833            M  \n",
       "14834            M  \n",
       "14835            L  \n",
       "14836            L  \n",
       "14837            S  \n",
       "\n",
       "[14838 rows x 11 columns]"
      ]
     },
     "execution_count": 108,
     "metadata": {},
     "output_type": "execute_result"
    }
   ],
   "source": [
    "df"
   ]
  },
  {
   "cell_type": "code",
   "execution_count": 109,
   "id": "85b61260",
   "metadata": {},
   "outputs": [
    {
     "name": "stdout",
     "output_type": "stream",
     "text": [
      "Specific element from DataFrame: Data Scientist\n",
      "Specific element from Series: 25\n"
     ]
    }
   ],
   "source": [
    "# Accessing a specific element in the DataFrame (row 0, column 'job_title')\n",
    "specific_element_df = df.iloc[0]['job_title']\n",
    "print(\"Specific element from DataFrame:\", specific_element_df)\n",
    "\n",
    "# Accessing a specific element in the Series (index 'b')\n",
    "specific_element_series = series_dict['b']\n",
    "print(\"Specific element from Series:\", specific_element_series)"
   ]
  },
  {
   "cell_type": "code",
   "execution_count": 110,
   "id": "aa6e3c66",
   "metadata": {},
   "outputs": [
    {
     "name": "stdout",
     "output_type": "stream",
     "text": [
      "Updated DataFrame element (row 0, 'job_title'): Senior Data Scientist\n",
      "Updated Series element (index 'b'): 25\n",
      "Value at series_dict['b']: 25\n",
      "job_title    Senior Data Scientist\n",
      "Name: 0, dtype: object\n",
      "a    10\n",
      "b    25\n",
      "c    30\n",
      "dtype: int64\n"
     ]
    }
   ],
   "source": [
    "# Assign a new value to a specified DataFrame element (row 0, column 'job_title')\n",
    "df.at[0, 'job_title'] = 'Senior Data Scientist'\n",
    "specific_element_df = df.at[0, 'job_title']\n",
    "print(\"Updated DataFrame element (row 0, 'job_title'):\", specific_element_df)\n",
    "\n",
    "# Assign a new value to a specified Series element (index 'b')\n",
    "series_dict.at['b'] = 25\n",
    "specific_element_series = series_dict.at['b']\n",
    "print(\"Updated Series element (index 'b'):\", specific_element_series)\n",
    "\n",
    "# Quick confirmation prints\n",
    "# Do not overwrite df; read the series value instead\n",
    "value_b = series_dict.at['b'] if 'b' in series_dict.index else None\n",
    "print(\"Value at series_dict['b']:\", value_b)\n",
    "\n",
    "# Quick confirmation prints (safe)\n",
    "if 'job_title' in df.columns:\n",
    "    print(df.loc[0, ['job_title']])\n",
    "print(series_dict)"
   ]
  }
 ],
 "metadata": {
  "kernelspec": {
   "display_name": "venv",
   "language": "python",
   "name": "python3"
  },
  "language_info": {
   "codemirror_mode": {
    "name": "ipython",
    "version": 3
   },
   "file_extension": ".py",
   "mimetype": "text/x-python",
   "name": "python",
   "nbconvert_exporter": "python",
   "pygments_lexer": "ipython3",
   "version": "3.13.7"
  }
 },
 "nbformat": 4,
 "nbformat_minor": 5
}
