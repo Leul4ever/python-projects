{
 "cells": [
  {
   "cell_type": "markdown",
   "id": "7252d1fd",
   "metadata": {},
   "source": [
    "Pandas- DataFrame And Series \n",
    "Pandas is powerful data manipulation library in python , widely used for data analysis and data cleaning \n",
    "it provides two primary data structures :Series and DataFrame . A Series is a one- dimensional array-like Object, while a DataFrame is a two -dementional , size mutable, and Potentially heterogeneous tabular data structure with labeled axes(row and columns )"
   ]
  },
  {
   "cell_type": "code",
   "execution_count": 5,
   "id": "677156ba",
   "metadata": {},
   "outputs": [],
   "source": [
    "import pandas as pd"
   ]
  },
  {
   "cell_type": "code",
   "execution_count": null,
   "id": "f33b9ef9",
   "metadata": {},
   "outputs": [],
   "source": [
    "   "
   ]
  }
 ],
 "metadata": {
  "kernelspec": {
   "display_name": "venv",
   "language": "python",
   "name": "python3"
  },
  "language_info": {
   "codemirror_mode": {
    "name": "ipython",
    "version": 3
   },
   "file_extension": ".py",
   "mimetype": "text/x-python",
   "name": "python",
   "nbconvert_exporter": "python",
   "pygments_lexer": "ipython3",
   "version": "3.13.7"
  }
 },
 "nbformat": 4,
 "nbformat_minor": 5
}
