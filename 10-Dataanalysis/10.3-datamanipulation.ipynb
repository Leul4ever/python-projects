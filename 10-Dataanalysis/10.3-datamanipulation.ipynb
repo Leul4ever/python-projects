{
 "cells": [
  {
   "cell_type": "markdown",
   "id": "4393e2ef",
   "metadata": {},
   "source": [
    "Data Manipulation and Analysis with pandas\n",
    "Data manipulation and analysis are key tasks in any data science or data anaylisis project. Pandas provides a wide range of functions for data manipulation and anaylysis , making it easier to clean ,transform , and extract insight from data. in"
   ]
  },
  {
   "cell_type": "code",
   "execution_count": 2,
   "id": "71ebe866",
   "metadata": {},
   "outputs": [],
   "source": [
    "##\n",
    "import pandas as pd\n"
   ]
  },
  {
   "cell_type": "code",
   "execution_count": null,
   "id": "7dab5934",
   "metadata": {},
   "outputs": [],
   "source": []
  }
 ],
 "metadata": {
  "kernelspec": {
   "display_name": "venv",
   "language": "python",
   "name": "python3"
  },
  "language_info": {
   "codemirror_mode": {
    "name": "ipython",
    "version": 3
   },
   "file_extension": ".py",
   "mimetype": "text/x-python",
   "name": "python",
   "nbconvert_exporter": "python",
   "pygments_lexer": "ipython3",
   "version": "3.13.7"
  }
 },
 "nbformat": 4,
 "nbformat_minor": 5
}
