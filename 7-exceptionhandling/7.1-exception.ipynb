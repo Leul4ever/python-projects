{
 "cells": [
  {
   "cell_type": "code",
   "execution_count": 23,
   "id": "d56852fa",
   "metadata": {},
   "outputs": [
    {
     "ename": "NameError",
     "evalue": "name 'b' is not defined",
     "output_type": "error",
     "traceback": [
      "\u001b[31m---------------------------------------------------------------------------\u001b[39m",
      "\u001b[31mNameError\u001b[39m                                 Traceback (most recent call last)",
      "\u001b[36mCell\u001b[39m\u001b[36m \u001b[39m\u001b[32mIn[23]\u001b[39m\u001b[32m, line 2\u001b[39m\n\u001b[32m      1\u001b[39m a = \u001b[32m3\u001b[39m\n\u001b[32m----> \u001b[39m\u001b[32m2\u001b[39m a=\u001b[43mb\u001b[49m \n",
      "\u001b[31mNameError\u001b[39m: name 'b' is not defined"
     ]
    }
   ],
   "source": [
    "a = 3\n",
    "a=b "
   ]
  },
  {
   "cell_type": "code",
   "execution_count": 24,
   "id": "e0709c01",
   "metadata": {},
   "outputs": [
    {
     "name": "stdout",
     "output_type": "stream",
     "text": [
      "An error occurred: name 'b' is not defined\n"
     ]
    }
   ],
   "source": [
    "try :\n",
    "    a=b \n",
    "except NameError as e:\n",
    "    print(\"An error occurred:\",\n",
    "           e)\n"
   ]
  },
  {
   "cell_type": "code",
   "execution_count": 25,
   "id": "d2f225f9",
   "metadata": {},
   "outputs": [
    {
     "ename": "ZeroDivisionError",
     "evalue": "division by zero",
     "output_type": "error",
     "traceback": [
      "\u001b[31m---------------------------------------------------------------------------\u001b[39m",
      "\u001b[31mZeroDivisionError\u001b[39m                         Traceback (most recent call last)",
      "\u001b[36mCell\u001b[39m\u001b[36m \u001b[39m\u001b[32mIn[25]\u001b[39m\u001b[32m, line 1\u001b[39m\n\u001b[32m----> \u001b[39m\u001b[32m1\u001b[39m result = \u001b[32;43m10\u001b[39;49m\u001b[43m \u001b[49m\u001b[43m/\u001b[49m\u001b[43m \u001b[49m\u001b[32;43m0\u001b[39;49m\n\u001b[32m      2\u001b[39m \u001b[38;5;28mprint\u001b[39m(result)\n",
      "\u001b[31mZeroDivisionError\u001b[39m: division by zero"
     ]
    }
   ],
   "source": [
    "result = 10 / 0\n",
    "print(result)\n",
    "\n",
    "\n"
   ]
  },
  {
   "cell_type": "code",
   "execution_count": 26,
   "id": "b514bc1d",
   "metadata": {},
   "outputs": [
    {
     "name": "stdout",
     "output_type": "stream",
     "text": [
      "An error occurred: division by zero\n",
      "Please do not divide by zero.\n"
     ]
    }
   ],
   "source": [
    "try:\n",
    "    result = 10 / 0\n",
    "    a=b \n",
    "except ZeroDivisionError as e:\n",
    "    print(\"An error occurred:\", e)  \n",
    "    print(\"Please do not divide by zero.\")\n",
    "except Exception as e:\n",
    "    print(\"An error occurred:\", e)\n",
    "    print('main exception coutght here  ')\n"
   ]
  },
  {
   "cell_type": "code",
   "execution_count": 27,
   "id": "f467797e",
   "metadata": {},
   "outputs": [
    {
     "name": "stdout",
     "output_type": "stream",
     "text": [
      "An error occurred: division by zero\n",
      "Please do not divide by zero.\n"
     ]
    }
   ],
   "source": [
    "try:\n",
    "    num = int(input(\"Enter a number: \"))\n",
    "    result = 10 / 0\n",
    "except ZeroDivisionError as e:\n",
    "    print(\"An error occurred:\", e)  \n",
    "    print(\"Please do not divide by zero.\")\n",
    "except ValueError as e:\n",
    "    print(\"An error occurred:\", e)  \n",
    "    print(\"Please do not divide by zero.\")\n",
    "except Exception as e:\n",
    "    print(\"An error occurred:\", e)\n",
    "    print('main exception coutght here  ')"
   ]
  },
  {
   "cell_type": "code",
   "execution_count": 28,
   "id": "b38ed9b6",
   "metadata": {},
   "outputs": [
    {
     "name": "stdout",
     "output_type": "stream",
     "text": [
      "The result is: 0.29411764705882354\n",
      "Execution completed.\n"
     ]
    }
   ],
   "source": [
    "# try except else finally\n",
    "try:\n",
    "    num = int(input(\"Enter a number: \"))\n",
    "    result = 10 / num\n",
    "except ZeroDivisionError as e:\n",
    "    print(\"An error occurred:\", e)  \n",
    "    print(\"Please do not divide by zero.\")  \n",
    "except ValueError as e:\n",
    "    print(\"An error occurred:\", e)  \n",
    "    print(\"Invalid input. Please enter a valid number.\")    \n",
    "except Exception as e:\n",
    "    print(\"An error occurred:\", e)\n",
    "    print('main exception coutght here  ')\n",
    "else:\n",
    "    print(\"The result is:\", result)\n",
    "finally:\n",
    "    print(\"Execution completed.\")"
   ]
  },
  {
   "cell_type": "code",
   "execution_count": 32,
   "id": "dc2c2c32",
   "metadata": {},
   "outputs": [
    {
     "name": "stdout",
     "output_type": "stream",
     "text": [
      "file does not exist \n"
     ]
    }
   ],
   "source": [
    "#  file handling and exception handling \n",
    "try:\n",
    "    with open(\"exaple1.txt\", 'r') as file:\n",
    "      content=file.read()\n",
    "      a=b\n",
    "      print(content)\n",
    "except FileNotFoundError:\n",
    "    print(\"file does not exist \")\n",
    "finally:\n",
    "    if 'file' in locals() and not file.close():\n",
    "        file.close\n",
    "        print('file closed ')  \n",
    "    "
   ]
  },
  {
   "cell_type": "code",
   "execution_count": null,
   "id": "0c55b10c",
   "metadata": {},
   "outputs": [],
   "source": []
  },
  {
   "cell_type": "code",
   "execution_count": null,
   "id": "565db38e",
   "metadata": {},
   "outputs": [],
   "source": []
  }
 ],
 "metadata": {
  "kernelspec": {
   "display_name": "venv",
   "language": "python",
   "name": "python3"
  },
  "language_info": {
   "codemirror_mode": {
    "name": "ipython",
    "version": 3
   },
   "file_extension": ".py",
   "mimetype": "text/x-python",
   "name": "python",
   "nbconvert_exporter": "python",
   "pygments_lexer": "ipython3",
   "version": "3.13.7"
  }
 },
 "nbformat": 4,
 "nbformat_minor": 5
}
