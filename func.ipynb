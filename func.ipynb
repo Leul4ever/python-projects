{
 "cells": [
  {
   "cell_type": "code",
   "execution_count": null,
   "id": "25fe115d",
   "metadata": {},
   "outputs": [],
   "source": [
    "## function \n"
   ]
  },
  {
   "cell_type": "code",
   "execution_count": 3,
   "id": "c6fcea14",
   "metadata": {},
   "outputs": [
    {
     "name": "stdout",
     "output_type": "stream",
     "text": [
      "odd\n"
     ]
    }
   ],
   "source": [
    "def even_or_odd(num):\n",
    "    if num % 2 == 0:\n",
    "        print(\"even \")\n",
    "    else:\n",
    "        print(\"odd\")\n",
    "even_or_odd(5)"
   ]
  },
  {
   "cell_type": "code",
   "execution_count": 4,
   "id": "93d68d2c",
   "metadata": {},
   "outputs": [
    {
     "data": {
      "text/plain": [
       "6"
      ]
     },
     "execution_count": 4,
     "metadata": {},
     "output_type": "execute_result"
    }
   ],
   "source": [
    "def multipleparams(a, b, c):\n",
    "    return a + b + c\n",
    "multipleparams(1, 2, 3)"
   ]
  },
  {
   "cell_type": "code",
   "execution_count": 7,
   "id": "800de3eb",
   "metadata": {},
   "outputs": [
    {
     "data": {
      "text/plain": [
       "'Hello, Leul Abera!'"
      ]
     },
     "execution_count": 7,
     "metadata": {},
     "output_type": "execute_result"
    }
   ],
   "source": [
    "def  greet(name=\"Leul Abera\"):\n",
    "    return f\"Hello, {name}!\"\n",
    "greet(\"Alice\")\n",
    "greet()\n"
   ]
  },
  {
   "cell_type": "code",
   "execution_count": null,
   "id": "21c095fa",
   "metadata": {},
   "outputs": [
    {
     "name": "stdout",
     "output_type": "stream",
     "text": [
      "15\n",
      "30\n",
      "0\n"
     ]
    }
   ],
   "source": [
    "# *args - arbitrary positional  of arguments\n",
    "\n",
    "def add_numbers(*args):\n",
    "    total  =0\n",
    "    for num in args:\n",
    "        total+=num\n",
    "    return total\n",
    "result =add_numbers(1, 2, 3, 4, 5)\n",
    "print(result)  # Output: 15\n",
    "result=add_numbers(10, 20) \n",
    "print(result)  # Output: 30\n",
    "result= add_numbers()\n",
    "print(result)  # Output: 0  \n",
    "     "
   ]
  },
  {
   "cell_type": "code",
   "execution_count": 17,
   "id": "3e4a679e",
   "metadata": {},
   "outputs": [
    {
     "name": "stdout",
     "output_type": "stream",
     "text": [
      "arg: 12\n",
      "arg: 34\n",
      "name: Alice\n",
      "age: 30\n",
      "city: New York\n"
     ]
    }
   ],
   "source": [
    "#**kwargs - arbitrary number of keyword arguments\n",
    "# Used when you don’t know how many keyword arguments will be passed.\n",
    "# Inside the function, kwargs behaves like a dictionary.\n",
    "def display_info(*args, **kwargs):\n",
    "    for arg in args:\n",
    "        print(f\"arg: {arg}\")\n",
    "    for key, value in kwargs.items():\n",
    "        print(f\"{key}: {value}\")\n",
    "display_info(12, 34, name=\"Alice\", age=30, city=\"New York\")\n",
    "display_info()\n"
   ]
  },
  {
   "cell_type": "code",
   "execution_count": 22,
   "id": "2a9f06c4",
   "metadata": {},
   "outputs": [
    {
     "name": "stdout",
     "output_type": "stream",
     "text": [
      "25°C is 77.0°F\n",
      "32°F is 0.0°C\n"
     ]
    }
   ],
   "source": [
    "## temperature conversion\n",
    "def celsius_to_fahrenheit(temp, unit):\n",
    "    if unit == \"c\":\n",
    "        result = (temp * 9/5) + 32\n",
    "        print(f\"{temp}°C is {result}°F\")\n",
    "    elif unit == \"f\":\n",
    "        result = (temp - 32) * 5/9\n",
    "        print(f\"{temp}°F is {result}°C\")\n",
    "    else:\n",
    "        print(\"Invalid unit. Use 'c' for Celsius or 'f' for Fahrenheit.\")\n",
    "\n",
    "celsius_to_fahrenheit(25, \"c\")  # Output: 25°C is 77.0°F\n",
    "celsius_to_fahrenheit(32, \"f\")  # Output: 32°F is 0.0°C"
   ]
  },
  {
   "cell_type": "code",
   "execution_count": 30,
   "id": "90096b59",
   "metadata": {},
   "outputs": [
    {
     "name": "stdout",
     "output_type": "stream",
     "text": [
      "False\n",
      "The password is strong.\n"
     ]
    }
   ],
   "source": [
    "#strong password checker\n",
    "def is_strong_password(password):\n",
    "\t\"\"\"Check if the password is strong. A strong password has at least 8 characters,\"\"\"\n",
    "\t# You can add your password checking logic here\n",
    "\tif len(password)<8:\n",
    "\t\treturn False\n",
    "\tif not any(char.isdigit()for char in password):\n",
    "\t\treturn False\n",
    "\tif not any(char.isupper()for char in password):\n",
    "\t\treturn False\n",
    "\tif not any(char.islower()for char in password):\n",
    "\t\treturn False\n",
    "\tif not any(char in \"!@#$%^&*()-_=+[]{}|;:'\\\",.<>?/`~\"for char in password):\n",
    "\t\treturn False\n",
    "\treturn True\n",
    "\n",
    "print(is_strong_password(\"Leul \"))\n",
    "# Example usage\n",
    "password = \"StrongP@ssw0rd\"\n",
    "if is_strong_password(password):\n",
    "    print(\"The password is strong.\")        \n",
    " \n",
    "else:\n",
    "    print(\"The password is weak.\")      \n",
    "    \n",
    "\n"
   ]
  },
  {
   "cell_type": "code",
   "execution_count": 37,
   "id": "563e430a",
   "metadata": {},
   "outputs": [
    {
     "data": {
      "text/plain": [
       "6.2"
      ]
     },
     "execution_count": 37,
     "metadata": {},
     "output_type": "execute_result"
    }
   ],
   "source": [
    "## calculate a total cost of item in shopping cart\n",
    "def calculate_total(cart):\n",
    "    total = 0\n",
    "    for item  in cart:\n",
    "        total +=item['price']*item['quantity']\n",
    "    return total\n",
    "items = [\n",
    "    {\n",
    "        'name': 'Apple',\n",
    "        'price': 0.5,\n",
    "        'quantity': 4\n",
    "    },\n",
    "    {\n",
    "        'name': 'Banana',\n",
    "        'price': 0.3,\n",
    "        'quantity': 6\n",
    "    },\n",
    "    {\n",
    "        'name': 'Orange',\n",
    "        'price': 0.8,\n",
    "        'quantity': 3\n",
    "    }\n",
    "]\n",
    "calculate_total(items)"
   ]
  },
  {
   "cell_type": "code",
   "execution_count": 6,
   "id": "a4aa730d",
   "metadata": {},
   "outputs": [
    {
     "name": "stdout",
     "output_type": "stream",
     "text": [
      "True\n"
     ]
    }
   ],
   "source": [
    "## is palindrome checker\n",
    "text = input(\"Enter a text: \")\n",
    "def is_palindrome(text):\n",
    "    text = text.lower()\n",
    "    return text == text[::-1]\n",
    "    \n",
    "print(is_palindrome(text))  # Output: True\n"
   ]
  },
  {
   "cell_type": "code",
   "execution_count": 7,
   "id": "2f36c826",
   "metadata": {},
   "outputs": [
    {
     "data": {
      "text/plain": [
       "120"
      ]
     },
     "execution_count": 7,
     "metadata": {},
     "output_type": "execute_result"
    }
   ],
   "source": [
    "# calculate factorial of a number\n",
    "def factorial(n):\n",
    "    if n == 0 or n == 1:\n",
    "        return 1\n",
    "    else:\n",
    "        return n * factorial(n - 1)\n",
    "factorial(5)  # Output: 120\n"
   ]
  },
  {
   "cell_type": "code",
   "execution_count": 1,
   "id": "a0d62b7e",
   "metadata": {},
   "outputs": [
    {
     "name": "stdout",
     "output_type": "stream",
     "text": [
      "{'hello': 1, 'world': 1, 'how': 1, 'are': 1, 'u': 1, 'my': 1, 'name': 1, 'is': 1, 'leul': 1, 'abera': 1}\n"
     ]
    }
   ],
   "source": [
    "#A Function to read a file and count the frequency of each word  \n",
    "def count_word_frequency(file_path):\n",
    "    word_count = {}\n",
    "    with open(file_path ,'r') as file:\n",
    "        for line in file:\n",
    "            words=line.split()\n",
    "            for word in words:\n",
    "                word= word.lower().strip('.,!?;\"\\'()[]{}')\n",
    "                if word:\n",
    "                    word_count[word] = word_count.get(word, 0) + 1  \n",
    "    return word_count   \n",
    "file_path = 'sample.txt'  # Replace with your file path\n",
    "word_frequency = count_word_frequency(file_path)\n",
    "print(word_frequency)\n",
    "\n",
    "   "
   ]
  },
  {
   "cell_type": "code",
   "execution_count": 16,
   "id": "aefedeb0",
   "metadata": {},
   "outputs": [
    {
     "name": "stdout",
     "output_type": "stream",
     "text": [
      "True\n"
     ]
    }
   ],
   "source": [
    "# VALIDATIATING EMAIL ADDRESSES \n",
    "import re\n",
    "def is_valid_email(email):\n",
    "    pattern = r'^[a-zA-Z0-9._%+-]+@[a-zA-Z0-9.-]+\\.[a-zA-Z]{2,}$'\n",
    "    return re.match(pattern, email) is not None\n",
    "print(is_valid_email(\"leul@gmail.com\"))"
   ]
  },
  {
   "cell_type": "markdown",
   "id": "96d77e19",
   "metadata": {},
   "source": []
  },
  {
   "cell_type": "code",
   "execution_count": null,
   "id": "9327ea3c",
   "metadata": {},
   "outputs": [],
   "source": []
  }
 ],
 "metadata": {
  "kernelspec": {
   "display_name": "venv",
   "language": "python",
   "name": "python3"
  },
  "language_info": {
   "codemirror_mode": {
    "name": "ipython",
    "version": 3
   },
   "file_extension": ".py",
   "mimetype": "text/x-python",
   "name": "python",
   "nbconvert_exporter": "python",
   "pygments_lexer": "ipython3",
   "version": "3.13.7"
  }
 },
 "nbformat": 4,
 "nbformat_minor": 5
}
