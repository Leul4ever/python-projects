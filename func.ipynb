{
 "cells": [
  {
   "cell_type": "code",
   "execution_count": 1,
   "id": "68d14cdd",
   "metadata": {},
   "outputs": [
    {
     "name": "stdout",
     "output_type": "stream",
     "text": [
      "name : Leul\n",
      "age : 22\n",
      "country : Ethiopia\n"
     ]
    }
   ],
   "source": [
    "def print_info(**kwargs):\n",
    "    for key, value in kwargs.items():\n",
    "        print(f\"{key} : {value}\")\n",
    "\n",
    "print_info(name=\"Leul\", age=22, country=\"Ethiopia\")\n"
   ]
  },
  {
   "cell_type": "code",
   "execution_count": null,
   "id": "12eaecc4",
   "metadata": {},
   "outputs": [
    {
     "name": "stdout",
     "output_type": "stream",
     "text": [
      "name :Leul\n",
      "age :23\n",
      "None\n"
     ]
    }
   ],
   "source": [
    "def leul(**kwargs):\n",
    "    for key,value in kwargs.items():\n",
    "        print(f\"{key} :{value}\")\n",
    "print(leul(name='Leul',age='23'))\n"
   ]
  },
  {
   "cell_type": "code",
   "execution_count": 5,
   "id": "b7fea456",
   "metadata": {},
   "outputs": [
    {
     "name": "stdout",
     "output_type": "stream",
     "text": [
      "{'hello': 1, 'world': 1, 'how': 1, 'are': 1, 'u': 1, 'my': 1, 'name': 1, 'is': 1, 'leul': 1, 'abera': 1}\n"
     ]
    }
   ],
   "source": [
    "def count_function(file_path):\n",
    "    word_count ={}\n",
    "    with open(file_path,'r') as file:\n",
    "        for line in file:\n",
    "            words= line.split()\n",
    "            for word in words:\n",
    "                word= word.lower().strip('.,!?;\"\\'()[]{}')\n",
    "                word_count[word]=word_count.get(word,0)+1\n",
    "    return word_count\n",
    "filepath= 'sample.txt '\n",
    "word_frequency= count_function(filepath)\n",
    "print(word_frequency)\n",
    "    "
   ]
  },
  {
   "cell_type": "code",
   "execution_count": null,
   "id": "96cccd89",
   "metadata": {},
   "outputs": [],
   "source": []
  },
  {
   "cell_type": "markdown",
   "id": "92776621",
   "metadata": {},
   "source": []
  }
 ],
 "metadata": {
  "kernelspec": {
   "display_name": "Python 3",
   "language": "python",
   "name": "python3"
  },
  "language_info": {
   "codemirror_mode": {
    "name": "ipython",
    "version": 3
   },
   "file_extension": ".py",
   "mimetype": "text/x-python",
   "name": "python",
   "nbconvert_exporter": "python",
   "pygments_lexer": "ipython3",
   "version": "3.12.0"
  }
 },
 "nbformat": 4,
 "nbformat_minor": 5
}
