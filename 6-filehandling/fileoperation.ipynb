{
 "cells": [
  {
   "cell_type": "code",
   "execution_count": 3,
   "id": "1339681b",
   "metadata": {},
   "outputs": [
    {
     "name": "stdout",
     "output_type": "stream",
     "text": [
      "hello how are u?\n",
      "i am good \n",
      "leul is my name \n",
      "welcome to python \n",
      "\n"
     ]
    }
   ],
   "source": [
    "##  read a whole file \n",
    "with open('example.txt', 'r') as file:\n",
    "    content = file.read()\n",
    "    print(content)"
   ]
  },
  {
   "cell_type": "code",
   "execution_count": 8,
   "id": "c16fcbdd",
   "metadata": {},
   "outputs": [
    {
     "name": "stdout",
     "output_type": "stream",
     "text": [
      "this is leul\n"
     ]
    }
   ],
   "source": [
    "# read a file line by line \n",
    "with open('example.txt', 'r') as file:\n",
    "    for line in file :\n",
    "        print(line.strip())"
   ]
  },
  {
   "cell_type": "code",
   "execution_count": 9,
   "id": "7248c3b0",
   "metadata": {},
   "outputs": [],
   "source": [
    "with open('example.txt', 'w') as file:\n",
    "    file.write(\"this is leul \")\n"
   ]
  },
  {
   "cell_type": "code",
   "execution_count": 1,
   "id": "408d4887",
   "metadata": {},
   "outputs": [],
   "source": [
    "with open('example.txt', 'a') as file:\n",
    "    file.write(\"\\nthis is leul again \")"
   ]
  },
  {
   "cell_type": "code",
   "execution_count": 1,
   "id": "1e86bc12",
   "metadata": {},
   "outputs": [],
   "source": [
    "## writing a list of lines to a file\n",
    "lines = [\"First line\\n\", \"Second line\\n\", \"Third line\\n\"]\n",
    "with open('example.txt', 'a') as file:\n",
    "    file.writelines(lines)\n",
    "    "
   ]
  },
  {
   "cell_type": "code",
   "execution_count": 4,
   "id": "89df9a4d",
   "metadata": {},
   "outputs": [],
   "source": [
    "### binary file \n",
    "## Writing binary data to a file\n",
    "data= b'\\x00\\x01\\x02\\x03\\x04\\x05'\n",
    "with open('example.bin', 'wb' ) as file :\n",
    "    file.write(data)\n",
    "     "
   ]
  },
  {
   "cell_type": "code",
   "execution_count": 5,
   "id": "a0c11320",
   "metadata": {},
   "outputs": [
    {
     "name": "stdout",
     "output_type": "stream",
     "text": [
      "b'\\x00\\x01\\x02\\x03\\x04\\x05'\n"
     ]
    }
   ],
   "source": [
    "# Rreading a binary file \n",
    "with open ('example.bin', 'rb') as file:\n",
    "    binary_content = file.read()\n",
    "    print(binary_content)\n",
    "    "
   ]
  },
  {
   "cell_type": "code",
   "execution_count": 6,
   "id": "b997e674",
   "metadata": {},
   "outputs": [
    {
     "name": "stdout",
     "output_type": "stream",
     "text": [
      "this is leul \n",
      "this is leul again First line\n",
      "Second line\n",
      "Third line\n",
      "\n",
      "Content copied to copy_of_example.txt\n"
     ]
    }
   ],
   "source": [
    "### rad teh content form a source file and write to a destination file\n",
    "with open('example.txt', 'r' )as source_file:\n",
    "    content = source_file.read()\n",
    "print(content)\n",
    "with open('copy_of_example.txt', 'w') as dest_file:\n",
    "    dest_file.write(content)\n",
    "    print(\"Content copied to copy_of_example.txt\")\n",
    "\n",
    "    \n"
   ]
  },
  {
   "cell_type": "code",
   "execution_count": 11,
   "id": "fad930db",
   "metadata": {},
   "outputs": [
    {
     "name": "stdout",
     "output_type": "stream",
     "text": [
      "this is leul \n",
      "this is leul again First line\n",
      "Second line\n",
      "Third line\n",
      "\n",
      "4\n",
      "Lines: 4, Words: 13, Characters: 67\n"
     ]
    }
   ],
   "source": [
    "##  read a text file and count the number of lines ,words, and characters\n",
    "def count_file_contents(file_path):\n",
    "    with open(file_path, 'r') as file:\n",
    "        content = file.read()\n",
    "        print(content)\n",
    "        lines = content.splitlines()\n",
    "        num_lines = len(lines)\n",
    "        print(num_lines)\n",
    "        num_words = len(content.split())\n",
    "        num_characters = len(content)\n",
    "    return num_lines, num_words, num_characters\n",
    "file_path = 'example.txt'\n",
    "lines, words, characters = count_file_contents(file_path)   \n",
    "print(f\"Lines: {lines}, Words: {words}, Characters: {characters}\")\n",
    "#!/usr/bin/env python3\n",
    "# -*- coding: utf-8 -*-"
   ]
  },
  {
   "cell_type": "code",
   "execution_count": null,
   "id": "c3128fce",
   "metadata": {},
   "outputs": [
    {
     "name": "stdout",
     "output_type": "stream",
     "text": [
      "\n"
     ]
    }
   ],
   "source": [
    "### writing  and the reading a file \n",
    "with open('example.txt','w+')as file:\n",
    "    file.write(\"Hello world\\n\")\n",
    "    file.write(\"this is a new line\\n\")\n",
    "     file.seek(0)  # Move the cursor to the beginning of the file\n",
    "    content = file.read()\n",
    "    print(content)\n"
   ]
  },
  {
   "cell_type": "code",
   "execution_count": null,
   "id": "048a131e",
   "metadata": {},
   "outputs": [],
   "source": []
  }
 ],
 "metadata": {
  "kernelspec": {
   "display_name": "venv",
   "language": "python",
   "name": "python3"
  },
  "language_info": {
   "codemirror_mode": {
    "name": "ipython",
    "version": 3
   },
   "file_extension": ".py",
   "mimetype": "text/x-python",
   "name": "python",
   "nbconvert_exporter": "python",
   "pygments_lexer": "ipython3",
   "version": "3.13.7"
  }
 },
 "nbformat": 4,
 "nbformat_minor": 5
}
