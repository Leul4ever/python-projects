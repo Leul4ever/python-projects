{
 "cells": [
  {
   "cell_type": "code",
   "execution_count": 2,
   "id": "8f9f8a1e",
   "metadata": {},
   "outputs": [
    {
     "name": "stdout",
     "output_type": "stream",
     "text": [
      "[2, 4, 6]\n"
     ]
    }
   ],
   "source": [
    "def even(number):\n",
    "    if number%2==0:\n",
    "        return number\n",
    "numbers = [1,2,3,4,5,6]\n",
    "number_list = list(filter(even,numbers))\n",
    "print(number_list)\n",
    "\n"
   ]
  },
  {
   "cell_type": "code",
   "execution_count": 4,
   "id": "65b23b6f",
   "metadata": {},
   "outputs": [
    {
     "name": "stdout",
     "output_type": "stream",
     "text": [
      "[5, 6]\n"
     ]
    }
   ],
   "source": [
    "number_filterd = list(filter(lambda x :x>4,numbers))\n",
    "print(number_filterd)"
   ]
  },
  {
   "cell_type": "code",
   "execution_count": null,
   "id": "3ec92762",
   "metadata": {},
   "outputs": [
    {
     "name": "stdout",
     "output_type": "stream",
     "text": [
      "[{'name': 'Alice', 'age': 30}, {'name': 'Charlie', 'age': 35}]\n"
     ]
    }
   ],
   "source": [
    "\n",
    "people = [{\n",
    "    'name': 'Alice',\n",
    "    'age': 30\n",
    "}, {\n",
    "    'name': 'Bob',\n",
    "    'age': 25\n",
    "}, {\n",
    "    'name': 'Charlie',\n",
    "    'age': 35\n",
    "}]\n",
    "\n",
    "def age_greater_than_25(person ):\n",
    "    return person['age']>25\n",
    "\n",
    "age= list(filter(age_greater_than_25,people))\n",
    "print(age)\n",
    "\n"
   ]
  },
  {
   "cell_type": "code",
   "execution_count": null,
   "id": "a4694034",
   "metadata": {},
   "outputs": [],
   "source": []
  }
 ],
 "metadata": {
  "kernelspec": {
   "display_name": "venv",
   "language": "python",
   "name": "python3"
  },
  "language_info": {
   "codemirror_mode": {
    "name": "ipython",
    "version": 3
   },
   "file_extension": ".py",
   "mimetype": "text/x-python",
   "name": "python",
   "nbconvert_exporter": "python",
   "pygments_lexer": "ipython3",
   "version": "3.13.7"
  }
 },
 "nbformat": 4,
 "nbformat_minor": 5
}
