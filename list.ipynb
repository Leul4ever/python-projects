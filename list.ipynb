{
 "cells": [
  {
   "cell_type": "code",
   "execution_count": 17,
   "id": "1edd4e9d",
   "metadata": {},
   "outputs": [
    {
     "name": "stdout",
     "output_type": "stream",
     "text": [
      "['leul', 'abebe', 'yhonas', '123', 34, 45, 56]\n",
      "['leul', 'abebe', 'mamo', 'yhonas', '123', 34, 45, 56]\n",
      "['leul', 'abebe', 'mamo', 'yhonas', '123', 34, 45, 56, 'biruk ']\n"
     ]
    }
   ],
   "source": [
    "list =['leul','abebe','yhonas','123',34,45,56]\n",
    "print(list )\n",
    "list.insert(2,\"mamo\");\n",
    "print(list )\n",
    "list.append(\"biruk \")\n",
    "print(list );\n",
    "\n"
   ]
  },
  {
   "cell_type": "code",
   "execution_count": 18,
   "id": "fd2a49c4",
   "metadata": {},
   "outputs": [
    {
     "name": "stdout",
     "output_type": "stream",
     "text": [
      "0 1\n",
      "1 2\n",
      "2 3\n",
      "3 4\n",
      "4 5\n",
      "5 6\n",
      "6 7\n",
      "7 8\n",
      "8 9\n",
      "9 10\n"
     ]
    }
   ],
   "source": [
    "numbers =[1,2,3,4,5,6,7,8,9,10]\n",
    "for index, number in enumerate(numbers):\n",
    "    print(index,number);"
   ]
  },
  {
   "cell_type": "code",
   "execution_count": null,
   "id": "eb8d3f8b",
   "metadata": {},
   "outputs": [],
   "source": [
    "## list comprehension \n",
    "list = [1,2,3,4]\n",
    "for i in list:\n",
    "    list.append(i**2)\n",
    "print(list )"
   ]
  },
  {
   "cell_type": "code",
   "execution_count": 13,
   "id": "684b552b",
   "metadata": {},
   "outputs": [
    {
     "name": "stdout",
     "output_type": "stream",
     "text": [
      "[0, 1, 4, 9, 16, 25, 36, 49, 64, 81]\n"
     ]
    }
   ],
   "source": [
    "lst = []\n",
    "for x in range(10):\n",
    "    lst.append(x**2)\n",
    "print(lst)"
   ]
  },
  {
   "cell_type": "code",
   "execution_count": 1,
   "id": "1845a80f",
   "metadata": {},
   "outputs": [
    {
     "name": "stdout",
     "output_type": "stream",
     "text": [
      "[[1, 'a'], [1, 'b'], [1, 'c'], [1, 'd'], [2, 'a'], [2, 'b'], [2, 'c'], [2, 'd'], [3, 'a'], [3, 'b'], [3, 'c'], [3, 'd'], [4, 'a'], [4, 'b'], [4, 'c'], [4, 'd']]\n"
     ]
    }
   ],
   "source": [
    "## Nested list\n",
    "lst1=[1,2,3,4]\n",
    "lst2=['a','b','c', 'd']\n",
    "pair = [[i,j] for i in lst1 for j in lst2]\n",
    "print(pair)\n"
   ]
  },
  {
   "cell_type": "code",
   "execution_count": 4,
   "id": "d8096294",
   "metadata": {},
   "outputs": [
    {
     "name": "stdout",
     "output_type": "stream",
     "text": [
      "[6, 4, 6, 5, 12]\n"
     ]
    }
   ],
   "source": [
    "## list Coprehension with function calls \n",
    "words =[\"hello \",\"leul\", \"mamush\",\"lists\",\"comprehesion\"]\n",
    "lengths=[len(word) for word in words]\n",
    "print(lengths)\n"
   ]
  },
  {
   "cell_type": "code",
   "execution_count": 8,
   "id": "23128691",
   "metadata": {},
   "outputs": [
    {
     "name": "stdout",
     "output_type": "stream",
     "text": [
      "[0, 2, 4, 6, 8]\n"
     ]
    }
   ],
   "source": [
    "## list compherension with  condtion    \n",
    "lst = []\n",
    "for i in range(10):\n",
    "    if i%2==0:\n",
    "        lst.append(i)\n",
    "\n",
    "print(lst)\n"
   ]
  },
  {
   "cell_type": "code",
   "execution_count": null,
   "id": "84a5e7a5",
   "metadata": {},
   "outputs": [
    {
     "name": "stdout",
     "output_type": "stream",
     "text": [
      "Average Grade: 87.384\n"
     ]
    }
   ],
   "source": [
    "grade = [85.92,78,90,88]\n",
    "grade.append(95)\n",
    "## calculating the average grade\\\n",
    "average_grade= sum(grade)/len(grade)\n",
    "print(f\"Average Grade: {average_grade}\");\n",
    "highest_grade= max(grade)\n",
    "lowest_grade= min(grade)\n"
   ]
  },
  {
   "cell_type": "code",
   "execution_count": null,
   "id": "3fa76302",
   "metadata": {},
   "outputs": [
    {
     "name": "stdout",
     "output_type": "stream",
     "text": [
      "Positive Feedback count : 2\n",
      "User Feedback: \n",
      "-Great service !\n",
      "-very satisfied\n",
      "-could be better \n",
      "-excellent experience \n",
      "-not happy with the service \n"
     ]
    }
   ],
   "source": [
    "## collecting user feedback \n",
    "feedback= ['Great service !','very satisfied','could be better ','excellent experience ']\n",
    "## Adding new  feedback\n",
    "feedback.append(\"not happy with the service \")\n",
    "## counting specific feedback \n",
    "postive_feedback_cont = sum(1 for comment in feedback if 'great' in comment.lower() or 'excellent' in comment.lower())\n",
    "print(f\"Positive Feedback count : {postive_feedback_cont}\")\n",
    "## printing all feedback \n",
    "print(\"User Feedback: \")\n",
    "for comment in feedback:\n",
    "    print(f\"-{comment}\")\n",
    "    \n",
    "\n",
    "\n",
    "  \n",
    "\n",
    "        \n"
   ]
  },
  {
   "cell_type": "code",
   "execution_count": null,
   "id": "f0f91363",
   "metadata": {},
   "outputs": [],
   "source": []
  }
 ],
 "metadata": {
  "kernelspec": {
   "display_name": "venv",
   "language": "python",
   "name": "python3"
  },
  "language_info": {
   "codemirror_mode": {
    "name": "ipython",
    "version": 3
   },
   "file_extension": ".py",
   "mimetype": "text/x-python",
   "name": "python",
   "nbconvert_exporter": "python",
   "pygments_lexer": "ipython3",
   "version": "3.13.7"
  }
 },
 "nbformat": 4,
 "nbformat_minor": 5
}
