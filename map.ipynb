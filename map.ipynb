{
 "cells": [
  {
   "cell_type": "code",
   "execution_count": 1,
   "id": "763e4204",
   "metadata": {},
   "outputs": [],
   "source": [
    "def square(n):\n",
    "    return n * n    "
   ]
  },
  {
   "cell_type": "code",
   "execution_count": 2,
   "id": "be7dd970",
   "metadata": {},
   "outputs": [
    {
     "name": "stdout",
     "output_type": "stream",
     "text": [
      "[1, 4, 9, 16, 25]\n"
     ]
    }
   ],
   "source": [
    "numbers = [1, 2, 3, 4, 5]\n",
    "squared_numbers = list(map(square,numbers))\n",
    "print(squared_numbers)\n"
   ]
  },
  {
   "cell_type": "code",
   "execution_count": 3,
   "id": "67dfec90",
   "metadata": {},
   "outputs": [
    {
     "data": {
      "text/plain": [
       "[1, 4, 9, 16, 25]"
      ]
     },
     "execution_count": 3,
     "metadata": {},
     "output_type": "execute_result"
    }
   ],
   "source": [
    "#lambda function with map\n",
    "list(map(lambda x :x*x,numbers))"
   ]
  },
  {
   "cell_type": "code",
   "execution_count": 6,
   "id": "49f3e6d0",
   "metadata": {},
   "outputs": [
    {
     "name": "stdout",
     "output_type": "stream",
     "text": [
      "[12, 15, 18]\n"
     ]
    }
   ],
   "source": [
    "### Map multiple iterables\\\n",
    "list1 = [1,2,3]\n",
    "list2 = [4,5,6]\n",
    "list3 = [7,8,9]\n",
    "added_list = list(map(lambda x,y,z :x+y+z,list1,list2,list3)) \n",
    "print(added_list)\n",
    "\n"
   ]
  },
  {
   "cell_type": "code",
   "execution_count": 7,
   "id": "f271d96f",
   "metadata": {},
   "outputs": [
    {
     "name": "stdout",
     "output_type": "stream",
     "text": [
      "[1, 2, 3, 4, 5]\n"
     ]
    }
   ],
   "source": [
    "numbers = ['1', '2', '3', '4', '5']\n",
    "string_int = list(map(int ,numbers))\n",
    "print(string_int)"
   ]
  },
  {
   "cell_type": "code",
   "execution_count": 12,
   "id": "b1feb9f8",
   "metadata": {},
   "outputs": [
    {
     "name": "stdout",
     "output_type": "stream",
     "text": [
      "['LEUL', 'EDEN', 'MAHI']\n"
     ]
    }
   ],
   "source": [
    "name_string=[\"Leul\",\"Eden\",\"Mahi\"]\n",
    "name_upercase = list(map(str.upper,name_string))\n",
    "print(name_upercase)"
   ]
  },
  {
   "cell_type": "code",
   "execution_count": 15,
   "id": "36979539",
   "metadata": {},
   "outputs": [
    {
     "data": {
      "text/plain": [
       "['Alice', 'Bob', 'Charlie']"
      ]
     },
     "execution_count": 15,
     "metadata": {},
     "output_type": "execute_result"
    }
   ],
   "source": [
    "def get_name(person):\n",
    "    return person['name'] \n",
    "\n",
    "\n",
    "people = [{\n",
    "    'name': 'Alice',\n",
    "    'age': 30\n",
    "}, {\n",
    "    'name': 'Bob',\n",
    "    'age': 25\n",
    "}, {\n",
    "    'name': 'Charlie',\n",
    "    'age': 35\n",
    "}]\n",
    "list(map(get_name,people))"
   ]
  },
  {
   "cell_type": "code",
   "execution_count": 18,
   "id": "7b1becc5",
   "metadata": {},
   "outputs": [
    {
     "name": "stdout",
     "output_type": "stream",
     "text": [
      "['Alice', 'Bob', 'Charlie']\n"
     ]
    }
   ],
   "source": [
    "names = [person['name'] for person in people]\n",
    "print(names)\n",
    "\n"
   ]
  },
  {
   "cell_type": "code",
   "execution_count": null,
   "id": "2fa5e764",
   "metadata": {},
   "outputs": [],
   "source": []
  }
 ],
 "metadata": {
  "kernelspec": {
   "display_name": "venv",
   "language": "python",
   "name": "python3"
  },
  "language_info": {
   "codemirror_mode": {
    "name": "ipython",
    "version": 3
   },
   "file_extension": ".py",
   "mimetype": "text/x-python",
   "name": "python",
   "nbconvert_exporter": "python",
   "pygments_lexer": "ipython3",
   "version": "3.13.7"
  }
 },
 "nbformat": 4,
 "nbformat_minor": 5
}
