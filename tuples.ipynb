{
 "cells": [
  {
   "cell_type": "code",
   "execution_count": 1,
   "id": "35020a57",
   "metadata": {},
   "outputs": [
    {
     "data": {
      "text/plain": [
       "[1, 2, 3, 4]"
      ]
     },
     "execution_count": 1,
     "metadata": {},
     "output_type": "execute_result"
    }
   ],
   "source": [
    "list((1,2,3,4))"
   ]
  },
  {
   "cell_type": "code",
   "execution_count": 2,
   "id": "35ef335d",
   "metadata": {},
   "outputs": [
    {
     "data": {
      "text/plain": [
       "tuple"
      ]
     },
     "execution_count": 2,
     "metadata": {},
     "output_type": "execute_result"
    }
   ],
   "source": [
    "number = (1,2,3,4)\n",
    "type(number)\n"
   ]
  },
  {
   "cell_type": "code",
   "execution_count": 6,
   "id": "46fed67d",
   "metadata": {},
   "outputs": [
    {
     "data": {
      "text/plain": [
       "[1, 2, 2, 3, 3, 4, 4, 4]"
      ]
     },
     "execution_count": 6,
     "metadata": {},
     "output_type": "execute_result"
    }
   ],
   "source": [
    "numbers =([1,2,2,3,3,4,4,4])\n",
    "type(numbers)\n",
    "numbers\n"
   ]
  },
  {
   "cell_type": "code",
   "execution_count": 8,
   "id": "faa9db25",
   "metadata": {},
   "outputs": [
    {
     "name": "stdout",
     "output_type": "stream",
     "text": [
      "(1, 'hello', 3.14, True)\n"
     ]
    }
   ],
   "source": [
    "mixed_tuple = (1, \"hello\", 3.14, True)\n",
    "print(mixed_tuple)"
   ]
  },
  {
   "cell_type": "code",
   "execution_count": 9,
   "id": "1160b503",
   "metadata": {},
   "outputs": [
    {
     "name": "stdout",
     "output_type": "stream",
     "text": [
      "hello\n",
      "True\n"
     ]
    }
   ],
   "source": [
    "## access tuple elements\n",
    "print(mixed_tuple[1])  # Output: hello\n",
    "print(mixed_tuple[-1]) # Output: True       "
   ]
  },
  {
   "cell_type": "code",
   "execution_count": 12,
   "id": "c8f502a3",
   "metadata": {},
   "outputs": [
    {
     "name": "stdout",
     "output_type": "stream",
     "text": [
      "(True, 3.14, 'hello', 1)\n"
     ]
    },
    {
     "data": {
      "text/plain": [
       "(3.14, True)"
      ]
     },
     "execution_count": 12,
     "metadata": {},
     "output_type": "execute_result"
    }
   ],
   "source": [
    "## do teh reverse of a tuple\n",
    "reversed_tuple = mixed_tuple[::-1]\n",
    "print(reversed_tuple)  # Output: (True, 3.14, 'hello', 1)   \n",
    "# mixed_tuple[1] = \"world\"  # This will raise a TypeError   \n",
    "mixed_tuple[2::]"
   ]
  },
  {
   "cell_type": "code",
   "execution_count": 14,
   "id": "bc97f59a",
   "metadata": {},
   "outputs": [
    {
     "data": {
      "text/plain": [
       "(1, 'hello', 3.14, True)"
      ]
     },
     "execution_count": 14,
     "metadata": {},
     "output_type": "execute_result"
    }
   ],
   "source": [
    "#tuple operations\n",
    "len(mixed_tuple)\n",
    "mixed_tuple + (5, 6)            \n",
    "mixed_tuple * 2\n",
    "1 in mixed_tuple\n",
    "mixed_tuple.count(2)\n",
    "mixed_tuple.index(\"hello\")\n",
    "# add print to see the output\n",
    "mixed_tuple\n",
    "# --- IGNORE ---\n"
   ]
  },
  {
   "cell_type": "code",
   "execution_count": 17,
   "id": "e96c5a04",
   "metadata": {},
   "outputs": [
    {
     "data": {
      "text/plain": [
       "[(1, 'a'), (2, 'b'), (3, 'c')]"
      ]
     },
     "execution_count": 17,
     "metadata": {},
     "output_type": "execute_result"
    }
   ],
   "source": [
    "tuple1 = (1, 2, 3)\n",
    "tuple2 = ('a', 'b', 'c', 'd')\n",
    "zipped = zip(tuple1, tuple2)    \n",
    "list(zipped)"
   ]
  },
  {
   "cell_type": "code",
   "execution_count": 22,
   "id": "c6ef03ba",
   "metadata": {},
   "outputs": [
    {
     "name": "stdout",
     "output_type": "stream",
     "text": [
      "(1, 2, 1, 2, 1, 2)\n",
      "(1, 2, 3, 4)\n",
      "(3, 4, 1, 2)\n"
     ]
    }
   ],
   "source": [
    "t1 = (1, 2)\n",
    "t2 = (3, 4)\n",
    "mul =t1*3\n",
    "print(mul)\n",
    "\n",
    "\n",
    "print(t1 + t2)  # (1, 2, 3, 4)\n",
    "print(t2 + t1)  # (3, 4, 1, 2)\n"
   ]
  },
  {
   "cell_type": "code",
   "execution_count": null,
   "id": "b09c835e",
   "metadata": {},
   "outputs": [],
   "source": []
  }
 ],
 "metadata": {
  "kernelspec": {
   "display_name": "venv",
   "language": "python",
   "name": "python3"
  },
  "language_info": {
   "codemirror_mode": {
    "name": "ipython",
    "version": 3
   },
   "file_extension": ".py",
   "mimetype": "text/x-python",
   "name": "python",
   "nbconvert_exporter": "python",
   "pygments_lexer": "ipython3",
   "version": "3.13.7"
  }
 },
 "nbformat": 4,
 "nbformat_minor": 5
}
