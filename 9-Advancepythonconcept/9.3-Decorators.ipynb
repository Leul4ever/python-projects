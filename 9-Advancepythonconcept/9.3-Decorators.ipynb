{
 "cells": [
  {
   "cell_type": "markdown",
   "id": "08d3bb28",
   "metadata": {},
   "source": [
    "A decorator in Python is a function that adds extra functionality to another function without changing its actual code.\n",
    "It’s a special way to wrap one function inside another"
   ]
  },
  {
   "cell_type": "code",
   "execution_count": 1,
   "id": "5f323646",
   "metadata": {},
   "outputs": [],
   "source": [
    " ## Function copy \n",
    " ## Closures\n",
    " ## decorators\n",
    " "
   ]
  },
  {
   "cell_type": "code",
   "execution_count": 31,
   "id": "62c3aabe",
   "metadata": {},
   "outputs": [
    {
     "data": {
      "text/plain": [
       "'welcome to function copy'"
      ]
     },
     "execution_count": 31,
     "metadata": {},
     "output_type": "execute_result"
    }
   ],
   "source": [
    "## function copy \n",
    "def welcome():\n",
    "    return \"welcome to function copy\"\n",
    "\n",
    "\n",
    "wel = welcome   # assign the function object, not its return value\n",
    "wel\n",
    "del welcome\n",
    "wel()"
   ]
  },
  {
   "cell_type": "code",
   "execution_count": null,
   "id": "242da640",
   "metadata": {},
   "outputs": [
    {
     "name": "stdout",
     "output_type": "stream",
     "text": [
      "welcome to the advanced python course\n",
      "this is a closure function\n",
      "have a nice day\n",
      "welcome to the advanced python course\n",
      "welcome to my course\n",
      "have a nice day\n"
     ]
    }
   ],
   "source": [
    "## closures\n",
    "def main_welcome(msg):\n",
    "    def sub_welcome():\n",
    "        print(\"welcome to the advanced python course\")\n",
    "        print(msg)\n",
    "        print(\"have a nice day\")\n",
    "    return sub_welcome\n",
    "\n",
    "my_welcome = main_welcome(\"this is a closure function\")\n",
    "my_welcome()                     # calls the saved closure\n",
    "main_welcome(\"welcome to my course\")()  # calls it immediately\n"
   ]
  },
  {
   "cell_type": "code",
   "execution_count": null,
   "id": "6c6569da",
   "metadata": {},
   "outputs": [
    {
     "name": "stdout",
     "output_type": "stream",
     "text": [
      "Welcome to the advanced Python course\n",
      "This is the advanced Python course.\n",
      "Have a nice day!\n"
     ]
    }
   ],
   "source": [
    "## decorators\n",
    "def main_welcome(func):\n",
    "    def sub_welcome_method():\n",
    "        print(\"Welcome to the advanced Python course\")\n",
    "        func()\n",
    "        print(\"Have a nice day!\")\n",
    "    return sub_welcome_method\n",
    "\n",
    "@main_welcome\n",
    "def course_introduction():\n",
    "    print(\"This is the advanced Python course.\")\n",
    "\n",
    "course_introduction()\n"
   ]
  },
  {
   "cell_type": "markdown",
   "id": "f7819abd",
   "metadata": {},
   "source": [
    "         ┌────────────────────────────────────────┐\n",
    "         │  @main_welcome                         │\n",
    "         │  is applied to course_introduction     │\n",
    "         └────────────────────────────────────────┘\n",
    "                        │\n",
    "                        ▼\n",
    "   ┌───────────────────────────────────────┐\n",
    "   │ main_welcome(course_introduction)     │\n",
    "   │ returns sub_welcome_method            │\n",
    "   └───────────────────────────────────────┘\n",
    "                        │\n",
    "                        ▼\n",
    "   ┌───────────────────────────────────────┐\n",
    "   │ course_introduction = sub_welcome_method │\n",
    "   └───────────────────────────────────────┘\n",
    "                        │\n",
    "                        ▼\n",
    "   When you call → course_introduction()\n",
    "                        │\n",
    "                        ▼\n",
    "   ┌──────────────────────────────────────────────┐\n",
    "   │ sub_welcome_method() runs                    │\n",
    "   │   1️⃣ Print: \"Welcome to the course\"         │\n",
    "   │   2️⃣ Call func() → original function runs   │\n",
    "   │   3️⃣ Print: \"Have a nice day\"              │\n",
    "   └──────────────────────────────────────────────┘\n",
    "                        │\n",
    "                        ▼\n",
    "           🖨️ Final Output on Screen:\n",
    "           ----------------------------------\n",
    "           👋 Welcome to the advanced Python course\n",
    "           📘 This is the advanced Python course.\n",
    "           😊 Have a nice day!\n",
    "##            ----------------------------------\n",
    "@main_welcome\n",
    "   │\n",
    "   ▼\n",
    "main_welcome(course_introduction)\n",
    "   │\n",
    "   ▼\n",
    "return sub_welcome_method\n",
    "   │\n",
    "   ▼\n",
    "course_introduction = sub_welcome_method\n",
    "\n"
   ]
  },
  {
   "cell_type": "code",
   "execution_count": 59,
   "id": "4d31b420",
   "metadata": {},
   "outputs": [
    {
     "name": "stdout",
     "output_type": "stream",
     "text": [
      "Before calling the function.\n",
      "Hello!\n",
      "After calling the function.\n"
     ]
    }
   ],
   "source": [
    "   #Ex2\n",
    "def mydecorator(func):\n",
    "    def wrapper():\n",
    "        print(\"Before calling the function.\")\n",
    "        func()\n",
    "        print(\"After calling the function.\")\n",
    "    return wrapper\n",
    "@mydecorator\n",
    "def say_hello():\n",
    "    print(\"Hello!\")\n",
    "say_hello()"
   ]
  },
  {
   "cell_type": "code",
   "execution_count": null,
   "id": "7b0a5f83",
   "metadata": {},
   "outputs": [
    {
     "name": "stdout",
     "output_type": "stream",
     "text": [
      "Hello, Alice!\n",
      "Hello, Alice!\n",
      "Hello, Alice!\n"
     ]
    }
   ],
   "source": [
    "#  Decorator with arguments\n",
    "def reapet_decorator(n):\n",
    "    def decorator(func):\n",
    "        def wrapper(*args,**kwargs):\n",
    "            for _ in range(n):\n",
    "                func(*args,**kwargs)\n",
    "        return wrapper\n",
    "    return decorator\n",
    "@reapet_decorator(3)\n",
    "def greet(name):\n",
    "    print(f\"Hello,  {name}!\")\n",
    "greet(\"Alice\")\n",
    "\n",
    "\n",
    "# Decorator to measure execution time"
   ]
  },
  {
   "cell_type": "code",
   "execution_count": null,
   "id": "574a908b",
   "metadata": {},
   "outputs": [],
   "source": []
  }
 ],
 "metadata": {
  "kernelspec": {
   "display_name": "venv",
   "language": "python",
   "name": "python3"
  },
  "language_info": {
   "codemirror_mode": {
    "name": "ipython",
    "version": 3
   },
   "file_extension": ".py",
   "mimetype": "text/x-python",
   "name": "python",
   "nbconvert_exporter": "python",
   "pygments_lexer": "ipython3",
   "version": "3.13.7"
  }
 },
 "nbformat": 4,
 "nbformat_minor": 5
}
