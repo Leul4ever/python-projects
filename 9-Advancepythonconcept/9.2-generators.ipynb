{
 "cells": [
  {
   "cell_type": "markdown",
   "id": "0fddda10",
   "metadata": {},
   "source": [
    "A generator is a special type of iterator that lets you generate values on the fly, instead of storing them all in memory at once.\n",
    "A generator is a special kind of function that gives you one value at a time, instead of giving all results at onc"
   ]
  },
  {
   "cell_type": "code",
   "execution_count": 4,
   "id": "0b49dc3c",
   "metadata": {},
   "outputs": [],
   "source": [
    "def square(n):\n",
    "    for i in range(3):\n",
    "        yield i **2\n",
    "\n"
   ]
  },
  {
   "cell_type": "code",
   "execution_count": 6,
   "id": "cef56cf7",
   "metadata": {},
   "outputs": [
    {
     "data": {
      "text/plain": [
       "<generator object square at 0x000001893C5775E0>"
      ]
     },
     "execution_count": 6,
     "metadata": {},
     "output_type": "execute_result"
    }
   ],
   "source": [
    "square(3)"
   ]
  },
  {
   "cell_type": "code",
   "execution_count": 7,
   "id": "9f5f374e",
   "metadata": {},
   "outputs": [
    {
     "name": "stdout",
     "output_type": "stream",
     "text": [
      "[0, 1, 2, 3, 4]\n"
     ]
    }
   ],
   "source": [
    "#  Normal function  \n",
    "def normal_numbers():\n",
    "    return [0, 1, 2, 3, 4]\n",
    "print(normal_numbers())"
   ]
  },
  {
   "cell_type": "code",
   "execution_count": 18,
   "id": "8b5f8a24",
   "metadata": {},
   "outputs": [
    {
     "name": "stdout",
     "output_type": "stream",
     "text": [
      "<generator object num_generator at 0x000001893CD63ED0>\n",
      "1\n",
      "2\n",
      "3\n",
      "4\n",
      "5\n"
     ]
    }
   ],
   "source": [
    "# generator function\n",
    "def num_generator():\n",
    "    for i in range(1,6):\n",
    "        yield i   # <- 'yield' makes it a generator\n",
    "gen = num_generator()\n",
    "print(gen)\n",
    "for number in gen:\n",
    "    print(number)\n",
    "\n",
    "\n",
    "\n"
   ]
  },
  {
   "cell_type": "code",
   "execution_count": 19,
   "id": "33f630e9",
   "metadata": {},
   "outputs": [
    {
     "name": "stdout",
     "output_type": "stream",
     "text": [
      "0\n",
      "1\n",
      "4\n"
     ]
    }
   ],
   "source": [
    "def square (n):\n",
    "    for i in range(3):\n",
    "        yield i **2\n",
    "for num in square(3):\n",
    "    print(num)"
   ]
  },
  {
   "cell_type": "code",
   "execution_count": 20,
   "id": "7b01d06a",
   "metadata": {},
   "outputs": [
    {
     "name": "stdout",
     "output_type": "stream",
     "text": [
      "<generator object square at 0x000001893C6B1CB0>\n"
     ]
    }
   ],
   "source": [
    "a = square(3)\n",
    "print(a)"
   ]
  },
  {
   "cell_type": "code",
   "execution_count": 24,
   "id": "bf9a27f2",
   "metadata": {},
   "outputs": [
    {
     "name": "stdout",
     "output_type": "stream",
     "text": [
      "Ethiopia is one of the oldest countries in Africa;[1] the emergence of Ethiopian civilization dates back thousands of years. Abyssinia or rather \"Ze Etiyopia\" was ruled by the Semitic Abyssinians (Habesha) composed mainly of the Amhara, Tigrayans and the Cushitic Agaw. In the Eastern escarpment of the Ethiopian highlands and more so the lowlands were the home of the various Muslim groups that formed the Ifat and Adal sultanates such as the Argobba, Afars, Harari/Harla and Somalis. In the central and south were found the ancient Sidama, Semitic Gurage and Omotic Wolaita, among others.\n",
      "\n",
      "\n",
      "\n",
      "One of the first kingdoms to rise to power in the territory was the kingdom of D'mt in the 10th century BC, which established its capital at Yeha. In the first century AD, the Aksumite Kingdom rose to power in the modern Tigray Region with its capital at Aksum and grew into a major power on the Red Sea, subjugating South Arabia and Meroe and its surrounding areas. In the early fourth century, during the reign of Ezana, Christianity was declared the state religion and not long after, the Aksumite empire fell into decline with the rise of Islam in the Arabian peninsula, which slowly shifted trade away from the Christian Aksum.[citation needed] It eventually became isolated, its economy slumped and Aksum's commercial domination of the region ended.[2] The Aksumites gave way to the Zagwe dynasty, who established a new capital at Lalibela before giving way to the Solomonic dynasty in the 13th century. During the early Solomonic period, Ethiopia underwent military refo\n"
     ]
    }
   ],
   "source": [
    "# practical reading large file line by line using generator\n",
    "def read_large_file(file_path):\n",
    "    with open(file_path,'r') as file:\n",
    "        for line in file:\n",
    "            yield line\n",
    "\n",
    "file_path='large_file.txt'\n",
    "\n",
    "for line in read_large_file(file_path):\n",
    "    print(line)\n"
   ]
  },
  {
   "cell_type": "code",
   "execution_count": null,
   "id": "b54befe1",
   "metadata": {},
   "outputs": [],
   "source": [
    "    "
   ]
  }
 ],
 "metadata": {
  "kernelspec": {
   "display_name": "venv",
   "language": "python",
   "name": "python3"
  },
  "language_info": {
   "codemirror_mode": {
    "name": "ipython",
    "version": 3
   },
   "file_extension": ".py",
   "mimetype": "text/x-python",
   "name": "python",
   "nbconvert_exporter": "python",
   "pygments_lexer": "ipython3",
   "version": "3.13.7"
  }
 },
 "nbformat": 4,
 "nbformat_minor": 5
}
