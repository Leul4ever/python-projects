{
 "cells": [
  {
   "cell_type": "markdown",
   "id": "0fddda10",
   "metadata": {},
   "source": [
    "A generator is a special type of iterator that lets you generate values on the fly, instead of storing them all in memory at once.\n",
    "A generator is a special kind of function that gives you one value at a time, instead of giving all results at onc"
   ]
  },
  {
   "cell_type": "code",
   "execution_count": 4,
   "id": "0b49dc3c",
   "metadata": {},
   "outputs": [],
   "source": [
    "def square(n):\n",
    "    for i in range(3):\n",
    "        yield i **2\n",
    "\n"
   ]
  },
  {
   "cell_type": "code",
   "execution_count": 6,
   "id": "cef56cf7",
   "metadata": {},
   "outputs": [
    {
     "data": {
      "text/plain": [
       "<generator object square at 0x000001893C5775E0>"
      ]
     },
     "execution_count": 6,
     "metadata": {},
     "output_type": "execute_result"
    }
   ],
   "source": [
    "square(3)"
   ]
  },
  {
   "cell_type": "code",
   "execution_count": 7,
   "id": "9f5f374e",
   "metadata": {},
   "outputs": [
    {
     "name": "stdout",
     "output_type": "stream",
     "text": [
      "[0, 1, 2, 3, 4]\n"
     ]
    }
   ],
   "source": [
    "#  Normal function  \n",
    "def normal_numbers():\n",
    "    return [0, 1, 2, 3, 4]\n",
    "print(normal_numbers())"
   ]
  },
  {
   "cell_type": "code",
   "execution_count": 18,
   "id": "8b5f8a24",
   "metadata": {},
   "outputs": [
    {
     "name": "stdout",
     "output_type": "stream",
     "text": [
      "<generator object num_generator at 0x000001893CD63ED0>\n",
      "1\n",
      "2\n",
      "3\n",
      "4\n",
      "5\n"
     ]
    }
   ],
   "source": [
    "# generator function\n",
    "def num_generator():\n",
    "    for i in range(1,6):\n",
    "        yield i   # <- 'yield' makes it a generator\n",
    "gen = num_generator()\n",
    "print(gen)\n",
    "for number in gen:\n",
    "    print(number)\n",
    "\n",
    "\n",
    "\n"
   ]
  },
  {
   "cell_type": "code",
   "execution_count": 19,
   "id": "33f630e9",
   "metadata": {},
   "outputs": [
    {
     "name": "stdout",
     "output_type": "stream",
     "text": [
      "0\n",
      "1\n",
      "4\n"
     ]
    }
   ],
   "source": [
    "def square (n):\n",
    "    for i in range(3):\n",
    "        yield i **2\n",
    "for num in square(3):\n",
    "    print(num)"
   ]
  },
  {
   "cell_type": "code",
   "execution_count": 20,
   "id": "7b01d06a",
   "metadata": {},
   "outputs": [
    {
     "name": "stdout",
     "output_type": "stream",
     "text": [
      "<generator object square at 0x000001893C6B1CB0>\n"
     ]
    }
   ],
   "source": [
    "a = square(3)\n",
    "print(a)"
   ]
  },
  {
   "cell_type": "code",
   "execution_count": null,
   "id": "b54befe1",
   "metadata": {},
   "outputs": [
    {
     "name": "stdout",
     "output_type": "stream",
     "text": [
      "Ethiopia is one of the oldest countries in Africa\n",
      "Ethiopia is one of the oldest countries in Africa\n",
      "my name is Leul Abera\n",
      "I am software Engineer\n",
      "I live in addis Ababa\n",
      "\n"
     ]
    }
   ],
   "source": [
    "# practical reading large file line by line using generator\n",
    "def read_large_file(file_path):\n",
    "    with open(file_path,'r') as file:\n",
    "        for line in file:\n",
    "            yield line\n",
    "\n",
    "file_path = 'large_file.txt'\n",
    "en = read_large_file(file_path)\n",
    "print(next(en).strip())  # prints only the first yielded line\n",
    "\n",
    "for line in read_large_file(file_path):\n",
    "    print(line.strip())\n"
   ]
  },
  {
   "cell_type": "code",
   "execution_count": null,
   "id": "3a015f74",
   "metadata": {},
   "outputs": [],
   "source": []
  }
 ],
 "metadata": {
  "kernelspec": {
   "display_name": "venv",
   "language": "python",
   "name": "python3"
  },
  "language_info": {
   "codemirror_mode": {
    "name": "ipython",
    "version": 3
   },
   "file_extension": ".py",
   "mimetype": "text/x-python",
   "name": "python",
   "nbconvert_exporter": "python",
   "pygments_lexer": "ipython3",
   "version": "3.13.7"
  }
 },
 "nbformat": 4,
 "nbformat_minor": 5
}
