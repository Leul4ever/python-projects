{
 "cells": [
  {
   "cell_type": "code",
   "execution_count": 8,
   "id": "0ea77608",
   "metadata": {},
   "outputs": [
    {
     "name": "stdout",
     "output_type": "stream",
     "text": [
      "child name :Leul,Age:12\n",
      "parent name Leul\n",
      "\n",
      "--- Multiple Inheritance Example ---\n",
      "\n",
      "mother loves cooking \n",
      "Father loves driving \n",
      "Doughter loves printing \n"
     ]
    }
   ],
   "source": [
    "## single inheritance \n",
    "class Parent:\n",
    "    def __init__(self,name ):\n",
    "        self.name = name\n",
    "    def show_name(self):\n",
    "        print(f\"parent name {self.name}\")\n",
    "class child(Parent):\n",
    "    def __init__(self, name,age):\n",
    "        #call the constructor of parent\n",
    "        super().__init__(name)\n",
    "        self.age=age\n",
    "    \n",
    "    def show_info(self):\n",
    "        print(f\"child name :{self.name},Age:{self.age}\")\n",
    "    \n",
    "# create child object (inherits from parent)\n",
    "child = child(\"Leul\",12)\n",
    "child.show_info()\n",
    "child.show_name()\n",
    "print(\"\\n--- Multiple Inheritance Example ---\\n\")\n",
    "## example of mulitple inheritance \n",
    "class Mother:\n",
    "    def cooking(self):\n",
    "        print(\"mother loves cooking \")\n",
    "class Father:\n",
    "    def driving(self):\n",
    "        print(\"Father loves driving \")\n",
    "class Doughter(Mother,Father):\n",
    "    def hobby(self):\n",
    "        print(\"Doughter loves printing \")\n",
    "D= Doughter()\n",
    "D.cooking()\n",
    "D.driving()\n",
    "D.hobby()\n",
    "\n",
    "    "
   ]
  },
  {
   "cell_type": "markdown",
   "id": "893ef7e0",
   "metadata": {},
   "source": []
  },
  {
   "cell_type": "code",
   "execution_count": null,
   "id": "3d0afd58",
   "metadata": {},
   "outputs": [],
   "source": []
  }
 ],
 "metadata": {
  "kernelspec": {
   "display_name": "venv",
   "language": "python",
   "name": "python3"
  },
  "language_info": {
   "codemirror_mode": {
    "name": "ipython",
    "version": 3
   },
   "file_extension": ".py",
   "mimetype": "text/x-python",
   "name": "python",
   "nbconvert_exporter": "python",
   "pygments_lexer": "ipython3",
   "version": "3.13.7"
  }
 },
 "nbformat": 4,
 "nbformat_minor": 5
}
