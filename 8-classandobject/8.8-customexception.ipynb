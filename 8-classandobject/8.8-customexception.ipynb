{
 "cells": [
  {
   "cell_type": "code",
   "execution_count": 6,
   "id": "ad7707f8",
   "metadata": {},
   "outputs": [],
   "source": [
    "# Custom Exception (Raise and Throw  an Exception)\n",
    "class Error(Exception):\n",
    "    [\"\"\"Base class for other exceptions\"\"\" ]\n",
    "    pass\n",
    "class dobException(Error):\n",
    "    pass\n",
    " \n"
   ]
  },
  {
   "cell_type": "code",
   "execution_count": 15,
   "id": "f6e0499e",
   "metadata": {},
   "outputs": [
    {
     "ename": "ValueError",
     "evalue": "invalid literal for int() with base 10: ''",
     "output_type": "error",
     "traceback": [
      "\u001b[31m---------------------------------------------------------------------------\u001b[39m",
      "\u001b[31mValueError\u001b[39m                                Traceback (most recent call last)",
      "\u001b[36mCell\u001b[39m\u001b[36m \u001b[39m\u001b[32mIn[15]\u001b[39m\u001b[32m, line 6\u001b[39m\n\u001b[32m      3\u001b[39m     \u001b[38;5;28;01mpass\u001b[39;00m\n\u001b[32m      5\u001b[39m \u001b[38;5;66;03m# Step 2: Use it in your logic\u001b[39;00m\n\u001b[32m----> \u001b[39m\u001b[32m6\u001b[39m year = \u001b[38;5;28;43mint\u001b[39;49m\u001b[43m(\u001b[49m\u001b[38;5;28;43minput\u001b[39;49m\u001b[43m(\u001b[49m\u001b[33;43m\"\u001b[39;49m\u001b[33;43mEnter your birth year: \u001b[39;49m\u001b[33;43m\"\u001b[39;49m\u001b[43m)\u001b[49m\u001b[43m)\u001b[49m\n\u001b[32m      7\u001b[39m age = \u001b[32m2025\u001b[39m - year\n\u001b[32m      9\u001b[39m \u001b[38;5;28;01mtry\u001b[39;00m:\n",
      "\u001b[31mValueError\u001b[39m: invalid literal for int() with base 10: ''"
     ]
    }
   ],
   "source": [
    "# Step 1: Define a custom exception\n",
    "class AgeNotValidError(Exception):\n",
    "    pass\n",
    "\n",
    "# Step 2: Use it in your logic\n",
    "year = int(input(\"Enter your birth year: \"))\n",
    "age = 2025 - year\n",
    "\n",
    "try:\n",
    "    if 20 <= age <= 30:\n",
    "        print(\" You can apply for the job.\")\n",
    "    else:\n",
    "        raise AgeNotValidError(\" Your age is not within the valid range (20–30).\")\n",
    "except AgeNotValidError as e:\n",
    "  print(\"Error:\", e)\n"
   ]
  },
  {
   "cell_type": "code",
   "execution_count": null,
   "id": "1d8c0d0d",
   "metadata": {},
   "outputs": [],
   "source": []
  }
 ],
 "metadata": {
  "kernelspec": {
   "display_name": "venv",
   "language": "python",
   "name": "python3"
  },
  "language_info": {
   "codemirror_mode": {
    "name": "ipython",
    "version": 3
   },
   "file_extension": ".py",
   "mimetype": "text/x-python",
   "name": "python",
   "nbconvert_exporter": "python",
   "pygments_lexer": "ipython3",
   "version": "3.13.7"
  }
 },
 "nbformat": 4,
 "nbformat_minor": 5
}
