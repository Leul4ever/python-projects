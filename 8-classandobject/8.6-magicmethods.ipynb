{
 "cells": [
  {
   "cell_type": "markdown",
   "id": "b17c53dc",
   "metadata": {},
   "source": [
    "Definition of Magic Methods in Python\n",
    "\n",
    "Magic methods (also called dunder methods, short for “double underscore”) are special built-in methods in Python that start and end with double underscores — like __init__, __str__, __add__, etc.\n",
    "\n",
    "They let you customize the behavior of your objects in certain situations, such as object creation, printing, arithmetic operations, and comparisons."
   ]
  },
  {
   "cell_type": "code",
   "execution_count": null,
   "id": "81fd511b",
   "metadata": {},
   "outputs": [
    {
     "name": "stdout",
     "output_type": "stream",
     "text": [
      "Leul\n",
      "John\n"
     ]
    }
   ],
   "source": [
    "class Person:\n",
    "    def __init__(self, name):\n",
    "        self.name = name\n",
    "\n",
    "p = Person(\"Leul\")\n",
    "print(p.name) #Leul\n",
    "p.name = \"John\"\n",
    "print(p.name) #John\n",
    "#__init__ is a magic method that runs automatically after you \n",
    "# create the object.\n",
    "\n",
    "\n"
   ]
  },
  {
   "cell_type": "code",
   "execution_count": 2,
   "id": "009d58b5",
   "metadata": {},
   "outputs": [
    {
     "name": "stdout",
     "output_type": "stream",
     "text": [
      "Person name is Leul\n"
     ]
    }
   ],
   "source": [
    "# Example 2: __str__ — String Representation\n",
    "\n",
    "# Controls what’s printed when you do print(object).\n",
    "\n",
    "class Person:\n",
    "    def __init__(self, name):\n",
    "        self.name = name\n",
    "\n",
    "    def __str__(self):\n",
    "        return f\"Person name is {self.name}\"\n",
    "\n",
    "p = Person(\"Leul\")\n",
    "print(p)\n",
    "# Person name is Leul\n",
    "# Without __str__, you’d see something like:\n",
    "\n",
    "# <__main__.Person object at 0x000001DDFF565810>"
   ]
  },
  {
   "cell_type": "code",
   "execution_count": null,
   "id": "e14ae173",
   "metadata": {},
   "outputs": [],
   "source": []
  }
 ],
 "metadata": {
  "kernelspec": {
   "display_name": "venv",
   "language": "python",
   "name": "python3"
  },
  "language_info": {
   "codemirror_mode": {
    "name": "ipython",
    "version": 3
   },
   "file_extension": ".py",
   "mimetype": "text/x-python",
   "name": "python",
   "nbconvert_exporter": "python",
   "pygments_lexer": "ipython3",
   "version": "3.13.7"
  }
 },
 "nbformat": 4,
 "nbformat_minor": 5
}
