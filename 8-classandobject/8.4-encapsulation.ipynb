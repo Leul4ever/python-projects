{
 "cells": [
  {
   "cell_type": "markdown",
   "id": "6079b21f",
   "metadata": {},
   "source": [
    "Encapsulation is the concept of wrapping data(variable ) and methods(fucntion ) together as single unit. it restrict direct access of some of the boject's components , which is means of preventing accidental interference and misuse of the data\n"
   ]
  },
  {
   "cell_type": "code",
   "execution_count": null,
   "id": "3b9008ac",
   "metadata": {},
   "outputs": [
    {
     "name": "stdout",
     "output_type": "stream",
     "text": [
      "Leul \n"
     ]
    }
   ],
   "source": [
    "# Encapsulation  with getter and setter methods\n",
    "## public , protected , private variables  or access specifiers in python\n",
    "\n",
    "class Person: \n",
    "    def __init__(self, name, age):\n",
    "        self.name = name          # public variable\n",
    "        self.age = age       # public variable\n",
    "person = Person('Leul ',24)\n",
    "print(person.name)       # protected variable\n",
    "   \n"
   ]
  },
  {
   "cell_type": "code",
   "execution_count": 16,
   "id": "dda7dadb",
   "metadata": {},
   "outputs": [
    {
     "name": "stdout",
     "output_type": "stream",
     "text": [
      "Leul \n",
      "24\n"
     ]
    }
   ],
   "source": [
    "class Person: \n",
    "    def __init__(self, name, age):\n",
    "        self.__name = name          # private variable\n",
    "        self.__age = age       # private variable\n",
    "    def get_name(person ):\n",
    "      return person.__name\n",
    "    def get_age(person):\n",
    "      return person.__age\n",
    "person= Person('Leul ',24)\n",
    "print(person.get_name())     \n",
    "print(person.get_age())    # AttributeError: 'Person' object has no attribute '__name'"
   ]
  },
  {
   "cell_type": "code",
   "execution_count": 19,
   "id": "537f78ea",
   "metadata": {},
   "outputs": [
    {
     "name": "stdout",
     "output_type": "stream",
     "text": [
      "Leul\n",
      "Samson\n",
      "25\n"
     ]
    }
   ],
   "source": [
    "## getter and setter methods\n",
    "# Getter → to read a private variable safely\n",
    "# Setter → to update a private variable safely\n",
    "\n",
    "class Person:\n",
    "    def __init__(self,name, age):\n",
    "        self.__name=name\n",
    "        self.__age=age\n",
    "    #getter for name \n",
    "    def get_name(self):\n",
    "        return self.__name\n",
    "    #setter for name\n",
    "    def set_name(self , name):\n",
    "        self.__name= name \n",
    "\n",
    "    #getter for age\n",
    "    def get_age(self):\n",
    "        return self.__age\n",
    "    #setter for age\n",
    "    def set_age(self, age):\n",
    "        if age <0:\n",
    "            print(\"Age cannot be negative\")\n",
    "        else:\n",
    "            self.__age= age\n",
    "person= Person(\"Leul\",24)\n",
    "print(person.get_name())\n",
    "person.set_name(\"Samson\")\n",
    "person.set_age(25)\n",
    "print(person.get_name())\n",
    "print(person.get_age())\n"
   ]
  },
  {
   "cell_type": "markdown",
   "id": "a57cfbf2",
   "metadata": {},
   "source": [
    "Protected Attributes — Single Underscore _\n",
    "\n",
    "A single underscore prefix (e.g., _name) means:\n",
    "👉 “This is intended for internal use in this class or its subclasses. Please don’t access it from outside unless you know what you’re doing.”\n",
    "\n",
    "It's not truly private — you can still access it from outside — but by convention, you shouldn’t."
   ]
  },
  {
   "cell_type": "code",
   "execution_count": null,
   "id": "63c2b358",
   "metadata": {},
   "outputs": [
    {
     "name": "stdout",
     "output_type": "stream",
     "text": [
      "Leul\n",
      "24\n"
     ]
    }
   ],
   "source": [
    "# protected variable\n",
    "class Person:   \n",
    "    def __init__(self,name, age):\n",
    "        self._name=name # protected variable\n",
    "        self._age=age  #PROTECTED variable\n",
    "\n",
    "class Student(Person):\n",
    "    def __init__(self, name, age):\n",
    "        super().__init__(name,age)\n",
    "Student = Student(\"Leul\",24)\n",
    "print(Student._name)  # accessing protected variable\n",
    "print(Student._age)   # accessing protected variable"
   ]
  },
  {
   "cell_type": "code",
   "execution_count": null,
   "id": "72cd04a5",
   "metadata": {},
   "outputs": [],
   "source": []
  }
 ],
 "metadata": {
  "kernelspec": {
   "display_name": "venv",
   "language": "python",
   "name": "python3"
  },
  "language_info": {
   "codemirror_mode": {
    "name": "ipython",
    "version": 3
   },
   "file_extension": ".py",
   "mimetype": "text/x-python",
   "name": "python",
   "nbconvert_exporter": "python",
   "pygments_lexer": "ipython3",
   "version": "3.13.7"
  }
 },
 "nbformat": 4,
 "nbformat_minor": 5
}
