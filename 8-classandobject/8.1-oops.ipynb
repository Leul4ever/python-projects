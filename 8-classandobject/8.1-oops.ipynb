{
 "cells": [
  {
   "cell_type": "code",
   "execution_count": 3,
   "id": "787cfce9",
   "metadata": {},
   "outputs": [
    {
     "name": "stdout",
     "output_type": "stream",
     "text": [
      "<class '__main__.Car'>\n",
      "<__main__.Car object at 0x0000022D749DC050>\n"
     ]
    }
   ],
   "source": [
    "## class is a blue print of of creating object . attributes and methods\n",
    "class Car :\n",
    "  pass\n",
    "bmw = Car()\n",
    "audi= Car()\n",
    "print(type(audi))\n",
    "print(audi )"
   ]
  },
  {
   "cell_type": "code",
   "execution_count": 4,
   "id": "b4963498",
   "metadata": {},
   "outputs": [
    {
     "name": "stdout",
     "output_type": "stream",
     "text": [
      "4\n"
     ]
    }
   ],
   "source": [
    "audi.windows=4\n",
    "print(audi.windows)"
   ]
  },
  {
   "cell_type": "code",
   "execution_count": 5,
   "id": "bed05f5f",
   "metadata": {},
   "outputs": [
    {
     "name": "stdout",
     "output_type": "stream",
     "text": [
      "4\n"
     ]
    }
   ],
   "source": [
    "audi.windows= 4 \n",
    "print(audi.windows)"
   ]
  },
  {
   "cell_type": "code",
   "execution_count": 6,
   "id": "b8c94e38",
   "metadata": {},
   "outputs": [
    {
     "ename": "AttributeError",
     "evalue": "'Car' object has no attribute 'windows'",
     "output_type": "error",
     "traceback": [
      "\u001b[31m---------------------------------------------------------------------------\u001b[39m",
      "\u001b[31mAttributeError\u001b[39m                            Traceback (most recent call last)",
      "\u001b[36mCell\u001b[39m\u001b[36m \u001b[39m\u001b[32mIn[6]\u001b[39m\u001b[32m, line 3\u001b[39m\n\u001b[32m      1\u001b[39m tata= Car()\n\u001b[32m      2\u001b[39m tata.doors=\u001b[32m4\u001b[39m\n\u001b[32m----> \u001b[39m\u001b[32m3\u001b[39m \u001b[38;5;28mprint\u001b[39m(\u001b[43mtata\u001b[49m\u001b[43m.\u001b[49m\u001b[43mwindows\u001b[49m)\n",
      "\u001b[31mAttributeError\u001b[39m: 'Car' object has no attribute 'windows'"
     ]
    }
   ],
   "source": [
    "tata= Car()\n",
    "tata.doors=4\n",
    "print(tata.windows)"
   ]
  },
  {
   "cell_type": "code",
   "execution_count": 7,
   "id": "fae3ea21",
   "metadata": {},
   "outputs": [
    {
     "data": {
      "text/plain": [
       "['__class__',\n",
       " '__delattr__',\n",
       " '__dict__',\n",
       " '__dir__',\n",
       " '__doc__',\n",
       " '__eq__',\n",
       " '__firstlineno__',\n",
       " '__format__',\n",
       " '__ge__',\n",
       " '__getattribute__',\n",
       " '__getstate__',\n",
       " '__gt__',\n",
       " '__hash__',\n",
       " '__init__',\n",
       " '__init_subclass__',\n",
       " '__le__',\n",
       " '__lt__',\n",
       " '__module__',\n",
       " '__ne__',\n",
       " '__new__',\n",
       " '__reduce__',\n",
       " '__reduce_ex__',\n",
       " '__repr__',\n",
       " '__setattr__',\n",
       " '__sizeof__',\n",
       " '__static_attributes__',\n",
       " '__str__',\n",
       " '__subclasshook__',\n",
       " '__weakref__',\n",
       " 'doors']"
      ]
     },
     "execution_count": 7,
     "metadata": {},
     "output_type": "execute_result"
    }
   ],
   "source": [
    "dir(tata)"
   ]
  },
  {
   "cell_type": "code",
   "execution_count": 3,
   "id": "4cb9ef08",
   "metadata": {},
   "outputs": [
    {
     "name": "stdout",
     "output_type": "stream",
     "text": [
      "<__main__.Dog object at 0x000001DDFEDE3B60>\n",
      "will 6\n"
     ]
    }
   ],
   "source": [
    "## instance variable and methods \n",
    "class Dog :\n",
    "    ## constructor \n",
    "    def __init__(self , name, age ):\n",
    "        self.name= name \n",
    "        self.age= age\n",
    "dog1= Dog(\"will\",6)\n",
    "print(dog1)\n",
    "print(dog1.name ,dog1.age)\n",
    "\n",
    "\n",
    "    \n"
   ]
  },
  {
   "cell_type": "code",
   "execution_count": null,
   "id": "c1b4ab52",
   "metadata": {},
   "outputs": [
    {
     "name": "stdout",
     "output_type": "stream",
     "text": [
      "Buddy say wuuuh\n",
      "will  say wuuuh\n"
     ]
    }
   ],
   "source": [
    "## Define a class with instance methods \n",
    "class Dog :\n",
    "    def __init__(this  , name , age):\n",
    "        this.name =name \n",
    "        this.age=age\n",
    "    def bark (this):\n",
    "        print(f\"{this.name} say wuuuh\")\n",
    "\n",
    "dog1= Dog(\"Buddy\" , 3)\n",
    "dog1.bark()\n",
    "dog2= Dog(\"will \", 4)\n",
    "dog2.bark()\n",
    "\n"
   ]
  },
  {
   "cell_type": "code",
   "execution_count": 21,
   "id": "b835fb34",
   "metadata": {},
   "outputs": [
    {
     "name": "stdout",
     "output_type": "stream",
     "text": [
      "455 is deposited new balance is 5455\n",
      " 500 is withdrawn. New Balance is 4955\n"
     ]
    }
   ],
   "source": [
    "## modeling bank Account \n",
    "class BankAccount:\n",
    "    def __init__(self, owner ,balance):\n",
    "        self.owner= owner\n",
    "        self.balance=balance\n",
    "    def deposit(self,amount):\n",
    "        self.balance+=amount\n",
    "        print(f\"{amount} is deposited new balance is {self.balance}\")\n",
    "    def withdraw(self, amount ):\n",
    "        if amount>self.balance:\n",
    "            print(\"Insufficent Funds \")\n",
    "        else:\n",
    "            self.balance-=amount\n",
    "            print(f\" { amount} is withdrawn. New Balance is {self.balance}\")\n",
    "account=BankAccount('leul ',5000)\n",
    "account.deposit(455)\n",
    "account.withdraw(500)\n",
    "         "
   ]
  },
  {
   "cell_type": "code",
   "execution_count": null,
   "id": "69f7f122",
   "metadata": {},
   "outputs": [],
   "source": []
  }
 ],
 "metadata": {
  "kernelspec": {
   "display_name": "venv",
   "language": "python",
   "name": "python3"
  },
  "language_info": {
   "codemirror_mode": {
    "name": "ipython",
    "version": 3
   },
   "file_extension": ".py",
   "mimetype": "text/x-python",
   "name": "python",
   "nbconvert_exporter": "python",
   "pygments_lexer": "ipython3",
   "version": "3.13.7"
  }
 },
 "nbformat": 4,
 "nbformat_minor": 5
}
