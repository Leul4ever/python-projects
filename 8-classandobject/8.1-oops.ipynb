{
 "cells": [
  {
   "cell_type": "code",
   "execution_count": 9,
   "id": "787cfce9",
   "metadata": {},
   "outputs": [
    {
     "name": "stdout",
     "output_type": "stream",
     "text": [
      "<class '__main__.Car'>\n",
      "<__main__.Car object at 0x00000260B045E710>\n"
     ]
    }
   ],
   "source": [
    "## class is a blue print of of creating object . attributes and methods\n",
    "class Car :\n",
    "  pass\n",
    "bmw = Car()\n",
    "audi= Car()\n",
    "print(type(audi))\n",
    "print(audi )"
   ]
  },
  {
   "cell_type": "code",
   "execution_count": 10,
   "id": "b4963498",
   "metadata": {},
   "outputs": [
    {
     "name": "stdout",
     "output_type": "stream",
     "text": [
      "4\n"
     ]
    }
   ],
   "source": [
    "audi.windows=4\n",
    "print(audi.windows)"
   ]
  },
  {
   "cell_type": "code",
   "execution_count": null,
   "id": "4cb9ef08",
   "metadata": {},
   "outputs": [],
   "source": [
    "## instance variable and methods \n",
    "class dog :\n",
    "    \n"
   ]
  }
 ],
 "metadata": {
  "kernelspec": {
   "display_name": "venv",
   "language": "python",
   "name": "python3"
  },
  "language_info": {
   "codemirror_mode": {
    "name": "ipython",
    "version": 3
   },
   "file_extension": ".py",
   "mimetype": "text/x-python",
   "name": "python",
   "nbconvert_exporter": "python",
   "pygments_lexer": "ipython3",
   "version": "3.13.7"
  }
 },
 "nbformat": 4,
 "nbformat_minor": 5
}
