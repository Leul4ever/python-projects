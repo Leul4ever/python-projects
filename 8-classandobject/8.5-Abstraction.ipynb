{
 "cells": [
  {
   "cell_type": "markdown",
   "id": "bbf185a3",
   "metadata": {},
   "source": [
    "Abstraction in Python is the process of hiding complex implementation details and showing only the essential features of an object.\n",
    "It’s often achieved using abstract classes and abstract methods (via the abc module), which define a blueprint for subclasses without providing full implementation"
   ]
  },
  {
   "cell_type": "code",
   "execution_count": 1,
   "id": "ea4a7dd3",
   "metadata": {},
   "outputs": [
    {
     "name": "stdout",
     "output_type": "stream",
     "text": [
      "Car engine started\n",
      "Bike engine started\n"
     ]
    }
   ],
   "source": [
    "from abc import ABC, abstractmethod \n",
    "## Abstract Base Class\n",
    "class Vehicle(ABC):\n",
    "    @abstractmethod\n",
    "    def start_engine(self):\n",
    "        pass\n",
    "class Car(Vehicle):\n",
    "    def start_engine(self):\n",
    "        print(\"Car engine started\")\n",
    "class Bike(Vehicle):\n",
    "    def start_engine(self):\n",
    "        print(\"Bike engine started\")\n",
    "car = Car()\n",
    "car.start_engine()  # Output: Car engine started\n",
    "bike = Bike()\n",
    "bike.start_engine()  # Output: Bike engine started\n"
   ]
  },
  {
   "cell_type": "code",
   "execution_count": null,
   "id": "4f411839",
   "metadata": {},
   "outputs": [],
   "source": []
  }
 ],
 "metadata": {
  "kernelspec": {
   "display_name": "venv",
   "language": "python",
   "name": "python3"
  },
  "language_info": {
   "codemirror_mode": {
    "name": "ipython",
    "version": 3
   },
   "file_extension": ".py",
   "mimetype": "text/x-python",
   "name": "python",
   "nbconvert_exporter": "python",
   "pygments_lexer": "ipython3",
   "version": "3.13.7"
  }
 },
 "nbformat": 4,
 "nbformat_minor": 5
}
