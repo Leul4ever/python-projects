{
 "cells": [
  {
   "cell_type": "markdown",
   "id": "5fc3dc6a",
   "metadata": {},
   "source": [
    "Operator overloading in Python means giving new meanings to built-in operators (like +, -, *, ==, etc.) when they are used with user-defined objects (like instances of your own classes).\n",
    "\n",
    "👉 In other words, you can make operators work with your classes the way they work with numbers or strings.\n",
    "\n",
    "This is done by defining magic methods (also called dunder methods) inside your class, such as __add__ for +, __sub__ for -, __eq__ for ==, etc."
   ]
  },
  {
   "cell_type": "code",
   "execution_count": 10,
   "id": "b4419ab4",
   "metadata": {},
   "outputs": [
    {
     "name": "stdout",
     "output_type": "stream",
     "text": [
      "v1 + v2 = Vector(6, 8)\n",
      "v1 - v2 = Vector(-2, -2)\n",
      "v1 * 3  = Vector(6, 9)\n",
      "v1 == v2? False\n",
      "Length of v1: 3\n"
     ]
    }
   ],
   "source": [
    "class Vector:\n",
    "    def __init__(self, x, y):\n",
    "        self.x = x\n",
    "        self.y = y\n",
    "\n",
    "    #  Add two vectors using +\n",
    "    def __add__(self, other):\n",
    "        return Vector(self.x + other.x, self.y + other.y)\n",
    "\n",
    "    #  Subtract two vectors using -\n",
    "    def __sub__(self, other):\n",
    "        return Vector(self.x - other.x, self.y - other.y)\n",
    "\n",
    "    #  Multiply a vector by a number (scalar)\n",
    "    def __mul__(self, value):\n",
    "        return Vector(self.x * value, self.y * value)\n",
    "\n",
    "    #  Compare two vectors using ==\n",
    "    def __eq__(self, other):\n",
    "        return self.x == other.x and self.y == other.y\n",
    "\n",
    "    #  Show nice string when we print the vector\n",
    "    def __str__(self):\n",
    "        return f\"Vector({self.x}, {self.y})\"\n",
    "\n",
    "    #  When you use len() on it\n",
    "    def __len__(self):\n",
    "        return int((self.x ** 2 + self.y ** 2) ** 0.5)  # vector length\n",
    "\n",
    "# Create two vectors\n",
    "v1 = Vector(2, 3)\n",
    "v2 = Vector(4, 5)\n",
    "\n",
    "# Use different operators\n",
    "print(\"v1 + v2 =\", v1 + v2)     # calls __add__\n",
    "print(\"v1 - v2 =\", v1 - v2)     # calls __sub__\n",
    "print(\"v1 * 3  =\", v1 * 3)      # calls __mul__\n",
    "print(\"v1 == v2?\", v1 == v2)    # calls __eq__\n",
    "print(\"Length of v1:\", len(v1)) # calls __len__\n"
   ]
  },
  {
   "cell_type": "markdown",
   "id": "ea7b5e7f",
   "metadata": {},
   "source": [
    "Explanation:\n",
    "\n",
    "Normally, + works with numbers or strings.\n",
    "\n",
    "Here, we overloaded + so it can also add two Point objects.\n",
    "\n",
    "When p1 + p2 is used, Python internally calls p1.__add__(p2).\n",
    "| Operator | Magic Method  | Example  |\n",
    "| -------- | ------------- | -------- |\n",
    "| `+`      | `__add__`     | `a + b`  |\n",
    "| `-`      | `__sub__`     | `a - b`  |\n",
    "| `*`      | `__mul__`     | `a * b`  |\n",
    "| `/`      | `__truediv__` | `a / b`  |\n",
    "| `==`     | `__eq__`      | `a == b` |\n",
    "| `<`      | `__lt__`      | `a < b`  |\n",
    "| `>`      | `__gt__`      | `a > b`  |\n"
   ]
  },
  {
   "cell_type": "code",
   "execution_count": null,
   "id": "041a0e6d",
   "metadata": {},
   "outputs": [
    {
     "name": "stdout",
     "output_type": "stream",
     "text": [
      "6 + 8j\n",
      "-7 + 22j\n"
     ]
    }
   ],
   "source": [
    "## Turning A vector into Complex NUmber \n",
    "class Complex:\n",
    "    def __init__(self, real, imag):\n",
    "        self.real = real\n",
    "        self.imag = imag\n",
    "\n",
    "    def __add__(self, other):\n",
    "        return Complex(self.real + other.real, self.imag + other.imag)\n",
    "\n",
    "    def __mul__(self, other):\n",
    "        #\\((a+bi)(c+di)=ac+adi+bci+bdi^{2}\\).  Substitute \\(i^{2}=-1\\): Since \\(i^{2}=-1\\), you can replace \\(bdi^{2}\\) with \\(-bd\\).  Group real and imaginary terms: \n",
    "        # Combine the real terms (\\(ac-bd\\)) and the imaginary terms (\\(ad+bc\\)) to get the final answer in the \n",
    "        # form ((ac-bd)+(ad+bc)i\\). \n",
    "        r = self.real * other.real - self.imag * other.imag\n",
    "        i = self.real * other.imag + self.imag * other.real\n",
    "        return Complex(r, i)\n",
    "\n",
    "    def __str__(self):\n",
    "        return f\"{self.real} + {self.imag}j\"\n",
    "\n",
    "c1 = Complex(2, 3)\n",
    "c2 = Complex(4, 5)\n",
    "print(c1 + c2)  # → 6 + 8j\n",
    "print(c1 * c2)  # → (2*4 - 3*5) + (2*5 + 3*4)j → -7 + 22j\n"
   ]
  },
  {
   "cell_type": "code",
   "execution_count": null,
   "id": "e6f87557",
   "metadata": {},
   "outputs": [],
   "source": []
  }
 ],
 "metadata": {
  "kernelspec": {
   "display_name": "venv",
   "language": "python",
   "name": "python3"
  },
  "language_info": {
   "codemirror_mode": {
    "name": "ipython",
    "version": 3
   },
   "file_extension": ".py",
   "mimetype": "text/x-python",
   "name": "python",
   "nbconvert_exporter": "python",
   "pygments_lexer": "ipython3",
   "version": "3.13.7"
  }
 },
 "nbformat": 4,
 "nbformat_minor": 5
}
