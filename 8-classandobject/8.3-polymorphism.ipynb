{
 "cells": [
  {
   "cell_type": "code",
   "execution_count": 17,
   "id": "96187c22",
   "metadata": {},
   "outputs": [
    {
     "name": "stdout",
     "output_type": "stream",
     "text": [
      "wuhu\n",
      "meow\n",
      "wuhu\n"
     ]
    }
   ],
   "source": [
    "# base class\n",
    "class Animal :\n",
    "    def  speak (self):\n",
    "        return \"Sound of the Animal \"\n",
    "# Derived class \n",
    "class Dog(Animal):\n",
    "    def speak(self):\n",
    "        return \"wuhu\"\n",
    "class Cat(Animal):\n",
    "    def speak(self):\n",
    "        return \"meow\"\n",
    "    \n",
    "def Animal_speak(Animal):\n",
    "    print(Animal.speak())\n",
    "\n",
    "dog= Dog()\n",
    "print(dog.speak())\n",
    "cat=Cat()\n",
    "print(cat.speak())\n",
    "Animal_speak(dog)"
   ]
  },
  {
   "cell_type": "code",
   "execution_count": 22,
   "id": "5dccce25",
   "metadata": {},
   "outputs": [
    {
     "name": "stdout",
     "output_type": "stream",
     "text": [
      "The area is 50.24\n",
      "The area is 12\n"
     ]
    }
   ],
   "source": [
    "# Base class\n",
    "class Shape:\n",
    "    def area(self):\n",
    "        return \"The area of the figure\"\n",
    "\n",
    "# Derived class 1\n",
    "class Rectangle(Shape):\n",
    "    def __init__(self, width, height):\n",
    "        self.width = width\n",
    "        self.height = height\n",
    "\n",
    "    def area(self):\n",
    "        return self.width * self.height\n",
    "\n",
    "# Derived class 2\n",
    "class Circle(Shape):\n",
    "    def __init__(self, radius):\n",
    "        self.radius = radius\n",
    "\n",
    "    def area(self):\n",
    "        return self.radius * self.radius * 3.14\n",
    "\n",
    "# Function demonstrating polymorphism\n",
    "def print_area(shape):\n",
    "    print(f\"The area is {shape.area()}\")\n",
    "\n",
    "# Create objects\n",
    "rectangle = Rectangle(3, 4)\n",
    "circle = Circle(4)\n",
    "\n",
    "# Call function with different objects\n",
    "print_area(circle)\n",
    "print_area(rectangle)\n"
   ]
  },
  {
   "cell_type": "markdown",
   "id": "36c34b0c",
   "metadata": {},
   "source": [
    "Abstract Base classes(Abcs) are used to define  common methods for a group of related objects. they can enforce the derived classed implment particular methods pormoting consistency across defferent implmentations "
   ]
  },
  {
   "cell_type": "code",
   "execution_count": 27,
   "id": "83bb07ce",
   "metadata": {},
   "outputs": [
    {
     "name": "stdout",
     "output_type": "stream",
     "text": [
      "car engine started \n"
     ]
    }
   ],
   "source": [
    "## polymorphism with abstract base classes \n",
    "from abc import ABC ,abstractmethod\n",
    "## define an abstract class\n",
    "class Vehicle(ABC):\n",
    "    @abstractmethod\n",
    "    def start_engine(self):\n",
    "        pass\n",
    "# Derived class1\n",
    "class Car(Vehicle):\n",
    "    def start_engine(self):\n",
    "        return \"car engine started \"\n",
    "\n",
    "class Motorcycle(Vehicle):\n",
    "    def start_engine(self):\n",
    "        return \"Motor cycle Engine started \" \n",
    "# function that demonstrate polymorphism \n",
    "def start_vehicle(vehicle):\n",
    "    print(vehicle.start_engine())\n",
    "       \n",
    "c = Car()\n",
    "m= Motorcycle()\n",
    "start_vehicle (c)\n"
   ]
  },
  {
   "cell_type": "code",
   "execution_count": null,
   "id": "f561ad93",
   "metadata": {},
   "outputs": [],
   "source": []
  }
 ],
 "metadata": {
  "kernelspec": {
   "display_name": "venv",
   "language": "python",
   "name": "python3"
  },
  "language_info": {
   "codemirror_mode": {
    "name": "ipython",
    "version": 3
   },
   "file_extension": ".py",
   "mimetype": "text/x-python",
   "name": "python",
   "nbconvert_exporter": "python",
   "pygments_lexer": "ipython3",
   "version": "3.13.7"
  }
 },
 "nbformat": 4,
 "nbformat_minor": 5
}
