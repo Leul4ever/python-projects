{
 "cells": [
  {
   "cell_type": "code",
   "execution_count": 1,
   "id": "8b10a8ad",
   "metadata": {},
   "outputs": [
    {
     "name": "stdout",
     "output_type": "stream",
     "text": [
      "array('i', [1, 2, 3, 4, 5])\n"
     ]
    }
   ],
   "source": [
    "import array\n",
    "arr= array.array('i',[1,2,3,4,5])\n",
    "print(arr)"
   ]
  },
  {
   "cell_type": "code",
   "execution_count": 3,
   "id": "2f48a9e6",
   "metadata": {},
   "outputs": [
    {
     "name": "stdout",
     "output_type": "stream",
     "text": [
      "78\n",
      "banana\n"
     ]
    }
   ],
   "source": [
    "## random module\n",
    "import random\n",
    "print(random.randint(1,100))\n",
    "print(random.choice(['apple','banana','cherry']))\n"
   ]
  },
  {
   "cell_type": "code",
   "execution_count": 4,
   "id": "395d3cbc",
   "metadata": {},
   "outputs": [
    {
     "name": "stdout",
     "output_type": "stream",
     "text": [
      "d:\\pythonlesson\\python-projects\\module5\n"
     ]
    }
   ],
   "source": [
    "## file and directory access\n",
    "import os\n",
    "print(os.getcwd())\n",
    "os.chdir('..')\n"
   ]
  },
  {
   "cell_type": "code",
   "execution_count": null,
   "id": "71962193",
   "metadata": {},
   "outputs": [],
   "source": [
    "if not os.path.exists('test_dir'):\n",
    "\tos.mkdir('test_dir')\n",
    "file = open('test_dir/example.txt', 'w')\n",
    "file.write('Hello, World!')\n",
    "file.close()\n",
    " "
   ]
  },
  {
   "cell_type": "code",
   "execution_count": 16,
   "id": "962ba8ca",
   "metadata": {},
   "outputs": [
    {
     "data": {
      "text/plain": [
       "'test_dir/destination.txt'"
      ]
     },
     "execution_count": 16,
     "metadata": {},
     "output_type": "execute_result"
    }
   ],
   "source": [
    "## High level operations on files and Collections of files \n",
    "import shutil\n",
    "\n",
    "\n",
    "shutil.copy('source.txt', 'test_dir/destination.txt')"
   ]
  },
  {
   "cell_type": "code",
   "execution_count": 23,
   "id": "1698b42f",
   "metadata": {},
   "outputs": [
    {
     "name": "stdout",
     "output_type": "stream",
     "text": [
      "{\"name\": \"Alice\", \"age\": 30, \"city\": \"New York\"}\n",
      "<class 'str'>\n",
      "{'name': 'Alice', 'age': 30, 'city': 'New York'}\n",
      "<class 'dict'>\n"
     ]
    }
   ],
   "source": [
    "c"
   ]
  },
  {
   "cell_type": "code",
   "execution_count": null,
   "id": "8627de0b",
   "metadata": {},
   "outputs": [],
   "source": [
    "## csv module\n",
    "import csv\n",
    "with open('example.csv',mode='w',newline='') as file:\n",
    "    writer = csv.writer(file)\n",
    "    writer.writerow(['name','age'])\n",
    "    writer.writerow(['Alice',30])\n",
    "    writer.writerow(['Bob',25])\n",
    "\n",
    "    with open('example.csv',mode='r') as file:\n",
    "        reader = csv.reader(file)\n",
    "        for row in reader:\n",
    "            print(row)"
   ]
  },
  {
   "cell_type": "code",
   "execution_count": 32,
   "id": "f615c363",
   "metadata": {},
   "outputs": [
    {
     "name": "stdout",
     "output_type": "stream",
     "text": [
      "2025-10-15 11:24:10.866702\n",
      "2025 10 15\n",
      "2025-10-14 11:24:10.866702\n",
      "2025 10 14\n"
     ]
    }
   ],
   "source": [
    "## DATETIME MODULE \n",
    "import datetime\n",
    "Now = datetime.datetime.now()\n",
    "print(Now)\n",
    "print(Now.year, Now.month, Now.day)\n",
    "YESTERDAY = Now - datetime.timedelta(days=1)\n",
    "print(YESTERDAY)\n",
    "print(YESTERDAY.year, YESTERDAY.month, YESTERDAY.day)"
   ]
  },
  {
   "cell_type": "code",
   "execution_count": null,
   "id": "db517677",
   "metadata": {},
   "outputs": [],
   "source": []
  }
 ],
 "metadata": {
  "kernelspec": {
   "display_name": "venv",
   "language": "python",
   "name": "python3"
  },
  "language_info": {
   "codemirror_mode": {
    "name": "ipython",
    "version": 3
   },
   "file_extension": ".py",
   "mimetype": "text/x-python",
   "name": "python",
   "nbconvert_exporter": "python",
   "pygments_lexer": "ipython3",
   "version": "3.13.7"
  }
 },
 "nbformat": 4,
 "nbformat_minor": 5
}
