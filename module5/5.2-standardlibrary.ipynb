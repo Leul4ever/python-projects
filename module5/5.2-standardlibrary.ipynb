{
 "cells": [
  {
   "cell_type": "code",
   "execution_count": 1,
   "id": "8b10a8ad",
   "metadata": {},
   "outputs": [
    {
     "name": "stdout",
     "output_type": "stream",
     "text": [
      "array('i', [1, 2, 3, 4, 5])\n"
     ]
    }
   ],
   "source": [
    "import array\n",
    "arr= array.array('i',[1,2,3,4,5])\n",
    "print(arr)"
   ]
  },
  {
   "cell_type": "code",
   "execution_count": 3,
   "id": "2f48a9e6",
   "metadata": {},
   "outputs": [
    {
     "name": "stdout",
     "output_type": "stream",
     "text": [
      "78\n",
      "banana\n"
     ]
    }
   ],
   "source": [
    "## random module\n",
    "import random\n",
    "print(random.randint(1,100))\n",
    "print(random.choice(['apple','banana','cherry']))\n"
   ]
  },
  {
   "cell_type": "code",
   "execution_count": 4,
   "id": "395d3cbc",
   "metadata": {},
   "outputs": [
    {
     "name": "stdout",
     "output_type": "stream",
     "text": [
      "d:\\pythonlesson\\python-projects\\module5\n"
     ]
    }
   ],
   "source": [
    "## file and directory access\n",
    "import os\n",
    "print(os.getcwd())\n",
    "os.chdir('..')\n"
   ]
  },
  {
   "cell_type": "code",
   "execution_count": 10,
   "id": "71962193",
   "metadata": {},
   "outputs": [],
   "source": [
    "if not os.path.exists('test_dir'):\n",
    "\tos.mkdir('test_dir')\n",
    "file = open('test_dir/example.txt', 'w')\n",
    "file.write('Hello, World!')\n",
    "file.close()\n"
   ]
  },
  {
   "cell_type": "code",
   "execution_count": null,
   "id": "962ba8ca",
   "metadata": {},
   "outputs": [],
   "source": []
  },
  {
   "cell_type": "code",
   "execution_count": null,
   "id": "1698b42f",
   "metadata": {},
   "outputs": [],
   "source": []
  }
 ],
 "metadata": {
  "kernelspec": {
   "display_name": "venv",
   "language": "python",
   "name": "python3"
  },
  "language_info": {
   "codemirror_mode": {
    "name": "ipython",
    "version": 3
   },
   "file_extension": ".py",
   "mimetype": "text/x-python",
   "name": "python",
   "nbconvert_exporter": "python",
   "pygments_lexer": "ipython3",
   "version": "3.13.7"
  }
 },
 "nbformat": 4,
 "nbformat_minor": 5
}
